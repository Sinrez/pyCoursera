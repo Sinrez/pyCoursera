{
  "nbformat": 4,
  "nbformat_minor": 0,
  "metadata": {
    "colab": {
      "name": "Ez🍉Pandas.ipynb",
      "provenance": [],
      "authorship_tag": "ABX9TyPl1tuPoTlBcbGC4Nvvqob/",
      "include_colab_link": true
    },
    "kernelspec": {
      "name": "python3",
      "display_name": "Python 3"
    },
    "language_info": {
      "name": "python"
    }
  },
  "cells": [
    {
      "cell_type": "markdown",
      "metadata": {
        "id": "view-in-github",
        "colab_type": "text"
      },
      "source": [
        "<a href=\"https://colab.research.google.com/github/Sinrez/pyCoursera/blob/master/Ez%F0%9F%8D%89Pandas.ipynb\" target=\"_parent\"><img src=\"https://colab.research.google.com/assets/colab-badge.svg\" alt=\"Open In Colab\"/></a>"
      ]
    },
    {
      "cell_type": "code",
      "execution_count": 1,
      "metadata": {
        "colab": {
          "base_uri": "https://localhost:8080/"
        },
        "id": "IO3Sjl8u-WpA",
        "outputId": "0e89cce7-2492-4951-8708-ac0b9a4ffc32"
      },
      "outputs": [
        {
          "output_type": "stream",
          "name": "stdout",
          "text": [
            "         course  price  year\n",
            "0  Yummy Python    390  2021\n",
            "1     ez Pandas    190  2022\n"
          ]
        }
      ],
      "source": [
        "import pandas as pd\n",
        "\n",
        "data = {'course': ['Yummy Python', 'ez Pandas'], 'price': [390, 190], 'year': [2021, 2022]}\n",
        "data_frame = pd.DataFrame(data)\n",
        "# тусовочка функции print здесьdata_frame\n",
        "print(data_frame)"
      ]
    },
    {
      "cell_type": "code",
      "source": [
        ""
      ],
      "metadata": {
        "id": "HfUT1Cpo-ecj"
      },
      "execution_count": null,
      "outputs": []
    }
  ]
}