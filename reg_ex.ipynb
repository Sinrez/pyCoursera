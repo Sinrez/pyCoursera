{
  "nbformat": 4,
  "nbformat_minor": 0,
  "metadata": {
    "colab": {
      "name": "reg_ex.ipynb",
      "provenance": [],
      "authorship_tag": "ABX9TyPvo459RbC+0KfQOCsYK3RA",
      "include_colab_link": true
    },
    "kernelspec": {
      "name": "python3",
      "display_name": "Python 3"
    },
    "language_info": {
      "name": "python"
    }
  },
  "cells": [
    {
      "cell_type": "markdown",
      "metadata": {
        "id": "view-in-github",
        "colab_type": "text"
      },
      "source": [
        "<a href=\"https://colab.research.google.com/github/Sinrez/pyCoursera/blob/master/reg_ex.ipynb\" target=\"_parent\"><img src=\"https://colab.research.google.com/assets/colab-badge.svg\" alt=\"Open In Colab\"/></a>"
      ]
    },
    {
      "cell_type": "code",
      "source": [
        "import re\n",
        "import string"
      ],
      "metadata": {
        "id": "hgqq90u1f59z"
      },
      "execution_count": 1,
      "outputs": []
    },
    {
      "cell_type": "code",
      "source": [
        "source = '''I wish I may, I wish I might Have a dish of fish tonight.'''"
      ],
      "metadata": {
        "id": "YvjJIeVf9mov"
      },
      "execution_count": 8,
      "outputs": []
    },
    {
      "cell_type": "code",
      "execution_count": 2,
      "metadata": {
        "id": "9ZYC1ng6-1wV"
      },
      "outputs": [],
      "source": [
        "\n",
        ">>> youpattern = re.compile('You')"
      ]
    },
    {
      "cell_type": "code",
      "source": [
        ">>> import re\n",
        ">>> source = 'Young Frankenstein'\n",
        ">>> m = re.match('You', source) # функция начинает работать с начала источника\n",
        ">>> if m: # функция возвращает объект; делайте это, чтобы увидеть, что совпало\n",
        "   print(m.group())"
      ],
      "metadata": {
        "colab": {
          "base_uri": "https://localhost:8080/"
        },
        "id": "kVczJ-XuAA0v",
        "outputId": "3114815e-a641-42ff-bbd2-6c25e394eb07"
      },
      "execution_count": 3,
      "outputs": [
        {
          "output_type": "stream",
          "name": "stdout",
          "text": [
            "You\n"
          ]
        }
      ]
    },
    {
      "cell_type": "code",
      "source": [
        "source = 'Young Frankenstein'\n",
        ">>> m = re.match('Frank', source)\n",
        ">>> if m:\n",
        "...     print(m.group())"
      ],
      "metadata": {
        "id": "4zNbIdvMAFie"
      },
      "execution_count": null,
      "outputs": []
    },
    {
      "cell_type": "code",
      "source": [
        ">>> import re\n",
        ">>> source = 'Young Frankenstein'\n",
        ">>> m = re.search('Frank', source)\n",
        ">>> if m:\n",
        "     print(m.group())"
      ],
      "metadata": {
        "colab": {
          "base_uri": "https://localhost:8080/"
        },
        "id": "Kt9EfSByBrRS",
        "outputId": "cce1c971-aafb-4818-8824-69070c6a2af9"
      },
      "execution_count": null,
      "outputs": [
        {
          "output_type": "stream",
          "name": "stdout",
          "text": [
            "Frank\n"
          ]
        }
      ]
    },
    {
      "cell_type": "code",
      "source": [
        ">>> m = re.match('.*Frank', source)\n",
        ">>> if m:  # функция match возвращает объект\n",
        "...     print(m.group())"
      ],
      "metadata": {
        "colab": {
          "base_uri": "https://localhost:8080/"
        },
        "id": "uCECaOkdB5Yo",
        "outputId": "e29b4e40-63ea-4073-a34e-527556806d61"
      },
      "execution_count": null,
      "outputs": [
        {
          "output_type": "stream",
          "name": "stdout",
          "text": [
            "Young Frank\n"
          ]
        }
      ]
    },
    {
      "cell_type": "code",
      "source": [
        ">>> import re\n",
        ">>> source = 'Young Frankenstein'\n",
        ">>> m = re.findall('n.', source)\n",
        "print(m)"
      ],
      "metadata": {
        "colab": {
          "base_uri": "https://localhost:8080/"
        },
        "id": "a_IA78HqCMzQ",
        "outputId": "e3fd96a7-c940-4a94-97dd-e2f2a8c5bde4"
      },
      "execution_count": null,
      "outputs": [
        {
          "output_type": "stream",
          "name": "stdout",
          "text": [
            "['ng', 'nk', 'ns']\n"
          ]
        }
      ]
    },
    {
      "cell_type": "code",
      "source": [
        ">>> import re\n",
        ">>> source = 'Young Frankenstein'\n",
        ">>> m = re.split('n', source)\n",
        "print(m)"
      ],
      "metadata": {
        "colab": {
          "base_uri": "https://localhost:8080/"
        },
        "id": "VqIWsZF5OvkG",
        "outputId": "6b101ae3-fe4f-4ea8-87e3-d70e8654e5ea"
      },
      "execution_count": null,
      "outputs": [
        {
          "output_type": "stream",
          "name": "stdout",
          "text": [
            "['You', 'g Fra', 'ke', 'stei', '']\n"
          ]
        }
      ]
    },
    {
      "cell_type": "code",
      "source": [
        ">>> import re\n",
        ">>> source = 'Young Frankenstein'\n",
        ">>> m = re.sub('n', '?', source)\n",
        "print(m)"
      ],
      "metadata": {
        "colab": {
          "base_uri": "https://localhost:8080/"
        },
        "id": "JB22yrSuPRGB",
        "outputId": "e5f0fad6-562c-41df-dac2-a993da6263df"
      },
      "execution_count": null,
      "outputs": [
        {
          "output_type": "stream",
          "name": "stdout",
          "text": [
            "You?g Fra?ke?stei?\n"
          ]
        }
      ]
    },
    {
      "cell_type": "code",
      "source": [
        ">>> \n",
        ">>> printable = string.printable\n",
        ">>> print(len(printable))\n",
        "\n",
        "print(printable[0:50])\n",
        "print(printable[50:])"
      ],
      "metadata": {
        "colab": {
          "base_uri": "https://localhost:8080/"
        },
        "id": "r8hBhQAgPty6",
        "outputId": "d362cd80-4d45-4400-f431-b6f51994d680"
      },
      "execution_count": null,
      "outputs": [
        {
          "output_type": "stream",
          "name": "stdout",
          "text": [
            "100\n",
            "0123456789abcdefghijklmnopqrstuvwxyzABCDEFGHIJKLMN\n",
            "OPQRSTUVWXYZ!\"#$%&'()*+,-./:;<=>?@[\\]^_`{|}~ \t\n",
            "\r\u000b\f\n"
          ]
        }
      ]
    },
    {
      "cell_type": "code",
      "source": [
        "re.findall('\\d', printable)"
      ],
      "metadata": {
        "colab": {
          "base_uri": "https://localhost:8080/"
        },
        "id": "jlg8pvnTxI9B",
        "outputId": "c5a7345b-0e3d-4b14-d13b-f44eaaf24661"
      },
      "execution_count": null,
      "outputs": [
        {
          "output_type": "execute_result",
          "data": {
            "text/plain": [
              "['0', '1', '2', '3', '4', '5', '6', '7', '8', '9']"
            ]
          },
          "metadata": {},
          "execution_count": 6
        }
      ]
    },
    {
      "cell_type": "code",
      "source": [
        "re.findall('\\w', printable)"
      ],
      "metadata": {
        "colab": {
          "base_uri": "https://localhost:8080/"
        },
        "id": "EDKApmNfxQ9M",
        "outputId": "c704fe24-32d4-4c11-91ed-15641a8ee563"
      },
      "execution_count": null,
      "outputs": [
        {
          "output_type": "execute_result",
          "data": {
            "text/plain": [
              "['0',\n",
              " '1',\n",
              " '2',\n",
              " '3',\n",
              " '4',\n",
              " '5',\n",
              " '6',\n",
              " '7',\n",
              " '8',\n",
              " '9',\n",
              " 'a',\n",
              " 'b',\n",
              " 'c',\n",
              " 'd',\n",
              " 'e',\n",
              " 'f',\n",
              " 'g',\n",
              " 'h',\n",
              " 'i',\n",
              " 'j',\n",
              " 'k',\n",
              " 'l',\n",
              " 'm',\n",
              " 'n',\n",
              " 'o',\n",
              " 'p',\n",
              " 'q',\n",
              " 'r',\n",
              " 's',\n",
              " 't',\n",
              " 'u',\n",
              " 'v',\n",
              " 'w',\n",
              " 'x',\n",
              " 'y',\n",
              " 'z',\n",
              " 'A',\n",
              " 'B',\n",
              " 'C',\n",
              " 'D',\n",
              " 'E',\n",
              " 'F',\n",
              " 'G',\n",
              " 'H',\n",
              " 'I',\n",
              " 'J',\n",
              " 'K',\n",
              " 'L',\n",
              " 'M',\n",
              " 'N',\n",
              " 'O',\n",
              " 'P',\n",
              " 'Q',\n",
              " 'R',\n",
              " 'S',\n",
              " 'T',\n",
              " 'U',\n",
              " 'V',\n",
              " 'W',\n",
              " 'X',\n",
              " 'Y',\n",
              " 'Z',\n",
              " '_']"
            ]
          },
          "metadata": {},
          "execution_count": 7
        }
      ]
    },
    {
      "cell_type": "code",
      "source": [
        "source = '''I wish I may, I wish I might Have a dish of fish tonight.'''"
      ],
      "metadata": {
        "id": "IzMfOjn4xWRU"
      },
      "execution_count": 7,
      "outputs": []
    },
    {
      "cell_type": "code",
      "source": [
        "re.findall('wish', source)"
      ],
      "metadata": {
        "colab": {
          "base_uri": "https://localhost:8080/"
        },
        "id": "T-ivdw20g2F9",
        "outputId": "b8f69655-a89a-483a-e063-0bca35d26c3b"
      },
      "execution_count": null,
      "outputs": [
        {
          "output_type": "execute_result",
          "data": {
            "text/plain": [
              "['wish', 'wish']"
            ]
          },
          "metadata": {},
          "execution_count": 10
        }
      ]
    },
    {
      "cell_type": "code",
      "source": [
        "re.findall('wish|fish', source)"
      ],
      "metadata": {
        "colab": {
          "base_uri": "https://localhost:8080/"
        },
        "id": "ss9wWaIxg5M6",
        "outputId": "995b6c78-d9c4-4508-f908-12f565677df2"
      },
      "execution_count": null,
      "outputs": [
        {
          "output_type": "execute_result",
          "data": {
            "text/plain": [
              "['wish', 'wish', 'fish']"
            ]
          },
          "metadata": {},
          "execution_count": 11
        }
      ]
    },
    {
      "cell_type": "code",
      "source": [
        "re.findall('^wish', source)"
      ],
      "metadata": {
        "colab": {
          "base_uri": "https://localhost:8080/"
        },
        "id": "4y2C2y0ojBTN",
        "outputId": "fb2a1787-0002-498c-8c2d-5690909c66e6"
      },
      "execution_count": null,
      "outputs": [
        {
          "output_type": "execute_result",
          "data": {
            "text/plain": [
              "[]"
            ]
          },
          "metadata": {},
          "execution_count": 14
        }
      ]
    },
    {
      "cell_type": "code",
      "source": [
        "re.findall('^I wish', source)"
      ],
      "metadata": {
        "colab": {
          "base_uri": "https://localhost:8080/"
        },
        "id": "URvMd6M9jHKy",
        "outputId": "a93bcb73-3215-4828-fcd0-7a148439a771"
      },
      "execution_count": null,
      "outputs": [
        {
          "output_type": "execute_result",
          "data": {
            "text/plain": [
              "['I wish']"
            ]
          },
          "metadata": {},
          "execution_count": 15
        }
      ]
    },
    {
      "cell_type": "code",
      "source": [
        "re.findall('fish tonight.$', source)"
      ],
      "metadata": {
        "colab": {
          "base_uri": "https://localhost:8080/"
        },
        "id": "4s-C0JpWjIGm",
        "outputId": "512d5fcf-6a84-4059-8e52-6d711c1010cb"
      },
      "execution_count": null,
      "outputs": [
        {
          "output_type": "execute_result",
          "data": {
            "text/plain": [
              "['fish tonight.']"
            ]
          },
          "metadata": {},
          "execution_count": 16
        }
      ]
    },
    {
      "cell_type": "code",
      "source": [
        "re.findall('fish tonight\\.$', source)"
      ],
      "metadata": {
        "colab": {
          "base_uri": "https://localhost:8080/"
        },
        "id": "I_0bwNsVjPKn",
        "outputId": "29e2b3d8-2178-42ee-e6b7-f770a4520f26"
      },
      "execution_count": null,
      "outputs": [
        {
          "output_type": "execute_result",
          "data": {
            "text/plain": [
              "['fish tonight.']"
            ]
          },
          "metadata": {},
          "execution_count": 17
        }
      ]
    },
    {
      "cell_type": "code",
      "source": [
        "re.findall('[wf]ish', source)"
      ],
      "metadata": {
        "colab": {
          "base_uri": "https://localhost:8080/"
        },
        "id": "4B3phGQQjXEU",
        "outputId": "6d6f42e6-5f4c-410d-f421-ad993f967801"
      },
      "execution_count": null,
      "outputs": [
        {
          "output_type": "execute_result",
          "data": {
            "text/plain": [
              "['wish', 'wish', 'fish']"
            ]
          },
          "metadata": {},
          "execution_count": 18
        }
      ]
    },
    {
      "cell_type": "code",
      "source": [
        "re.findall('[wsh]+', source)"
      ],
      "metadata": {
        "id": "-cykFncEkIuL",
        "outputId": "1f84e603-a478-4ac6-eb8a-949d0282913d",
        "colab": {
          "base_uri": "https://localhost:8080/"
        }
      },
      "execution_count": 5,
      "outputs": [
        {
          "output_type": "execute_result",
          "data": {
            "text/plain": [
              "['s']"
            ]
          },
          "metadata": {},
          "execution_count": 5
        }
      ]
    },
    {
      "cell_type": "code",
      "source": [
        "re.findall('ght\\W', source)"
      ],
      "metadata": {
        "colab": {
          "base_uri": "https://localhost:8080/"
        },
        "id": "ihqjHtDl9VLA",
        "outputId": "eaa860c0-8f78-4c04-e3cf-2eeb8f86b309"
      },
      "execution_count": 9,
      "outputs": [
        {
          "output_type": "execute_result",
          "data": {
            "text/plain": [
              "['ght ', 'ght.']"
            ]
          },
          "metadata": {},
          "execution_count": 9
        }
      ]
    },
    {
      "cell_type": "code",
      "source": [
        "re.findall('I (?=wish)', source)"
      ],
      "metadata": {
        "colab": {
          "base_uri": "https://localhost:8080/"
        },
        "id": "bOmLqg1E9okQ",
        "outputId": "2e56d0d5-8298-40ce-dc08-602ef869b5fd"
      },
      "execution_count": 10,
      "outputs": [
        {
          "output_type": "execute_result",
          "data": {
            "text/plain": [
              "['I ', 'I ']"
            ]
          },
          "metadata": {},
          "execution_count": 10
        }
      ]
    },
    {
      "cell_type": "code",
      "source": [
        ""
      ],
      "metadata": {
        "id": "dJ0jMAgH9tIN"
      },
      "execution_count": null,
      "outputs": []
    }
  ]
}