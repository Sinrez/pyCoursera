{
  "cells": [
    {
      "cell_type": "markdown",
      "metadata": {
        "id": "view-in-github",
        "colab_type": "text"
      },
      "source": [
        "<a href=\"https://colab.research.google.com/github/Sinrez/pyCoursera/blob/master/lab_1_1.ipynb\" target=\"_parent\"><img src=\"https://colab.research.google.com/assets/colab-badge.svg\" alt=\"Open In Colab\"/></a>"
      ]
    },
    {
      "cell_type": "markdown",
      "metadata": {
        "id": "xU3uSrS0SABf"
      },
      "source": [
        "# Лабораторная работа №1\n",
        "**Ответом на задание будет *.ipynb файл.**\n",
        "\n",
        "Требования:\n",
        "1. Лабораторная работа выполняется в данном шаблоне.\n",
        "2. Удаление и добавление ячеек **не допускается**.\n",
        "3. Код необходимо вводить только там, где присутствует комментарий `# вставить код сюда`.\n",
        "4. Перед тем, как выложить работу в moodle, переименуйте файл по следующему шаблону **ФамилияИО.ipynb**. Например: если Вас зовут Иванов Иван Иванович, то имя файла будет выглядеть так **ИвановИИ.ipynb**.\n",
        "\n",
        "Требования обусловлены автоматической проверкой кода в качестве входного контроля.\n",
        "\n",
        "**`N` уже объявлена в коде, повторно объявлять её не надо. Выполните следующую ячейку, и `N` будет доступна в остальных ячейках.**"
      ]
    },
    {
      "cell_type": "code",
      "execution_count": null,
      "metadata": {
        "id": "AugPPiFySABj"
      },
      "outputs": [],
      "source": [
        "# Объявление \"костант\" \n",
        "N = 30"
      ]
    },
    {
      "cell_type": "markdown",
      "metadata": {
        "id": "1KFxQ12LSABk"
      },
      "source": [
        "### Задача № 1\n",
        "\n",
        "Выведите сумму `N` первых натуральных чисел  (`N > 0`). Натуральными числами называется множество чисел $\\mathbb{N} = {1, 2, 3, 4, 5, 6, 7, 8, 9, \\ldots{}}$\n",
        "\n",
        "\n",
        "**Посказка:**\n",
        "\n",
        "Для подсчета суммы лучше использовать цикл `for`, а для указания диапазона функцию `range()`. Печать результата на экран осуществляется посредством функции `print()`.\n",
        "\n",
        "В виде псевдокода такой алгоритм можно записать следующим способом:\n",
        "\n",
        "<div style=\"background-color:rgba(0, 0, 0, 0.0470588); padding:10px 0;font-family:monospace;\">\n",
        "<font color=\"blue\">Сумма</font> := 0<br>\n",
        "<font font-weight=700>FOR</font> для каждого <font color=\"blue\">Число</font> из {1, 2, 3, ..., N}<br>\n",
        "&nbsp;&nbsp;&nbsp;&nbsp;<font color=\"blue\">Сумма</font> := <font color=\"blue\">Сумма</font> + <font color=\"blue\">Число</font><br>\n",
        "ENDFOR<br>\n",
        "OUTPUT <font color=\"blue\">Сумма</font><br>\n",
        "</div>\n",
        "\n",
        "\n",
        "**Пример** вывода для `N = 6`: \n",
        "\n",
        "Сумма равна `21`\n",
        "\n",
        "#### Решение"
      ]
    },
    {
      "cell_type": "code",
      "execution_count": null,
      "metadata": {
        "id": "SpvEl_oDSABl",
        "colab": {
          "base_uri": "https://localhost:8080/"
        },
        "outputId": "04ef8b4a-3cdd-44a3-9e33-5432922d2418"
      },
      "outputs": [
        {
          "output_type": "stream",
          "name": "stdout",
          "text": [
            "Сумма равна 465\n"
          ]
        }
      ],
      "source": [
        "# вставить код сюда\n",
        "def sum_dgts(n) ->int:\n",
        "  summ = 0\n",
        "  for i in range(1, n+1):\n",
        "    summ += i\n",
        "  return summ\n",
        "\n",
        "if __name__ =='__main__':\n",
        "  #print(f'Сумма равна {sum_dgts(6)}')\n",
        "  print(f'Сумма равна {sum_dgts(N)}')"
      ]
    },
    {
      "cell_type": "markdown",
      "metadata": {
        "id": "6Y1wXb10SABl"
      },
      "source": [
        "### Задача № 2\n",
        "\n",
        "Выведите `N` первых элементов последовательности чисел Фибоначчи (`N > 0`).\n",
        "\n",
        "Последовательность задается рекуррентным  соотношением:\n",
        "$$F_0 = 0,$$\n",
        "$$F_1 = 1,$$\n",
        "$$F_i = F_{i-1} + F_{i-2}.$$\n",
        "\n",
        "Каждый элемент должен быть выведен в отдельной строке (используйте `print()`).\n",
        "\n",
        "**Посказка:**\n",
        "\n",
        "Для выполнения заданного количества итераций лучше использовать цикл `for`, а для задания количества итераций функцию `range()`. \n",
        "\n",
        "В виде псевдокода такой алгоритм можно записать следующим способом:\n",
        "\n",
        "<div style=\"background-color:rgba(0, 0, 0, 0.0470588); padding:10px 0;font-family:monospace;\">\n",
        "<font color=\"blue\">Элемент_старый</font> := 0<br>\n",
        "<font color=\"blue\">Элемент_новый</font> := 1<br>\n",
        "OUTPUT 0<br>\n",
        "OUTPUT 1<br>\n",
        "FOR для каждого значения из {1, 2, 3, ..., N-2}<br>\n",
        "&nbsp;&nbsp;&nbsp;&nbsp;<font color=\"blue\">Элемент_временный</font> := <font color=\"blue\">Элемент_старый</font><br>\n",
        "&nbsp;&nbsp;&nbsp;&nbsp;<font color=\"blue\">Элемент_старый</font> := <font color=\"blue\">Элемент_новый</font><br>\n",
        "&nbsp;&nbsp;&nbsp;&nbsp;<font color=\"blue\">Элемент_новый</font> := <font color=\"blue\">Элемент_старый</font> + <font color=\"blue\">Элемент_временный</font><br>\n",
        "&nbsp;&nbsp;&nbsp;&nbsp;OUTPUT <font color=\"blue\">Элемент_новый</font><br>\n",
        "ENDFOR<br>\n",
        "</div>\n",
        "Попробуйте минимизировать количество присваиваний в теле цикла.\n",
        "\n",
        "**Пример** вывода для `N = 6`:\n",
        "\n",
        "`0`\n",
        "\n",
        "`1`\n",
        "\n",
        "`1`\n",
        "\n",
        "`2`\n",
        "\n",
        "`3`\n",
        "\n",
        "`5`\n",
        "\n",
        "#### Решение"
      ]
    },
    {
      "cell_type": "code",
      "execution_count": null,
      "metadata": {
        "id": "_YU413jLSABm",
        "colab": {
          "base_uri": "https://localhost:8080/"
        },
        "outputId": "d397e4c3-bfdc-4d26-b550-5c6b0eeebdd8"
      },
      "outputs": [
        {
          "output_type": "stream",
          "name": "stdout",
          "text": [
            "0\n",
            "1\n",
            "1\n",
            "2\n",
            "3\n",
            "5\n",
            "8\n",
            "13\n",
            "21\n",
            "34\n",
            "55\n",
            "89\n",
            "144\n",
            "233\n",
            "377\n",
            "610\n",
            "987\n",
            "1597\n",
            "2584\n",
            "4181\n",
            "6765\n",
            "10946\n",
            "17711\n",
            "28657\n",
            "46368\n",
            "75025\n",
            "121393\n",
            "196418\n",
            "317811\n",
            "514229\n"
          ]
        }
      ],
      "source": [
        "# вставить код сюда\n",
        "def fibo(n) ->int:\n",
        "  elem_old = 0\n",
        "  elem_new = 1\n",
        "  print(0)\n",
        "  print(1)\n",
        "  #n-2+1 так как не вкл посл елем\n",
        "  for i in range(1, n-1):\n",
        "    elem_cash = elem_old\n",
        "    elem_old = elem_new\n",
        "    elem_new = elem_old + elem_cash\n",
        "    print(elem_new)\n",
        "\n",
        "if __name__ =='__main__':\n",
        "  #fibo(6)\n",
        "  #print('='*20)\n",
        "  #print(f'Для N = {N}:')\n",
        "  fibo(N)\n"
      ]
    },
    {
      "cell_type": "markdown",
      "metadata": {
        "id": "pIDMfeUwSABm"
      },
      "source": [
        "### Задача № 3\n",
        "\n",
        "Скопируйте и модифицируйте код из задачи №2 таким образом, что бы для элементов четных по значению выводились отрицательные значения их квадрата, а остальные элементы выводились как и прежде.\n",
        "\n",
        "**Посказка:**\n",
        "\n",
        "Перед тем, как вывести элемент на экран, Вам необходимо проверить его значение на чётность. Если оно чётное (т.е. остаток от деления на 2 равен 0, что можно записать как `x % 2 == 0`), то Вы выводите не само значение, а отрицательное значение его квадрата (`-(x ** 2)`). \n",
        "\n",
        "В виде псевдокода такая проверка выглядит следующим образом:\n",
        "\n",
        "<div style=\"background-color:rgba(0, 0, 0, 0.0470588); padding:10px 0;font-family:monospace;\">\n",
        "...<br>\n",
        "FOR для каждого значения из {1, 2, 3, ..., N-2}<br>\n",
        "&nbsp;&nbsp;&nbsp;&nbsp;...<br>\n",
        "&nbsp;&nbsp;&nbsp;&nbsp;IF остаток от деления <font color=\"blue\">Элемент_новый</font> на 2 равен 0 THEN<br>\n",
        "&nbsp;&nbsp;&nbsp;&nbsp;&nbsp;&nbsp;&nbsp;&nbsp;OUTPUT ...<br>\n",
        "&nbsp;&nbsp;&nbsp;&nbsp;ELSE<br>\n",
        "&nbsp;&nbsp;&nbsp;&nbsp;&nbsp;&nbsp;&nbsp;&nbsp;OUTPUT ...<br>\n",
        "&nbsp;&nbsp;&nbsp;&nbsp;ENDIF<br>\n",
        "&nbsp;&nbsp;&nbsp;&nbsp;...<br>\n",
        "</div>\n",
        "\n",
        "**Пример** вывода для `N = 6`:\n",
        "\n",
        "`0`\n",
        "\n",
        "`1`\n",
        "\n",
        "`1`\n",
        "\n",
        "`-4`\n",
        "\n",
        "`3`\n",
        "\n",
        "`5`\n",
        "\n",
        "#### Решение"
      ]
    },
    {
      "cell_type": "code",
      "execution_count": null,
      "metadata": {
        "id": "4drSPacPSABn",
        "colab": {
          "base_uri": "https://localhost:8080/"
        },
        "outputId": "49605aee-8d96-42bf-8779-0672a41dee2b"
      },
      "outputs": [
        {
          "output_type": "stream",
          "name": "stdout",
          "text": [
            "0\n",
            "1\n",
            "1\n",
            "-4\n",
            "3\n",
            "5\n"
          ]
        }
      ],
      "source": [
        "# вставить код сюда\n",
        "def fibo(n) ->int:\n",
        "  elem_old = 0\n",
        "  elem_new = 1\n",
        "  print(0)\n",
        "  print(1)\n",
        "  for i in range(1, n-1):\n",
        "    elem_cash = elem_old\n",
        "    elem_old = elem_new\n",
        "    elem_new = elem_old + elem_cash\n",
        "    if elem_new % 2 == 0:\n",
        "      print(-elem_new**2)\n",
        "    else:\n",
        "      print(elem_new)\n",
        "\n",
        "if __name__ =='__main__':\n",
        "  #fibo(6)\n",
        "  fibo(N)"
      ]
    },
    {
      "cell_type": "markdown",
      "metadata": {
        "id": "dREwzZfISABn"
      },
      "source": [
        "### Задача № 4\n",
        "\n",
        "Посчитайте сумму элементов последовательности из задачи №3, выведите её на экран. Найдите значения максимального и минимального элементов.\n",
        "\n",
        "**Посказка:**\n",
        "\n",
        "Скопируйте и модифицируйте код из задачи №3. Нахождение суммы очень похоже на задачу №1, а для поиска минимума и максимума Вам пригодятся пара дополнительных переменных и пара `if`.\n",
        "\n",
        "**Пример** для последовательности из задачи №3:\n",
        "\n",
        "Сумма равна `6`\n",
        "\n",
        "Минимум равен `-4`\n",
        "\n",
        "Максимум равен `5`\n",
        "\n",
        "#### Решение"
      ]
    },
    {
      "cell_type": "code",
      "execution_count": null,
      "metadata": {
        "id": "EqrbJI1QSABn",
        "colab": {
          "base_uri": "https://localhost:8080/"
        },
        "outputId": "fd678ec1-4cf4-44b0-d656-93188cda3ff0"
      },
      "outputs": [
        {
          "output_type": "stream",
          "name": "stdout",
          "text": [
            "Сумма равна -40855819026\n",
            "Минимум равен -38580030724\n",
            "Максимум равен 514229\n"
          ]
        }
      ],
      "source": [
        "# вставить код сюда\n",
        "def fibo(n) ->int:\n",
        "  summ = 0\n",
        "  dgt_lst = [0,1]\n",
        "  elem_old = 0\n",
        "  elem_new = 1\n",
        "  for i in range(1, n-1):\n",
        "    elem_cash = elem_old\n",
        "    elem_old = elem_new\n",
        "    elem_new = elem_old + elem_cash\n",
        "    if elem_new % 2 == 0:\n",
        "      dgt_lst.append((-elem_new**2))\n",
        "    else:\n",
        "      dgt_lst.append(elem_new)\n",
        "  #print(dgt_lst)\n",
        "  print(f'Сумма равна {sum(dgt_lst)}')\n",
        "  print(f'Минимум равен {min(dgt_lst)}')\n",
        "  print(f'Максимум равен {max(dgt_lst)}')\n",
        "\n",
        "if __name__ =='__main__':\n",
        "  #fibo(6)\n",
        "  fibo(N)"
      ]
    },
    {
      "cell_type": "markdown",
      "metadata": {
        "id": "rAXKwq8uSABo"
      },
      "source": [
        "### Задача № 5\n",
        "\n",
        "Модифицируйте код из задачи №2, и выведите только те элементы последовательности, у которых сумма цифр делится на 3 без остатка.\n",
        "\n",
        "**Подсказка:**\n",
        "\n",
        "Скопируйте и модифицируйте код из задачи №2. Вспомните признак делимости числа на 3.\n",
        "\n",
        "**Пример** вывода для `N = 10`:\n",
        "\n",
        "`3`\n",
        "\n",
        "`21`\n",
        "\n",
        "#### Решение"
      ]
    },
    {
      "cell_type": "code",
      "execution_count": null,
      "metadata": {
        "id": "V4oDeHxmSABo",
        "colab": {
          "base_uri": "https://localhost:8080/"
        },
        "outputId": "4f95a7c4-06fa-4a91-b52b-7a8950388ee0"
      },
      "outputs": [
        {
          "output_type": "stream",
          "name": "stdout",
          "text": [
            "3\n",
            "21\n",
            "144\n",
            "987\n",
            "6765\n",
            "46368\n",
            "317811\n"
          ]
        }
      ],
      "source": [
        "# вставить код сюда\n",
        "def check_on_3(dgt):\n",
        "  summ = 0\n",
        "  for d in str(dgt):\n",
        "      summ += int(d)\n",
        "  return summ % 3 == 0\n",
        "\n",
        "\n",
        "def fibo(n) ->int:\n",
        "  elem_old = 0\n",
        "  elem_new = 1\n",
        "  #n-2+1 так как не вкл посл елем\n",
        "  for i in range(1, n-1):\n",
        "    elem_cash = elem_old\n",
        "    elem_old = elem_new\n",
        "    elem_new = elem_old + elem_cash\n",
        "    if check_on_3(elem_new):\n",
        "      print(elem_new)\n",
        "\n",
        "if __name__ =='__main__':\n",
        "  #fibo(10)\n",
        "  fibo(N)"
      ]
    },
    {
      "cell_type": "markdown",
      "metadata": {
        "id": "khe2UwPSSABo"
      },
      "source": [
        "### Задача № 6\n",
        "\n",
        "Выведите `N` первых простых чисел. Простое число - это целое положительное число, которое делится нацело только на 1 и на само себя.\n",
        "\n",
        "Попробуйте решить данную задачу без подсказок. Если не получается, то спросите совет у преподавателя.\n",
        "\n",
        "Пример вывода для `N = 6`:\n",
        "\n",
        "`2`\n",
        "\n",
        "`3`\n",
        "\n",
        "`5`\n",
        "\n",
        "`7`\n",
        "\n",
        "`11`\n",
        "\n",
        "`13`\n",
        "\n",
        "#### Решение"
      ]
    },
    {
      "cell_type": "code",
      "execution_count": null,
      "metadata": {
        "id": "NuTde8lFSABo",
        "colab": {
          "base_uri": "https://localhost:8080/"
        },
        "outputId": "298f622c-6b74-411d-f664-72622bd1f8be"
      },
      "outputs": [
        {
          "output_type": "stream",
          "name": "stdout",
          "text": [
            "2\n",
            "3\n",
            "5\n",
            "7\n",
            "11\n",
            "13\n",
            "17\n",
            "19\n",
            "23\n",
            "29\n",
            "31\n",
            "37\n",
            "41\n",
            "43\n",
            "47\n",
            "53\n",
            "59\n",
            "61\n",
            "67\n",
            "71\n",
            "73\n",
            "79\n",
            "83\n",
            "89\n",
            "97\n",
            "101\n",
            "103\n",
            "107\n",
            "109\n",
            "113\n"
          ]
        }
      ],
      "source": [
        "# вставить код сюда\n",
        "def is_prime(n):\n",
        "    for i in range(2, n): # начинаем с 2, так как на 1 все делится; n не включается\n",
        "        if n % i == 0:\n",
        "            return False\n",
        "    return True\n",
        "\n",
        "def print_prime(n):\n",
        "  res = []\n",
        "  check_dgt = 2\n",
        "  while len(res) < n:\n",
        "    if is_prime(check_dgt):\n",
        "      res.append(check_dgt)\n",
        "    check_dgt += 1\n",
        "  #print(len(res))\n",
        "  for r in res:\n",
        "    print(r)\n",
        "\n",
        "if __name__ =='__main__':\n",
        "  #print_prime(6)\n",
        "  print_prime(N)\n"
      ]
    }
  ],
  "metadata": {
    "kernelspec": {
      "display_name": "Python 3",
      "language": "python",
      "name": "python3"
    },
    "language_info": {
      "codemirror_mode": {
        "name": "ipython",
        "version": 3
      },
      "file_extension": ".py",
      "mimetype": "text/x-python",
      "name": "python",
      "nbconvert_exporter": "python",
      "pygments_lexer": "ipython3",
      "version": "3.7.3"
    },
    "colab": {
      "provenance": [],
      "include_colab_link": true
    }
  },
  "nbformat": 4,
  "nbformat_minor": 0
}