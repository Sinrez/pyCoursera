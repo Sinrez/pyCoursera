{
  "nbformat": 4,
  "nbformat_minor": 0,
  "metadata": {
    "colab": {
      "provenance": [],
      "authorship_tag": "ABX9TyNsfBNAcDThZy3iZHE3/ObQ",
      "include_colab_link": true
    },
    "kernelspec": {
      "name": "python3",
      "display_name": "Python 3"
    },
    "language_info": {
      "name": "python"
    }
  },
  "cells": [
    {
      "cell_type": "markdown",
      "metadata": {
        "id": "view-in-github",
        "colab_type": "text"
      },
      "source": [
        "<a href=\"https://colab.research.google.com/github/Sinrez/pyCoursera/blob/master/stepic_array_numpy.ipynb\" target=\"_parent\"><img src=\"https://colab.research.google.com/assets/colab-badge.svg\" alt=\"Open In Colab\"/></a>"
      ]
    },
    {
      "cell_type": "code",
      "source": [
        "import numpy as np"
      ],
      "metadata": {
        "id": "gqEe-eNldeLV"
      },
      "execution_count": null,
      "outputs": []
    },
    {
      "cell_type": "code",
      "execution_count": null,
      "metadata": {
        "colab": {
          "base_uri": "https://localhost:8080/"
        },
        "id": "3kODSSpJdO1d",
        "outputId": "1fe28908-e445-4333-c16c-c2846022ec5d"
      },
      "outputs": [
        {
          "output_type": "stream",
          "name": "stdout",
          "text": [
            "[4 5 6]\n"
          ]
        }
      ],
      "source": [
        "\n",
        "lst = [4, 5, 6]\n",
        "arr = np.array(lst)\n",
        "print(arr) # [4 5 6]"
      ]
    },
    {
      "cell_type": "code",
      "source": [
        "print(arr.dtype) # int64"
      ],
      "metadata": {
        "colab": {
          "base_uri": "https://localhost:8080/"
        },
        "id": "l0U0h9KQ5pJm",
        "outputId": "b6c52a0b-692f-4a04-ae17-6b2c3cdf2e60"
      },
      "execution_count": null,
      "outputs": [
        {
          "output_type": "stream",
          "name": "stdout",
          "text": [
            "int64\n"
          ]
        }
      ]
    },
    {
      "cell_type": "code",
      "source": [
        "a = np.arange(3, 11, 2) # Начало, конец, шаг\n",
        "print(a) # [3 5 7 9]"
      ],
      "metadata": {
        "colab": {
          "base_uri": "https://localhost:8080/"
        },
        "id": "E_WE4L2u5vPK",
        "outputId": "d6448682-fde5-495a-a258-9bdc5fbc7131"
      },
      "execution_count": null,
      "outputs": [
        {
          "output_type": "stream",
          "name": "stdout",
          "text": [
            "[3 5 7 9]\n"
          ]
        }
      ]
    },
    {
      "cell_type": "code",
      "source": [
        "a = np.array([[1, 2, 3], \n",
        "              [4, 5, 6]])\n",
        "\n",
        "b = np.zeros_like(a)\n",
        "print(b)\n",
        "# Результат \n",
        "# [[0 0 0]\n",
        "#  [0 0 0]]"
      ],
      "metadata": {
        "colab": {
          "base_uri": "https://localhost:8080/"
        },
        "id": "odNOqVQQ6NlY",
        "outputId": "a580d910-aed0-42d1-9cdd-8c65d57aa544"
      },
      "execution_count": null,
      "outputs": [
        {
          "output_type": "stream",
          "name": "stdout",
          "text": [
            "[[0 0 0]\n",
            " [0 0 0]]\n"
          ]
        }
      ]
    },
    {
      "cell_type": "code",
      "source": [
        "a = np.random.random(size=(2, 2))\n",
        "print(a)"
      ],
      "metadata": {
        "colab": {
          "base_uri": "https://localhost:8080/"
        },
        "id": "D1mOHt3y8k_4",
        "outputId": "d51ff8ea-21ed-4b7b-ac7a-96c016d57df2"
      },
      "execution_count": null,
      "outputs": [
        {
          "output_type": "stream",
          "name": "stdout",
          "text": [
            "[[0.82569728 0.04924052]\n",
            " [0.17041764 0.80503907]]\n"
          ]
        }
      ]
    },
    {
      "cell_type": "code",
      "source": [
        "a = np.random.randint(1, 20, size=(2, 4))\n",
        "print(a)"
      ],
      "metadata": {
        "colab": {
          "base_uri": "https://localhost:8080/"
        },
        "id": "ukfqDnhv8qy9",
        "outputId": "0d4df4fb-c911-44f9-86c5-17c075c0ffc9"
      },
      "execution_count": null,
      "outputs": [
        {
          "output_type": "stream",
          "name": "stdout",
          "text": [
            "[[18 16  3 18]\n",
            " [ 7 16 14 12]]\n"
          ]
        }
      ]
    },
    {
      "cell_type": "code",
      "source": [
        "arr = np.linspace(1, 2, num=5, retstep=True)\n",
        "print(arr) # (array([1.  , 1.25, 1.5 , 1.75, 2.  ]), 0.25)\n",
        "print(arr[0]) # array([1.  , 1.25, 1.5 , 1.75, 2.  ]) - сам массив\n",
        "print(arr[1]) # 0.25 - шаг между элементами"
      ],
      "metadata": {
        "colab": {
          "base_uri": "https://localhost:8080/"
        },
        "id": "IFRzIGr-82St",
        "outputId": "b1258716-77ed-495c-af46-324b9cca3ac5"
      },
      "execution_count": null,
      "outputs": [
        {
          "output_type": "stream",
          "name": "stdout",
          "text": [
            "(array([1.  , 1.25, 1.5 , 1.75, 2.  ]), 0.25)\n",
            "[1.   1.25 1.5  1.75 2.  ]\n",
            "0.25\n"
          ]
        }
      ]
    },
    {
      "cell_type": "code",
      "source": [
        "np.arange(3, 7)"
      ],
      "metadata": {
        "colab": {
          "base_uri": "https://localhost:8080/"
        },
        "id": "oRKX55oIWe2u",
        "outputId": "0816d515-1de0-4bbd-9215-c76a65d92b21"
      },
      "execution_count": null,
      "outputs": [
        {
          "output_type": "execute_result",
          "data": {
            "text/plain": [
              "array([3, 4, 5, 6])"
            ]
          },
          "metadata": {},
          "execution_count": 11
        }
      ]
    },
    {
      "cell_type": "code",
      "source": [
        "a = np.ones((8,5))\n",
        "print(a)"
      ],
      "metadata": {
        "colab": {
          "base_uri": "https://localhost:8080/"
        },
        "id": "BLBAXNgHXRqk",
        "outputId": "fb4a5bd8-dfbe-4deb-811f-c715751adfcb"
      },
      "execution_count": null,
      "outputs": [
        {
          "output_type": "stream",
          "name": "stdout",
          "text": [
            "[[1. 1. 1. 1. 1.]\n",
            " [1. 1. 1. 1. 1.]\n",
            " [1. 1. 1. 1. 1.]\n",
            " [1. 1. 1. 1. 1.]\n",
            " [1. 1. 1. 1. 1.]\n",
            " [1. 1. 1. 1. 1.]\n",
            " [1. 1. 1. 1. 1.]\n",
            " [1. 1. 1. 1. 1.]]\n"
          ]
        }
      ]
    },
    {
      "cell_type": "code",
      "source": [
        "import numpy as np\n",
        "num = int(input())\n",
        "arr_2 = np.linspace(0, 7, num=num, retstep=True)\n",
        "print(arr_2[1])"
      ],
      "metadata": {
        "colab": {
          "base_uri": "https://localhost:8080/"
        },
        "id": "8RLlG1I8YEfz",
        "outputId": "c17d49db-3155-4262-c4f8-02200e177760"
      },
      "execution_count": null,
      "outputs": [
        {
          "output_type": "stream",
          "name": "stdout",
          "text": [
            "7\n",
            "1.1666666666666667\n"
          ]
        }
      ]
    },
    {
      "cell_type": "code",
      "source": [
        "import numpy as np\n",
        "\n",
        "arr = np.arange(6)\n",
        "arr = arr.reshape(2, 3)\n",
        "print(arr)"
      ],
      "metadata": {
        "id": "pgNuf7EUYGbt",
        "colab": {
          "base_uri": "https://localhost:8080/"
        },
        "outputId": "53b58161-f9d4-4e33-b459-b56184a0de79"
      },
      "execution_count": null,
      "outputs": [
        {
          "output_type": "stream",
          "name": "stdout",
          "text": [
            "[[0 1 2]\n",
            " [3 4 5]]\n"
          ]
        }
      ]
    },
    {
      "cell_type": "code",
      "source": [
        "import numpy as np\n",
        "\n",
        "arr = np.array([[ 0,  1,  2],\n",
        "                [ 3,  4,  5],\n",
        "                [ 6,  7,  8],\n",
        "                [ 9, 10, 11]])\n",
        "\n",
        "arr"
      ],
      "metadata": {
        "colab": {
          "base_uri": "https://localhost:8080/"
        },
        "id": "SuOzgheL_iAo",
        "outputId": "91365367-1f6e-4705-8928-2052b7c47263"
      },
      "execution_count": null,
      "outputs": [
        {
          "output_type": "execute_result",
          "data": {
            "text/plain": [
              "array([[ 0,  1,  2],\n",
              "       [ 3,  4,  5],\n",
              "       [ 6,  7,  8],\n",
              "       [ 9, 10, 11]])"
            ]
          },
          "metadata": {},
          "execution_count": 5
        }
      ]
    },
    {
      "cell_type": "code",
      "source": [
        "print(arr.shape[0])"
      ],
      "metadata": {
        "colab": {
          "base_uri": "https://localhost:8080/"
        },
        "id": "g4eXkkam_jRs",
        "outputId": "8dcbee36-d173-4b9a-d1c2-0d61dba716c9"
      },
      "execution_count": null,
      "outputs": [
        {
          "output_type": "stream",
          "name": "stdout",
          "text": [
            "4\n"
          ]
        }
      ]
    },
    {
      "cell_type": "code",
      "source": [
        "print(arr.shape[1])"
      ],
      "metadata": {
        "colab": {
          "base_uri": "https://localhost:8080/"
        },
        "id": "vn0wfRrDACWl",
        "outputId": "47bab9b0-d764-43af-a28a-3713391de54e"
      },
      "execution_count": null,
      "outputs": [
        {
          "output_type": "stream",
          "name": "stdout",
          "text": [
            "3\n"
          ]
        }
      ]
    },
    {
      "cell_type": "code",
      "source": [
        "print(arr.shape)"
      ],
      "metadata": {
        "colab": {
          "base_uri": "https://localhost:8080/"
        },
        "id": "odLVpwRc_0E_",
        "outputId": "f2ff6976-fbb5-4816-8ca5-6e899ced31ee"
      },
      "execution_count": null,
      "outputs": [
        {
          "output_type": "stream",
          "name": "stdout",
          "text": [
            "(4, 3)\n"
          ]
        }
      ]
    },
    {
      "cell_type": "code",
      "source": [
        "import numpy as np\n",
        "\n",
        "arr = np.array([[9, 8],\n",
        "                [3, 8],\n",
        "                [1, 2],\n",
        "                [5, 5],\n",
        "                [3, 4]])"
      ],
      "metadata": {
        "id": "yONRqTb6BJM3"
      },
      "execution_count": null,
      "outputs": []
    },
    {
      "cell_type": "code",
      "source": [
        "print(arr.shape[0])"
      ],
      "metadata": {
        "colab": {
          "base_uri": "https://localhost:8080/"
        },
        "id": "A96C6T3TBJ40",
        "outputId": "41956ed1-f27a-4d6a-8208-8c1037432baf"
      },
      "execution_count": null,
      "outputs": [
        {
          "output_type": "stream",
          "name": "stdout",
          "text": [
            "5\n"
          ]
        }
      ]
    },
    {
      "cell_type": "code",
      "source": [
        "a = np.arange(0, 9)\n",
        "arr = a.reshape(3, 3)\n",
        "print(arr)"
      ],
      "metadata": {
        "colab": {
          "base_uri": "https://localhost:8080/"
        },
        "id": "uDdOVLzsBgDp",
        "outputId": "61fa75f8-4232-4c1e-8d42-8a7b59c34d40"
      },
      "execution_count": null,
      "outputs": [
        {
          "output_type": "stream",
          "name": "stdout",
          "text": [
            "[[0 1 2]\n",
            " [3 4 5]\n",
            " [6 7 8]]\n"
          ]
        }
      ]
    },
    {
      "cell_type": "code",
      "source": [
        "a = np.array([[1, -1, 3], \n",
        "              [2,  1, 5],\n",
        "              [3, -1, 4]])\n",
        "\n",
        "b = np.array([1,  4, 0])\n",
        "\n",
        "print(a + b)"
      ],
      "metadata": {
        "colab": {
          "base_uri": "https://localhost:8080/"
        },
        "id": "7RCnvS5sZC_C",
        "outputId": "ad1011be-abcd-4dcb-df87-5f79e9b13b28"
      },
      "execution_count": null,
      "outputs": [
        {
          "output_type": "stream",
          "name": "stdout",
          "text": [
            "[[2 3 3]\n",
            " [3 5 5]\n",
            " [4 3 4]]\n"
          ]
        }
      ]
    },
    {
      "cell_type": "code",
      "source": [
        "A = np.array([[1, -1, 3], \n",
        "              [2,  1, 5],\n",
        "              [3, -1, 4]])\n",
        "\n",
        "B = np.array([[1,  4, 0], \n",
        "              [1, -1, 2],\n",
        "              [2, -1, 1]])\n",
        "\n",
        "print(A @ B)\n",
        "# Результат\n",
        "# [[ 6  2  1]\n",
        "#  [13  2  7]\n",
        "#  [10  9  2]]\n",
        "\n",
        "print(A * B)\n",
        "# Результат\n",
        "# [[ 1 -4  0]\n",
        "#  [ 2 -1 10]\n",
        "#  [ 6  1  4]]"
      ],
      "metadata": {
        "colab": {
          "base_uri": "https://localhost:8080/"
        },
        "id": "HIlB0lgPaaEz",
        "outputId": "670095cf-dff3-4ba4-c1c1-755184d53149"
      },
      "execution_count": null,
      "outputs": [
        {
          "output_type": "stream",
          "name": "stdout",
          "text": [
            "[[ 6  2  1]\n",
            " [13  2  7]\n",
            " [10  9  2]]\n",
            "[[ 1 -4  0]\n",
            " [ 2 -1 10]\n",
            " [ 6  1  4]]\n"
          ]
        }
      ]
    },
    {
      "cell_type": "code",
      "source": [
        "import numpy as np\n",
        "\n",
        "data = np.random.randint(1, 10, 3*4).reshape((3, -1))\n",
        "\n",
        "print(data[:2, :2])"
      ],
      "metadata": {
        "colab": {
          "base_uri": "https://localhost:8080/"
        },
        "id": "ByJ0mIsgaclT",
        "outputId": "ea5cc35a-dbdb-4b92-e05f-7d1c02e1dbec"
      },
      "execution_count": null,
      "outputs": [
        {
          "output_type": "stream",
          "name": "stdout",
          "text": [
            "[[6 1]\n",
            " [6 7]]\n"
          ]
        }
      ]
    },
    {
      "cell_type": "code",
      "source": [
        "import numpy as np\n",
        "arr = np.array([4, 7, 3, 8, 9, 2])\n",
        "i = np.array([-1, 2, 5])\n",
        "\n",
        "print(arr[i])"
      ],
      "metadata": {
        "colab": {
          "base_uri": "https://localhost:8080/"
        },
        "id": "zLzHxGR6Pobl",
        "outputId": "3a43d9dc-9439-4f88-ca62-e9ae06cb8805"
      },
      "execution_count": 1,
      "outputs": [
        {
          "output_type": "stream",
          "name": "stdout",
          "text": [
            "[2 3 2]\n"
          ]
        }
      ]
    },
    {
      "cell_type": "code",
      "source": [
        "import numpy as np\n",
        "arr_in = [int(input()) for _ in range(int(input()))]\n",
        "#print(arr_in)\n",
        "print(np.array(arr_in))"
      ],
      "metadata": {
        "id": "1iogw8AA5S2g"
      },
      "execution_count": null,
      "outputs": []
    },
    {
      "cell_type": "code",
      "source": [],
      "metadata": {
        "id": "kENbV3N_5Tmp"
      },
      "execution_count": null,
      "outputs": []
    }
  ]
}