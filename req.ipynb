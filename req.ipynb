{
  "nbformat": 4,
  "nbformat_minor": 0,
  "metadata": {
    "colab": {
      "provenance": [],
      "authorship_tag": "ABX9TyNasZKPYU79H4GqpCcDgxeK",
      "include_colab_link": true
    },
    "kernelspec": {
      "name": "python3",
      "display_name": "Python 3"
    },
    "language_info": {
      "name": "python"
    }
  },
  "cells": [
    {
      "cell_type": "markdown",
      "metadata": {
        "id": "view-in-github",
        "colab_type": "text"
      },
      "source": [
        "<a href=\"https://colab.research.google.com/github/Sinrez/pyCoursera/blob/master/req.ipynb\" target=\"_parent\"><img src=\"https://colab.research.google.com/assets/colab-badge.svg\" alt=\"Open In Colab\"/></a>"
      ]
    },
    {
      "cell_type": "code",
      "execution_count": null,
      "metadata": {
        "id": "-BFw04-TM6LE"
      },
      "outputs": [],
      "source": [
        "from bs4 import BeautifulSoup\n",
        "import requests\n",
        "import lxml"
      ]
    },
    {
      "cell_type": "code",
      "source": [
        "with open('index.html', 'r', encoding='utf-8') as file:\n",
        "    soup2 = BeautifulSoup(file, 'lxml')\n",
        "    print(soup2)"
      ],
      "metadata": {
        "colab": {
          "base_uri": "https://localhost:8080/"
        },
        "id": "qVxb8aOUNASs",
        "outputId": "366aeaac-92dc-4a2b-b388-7567cc38a264"
      },
      "execution_count": null,
      "outputs": [
        {
          "output_type": "stream",
          "name": "stdout",
          "text": [
            "<!DOCTYPE html>\n",
            "<html lang=\"en\">\n",
            "<head>\n",
            "<link href=\"../style/style.css\" rel=\"stylesheet\"/>\n",
            "<meta charset=\"utf-8\"/>\n",
            "<meta content=\"width=device-width, initial-scale=1.0\" name=\"viewport\"/>\n",
            "<title>Учимся парсить</title>\n",
            "</head>\n",
            "<body>\n",
            "<div class=\"headers\">\n",
            "<div class=\"p_headers\">vazon</div>\n",
            "</div>\n",
            "<div class=\"pagen\">\n",
            "<a href=\"index1_page_1.html\">1</a>\n",
            "<a href=\"index1_page_2.html\">2</a>\n",
            "<a href=\"index1_page_3.html\">3</a>\n",
            "<a href=\"index1_page_4.html\">4</a>\n",
            "</div>\n",
            "<div class=\"main\">\n",
            "<div class=\"nav_menu\">\n",
            "<a href=\"index1_page_1.html\"><div id=\"watch\">ЧАСЫ</div></a>\n",
            "<a href=\"index2_page_1.html\"><div id=\"mobile\">ТЕЛЕФОНЫ</div></a>\n",
            "<a href=\"index3_page_1.html\"><div id=\"mouse\">МЫШИ</div></a>\n",
            "<a href=\"index4_page_1.html\"><div id=\"hdd\">HDD</div></a>\n",
            "<a href=\"index5_page_1.html\"><div id=\"headphones\">НАУШНИКИ</div></a>\n",
            "</div>\n",
            "<div class=\"item_card\">\n",
            "<div class=\"item\">\n",
            "<div class=\"img_box\">\n",
            "<a href=\"watch/1/1_1.html\" name=\"1_1\"><img alt=\"\" src=\"http://parsinger.ru/img/1/1.jpg\"/></a>\n",
            "<a class=\"name_item\" href=\"watch/1/1_1.html\" name=\"1_1\">Jet Kid Start blue Умные детские часы</a>\n",
            "<div class=\"description\">\n",
            "<li>Бренд: Jet</li>\n",
            "<li>Тип: умные часы</li>\n",
            "<li>Материал корпуса: пластик</li>\n",
            "<li>Технология экрана: Монохромный</li>\n",
            "</div>\n",
            "<div class=\"container\">\n",
            "<div class=\"price_box\"><p class=\"price\">2310 руб</p></div>\n",
            "<div class=\"sale_button\"><a href=\"watch/1/1_1.html\"><p>Подробнее</p></a></div>\n",
            "</div>\n",
            "</div></div>\n",
            "<div class=\"item\">\n",
            "<div class=\"img_box\">\n",
            "<a href=\"watch/1/1_2.html\" name=\"1_2\"><img alt=\"\" src=\"http://parsinger.ru/img/1/2.jpg\"/></a>\n",
            "<a class=\"name_item\" href=\"watch/1/1_2.html\" name=\"1_2\">BAND 6 FOREST GREEN FARA-B19 HUAWEI</a>\n",
            "<div class=\"description\">\n",
            "<li>Бренд: Huawei</li>\n",
            "<li>Тип: фитнес браслет</li>\n",
            "<li>Материал корпуса: полимер</li>\n",
            "<li>Технология экрана: AMOLED</li>\n",
            "</div>\n",
            "<div class=\"container\">\n",
            "<div class=\"price_box\"><p class=\"price\">5480 руб</p></div>\n",
            "<div class=\"sale_button\"><a href=\"watch/1/1_2.html\"><p>Подробнее</p></a></div>\n",
            "</div>\n",
            "</div></div>\n",
            "<div class=\"item\">\n",
            "<div class=\"img_box\">\n",
            "<a href=\"watch/1/1_3.html\" name=\"1_3\"><img alt=\"\" src=\"http://parsinger.ru/img/1/3.jpg\"/></a>\n",
            "<a class=\"name_item\" href=\"watch/1/1_3.html\" name=\"1_3\">Умные часы GT 3 MIL-B19S BLACK HUAWEI</a>\n",
            "<div class=\"description\">\n",
            "<li>Бренд: Huawei</li>\n",
            "<li>Тип: умные часы</li>\n",
            "<li>Материал корпуса: пластик</li>\n",
            "<li>Технология экрана: Монохромный</li>\n",
            "</div>\n",
            "<div class=\"container\">\n",
            "<div class=\"price_box\"><p class=\"price\">21810 руб</p></div>\n",
            "<div class=\"sale_button\"><a href=\"watch/1/1_3.html\"><p>Подробнее</p></a></div>\n",
            "</div>\n",
            "</div></div>\n",
            "<div class=\"item\">\n",
            "<div class=\"img_box\">\n",
            "<a href=\"watch/1/1_4.html\" name=\"1_4\"><img alt=\"\" src=\"http://parsinger.ru/img/1/4.jpg\"/></a>\n",
            "<a class=\"name_item\" href=\"watch/1/1_4.html\" name=\"1_4\">Умные часы GT 3 MIL-B19V BROWN HUAWEI</a>\n",
            "<div class=\"description\">\n",
            "<li>Бренд: Huawei</li>\n",
            "<li>Тип: умные часы</li>\n",
            "<li>Материал корпуса: нержавеющая сталь</li>\n",
            "<li>Технология экрана: AMOLED</li>\n",
            "</div>\n",
            "<div class=\"container\">\n",
            "<div class=\"price_box\"><p class=\"price\">21810 руб</p></div>\n",
            "<div class=\"sale_button\"><a href=\"watch/1/1_4.html\"><p>Подробнее</p></a></div>\n",
            "</div>\n",
            "</div></div>\n",
            "<div class=\"item\">\n",
            "<div class=\"img_box\">\n",
            "<a href=\"watch/1/1_5.html\" name=\"1_5\"><img alt=\"\" src=\"http://parsinger.ru/img/1/5.jpg\"/></a>\n",
            "<a class=\"name_item\" href=\"watch/1/1_5.html\" name=\"1_5\">GT RUNNER-B19S BLACK HUAWEI</a>\n",
            "<div class=\"description\">\n",
            "<li>Бренд: Huawei</li>\n",
            "<li>Тип: умные часы</li>\n",
            "<li>Материал корпуса: пластик</li>\n",
            "<li>Технология экрана: AMOLED</li>\n",
            "</div>\n",
            "<div class=\"container\">\n",
            "<div class=\"price_box\"><p class=\"price\">27770 руб</p></div>\n",
            "<div class=\"sale_button\"><a href=\"watch/1/1_5.html\"><p>Подробнее</p></a></div>\n",
            "</div>\n",
            "</div></div>\n",
            "<div class=\"item\">\n",
            "<div class=\"img_box\">\n",
            "<a href=\"watch/1/1_6.html\" name=\"1_6\"><img alt=\"\" src=\"http://parsinger.ru/img/1/6.jpg\"/></a>\n",
            "<a class=\"name_item\" href=\"watch/1/1_6.html\" name=\"1_6\">GT RUNNER-B19A GREY HUAWEI</a>\n",
            "<div class=\"description\">\n",
            "<li>Бренд: Huawei</li>\n",
            "<li>Тип: умные часы</li>\n",
            "<li>Материал корпуса: пластик</li>\n",
            "<li>Технология экрана: AMOLED</li>\n",
            "</div>\n",
            "<div class=\"container\">\n",
            "<div class=\"price_box\"><p class=\"price\">27770 руб</p></div>\n",
            "<div class=\"sale_button\"><a href=\"watch/1/1_6.html\"><p>Подробнее</p></a></div>\n",
            "</div>\n",
            "</div></div>\n",
            "<div class=\"item\">\n",
            "<div class=\"img_box\">\n",
            "<a href=\"watch/1/1_7.html\" name=\"1_7\"><img alt=\"\" src=\"http://parsinger.ru/img/1/7.jpg\"/></a>\n",
            "<a class=\"name_item\" href=\"watch/1/1_7.html\" name=\"1_7\">Умные часы GT 3 MIL-B19 GOLD HUAWEI</a>\n",
            "<div class=\"description\">\n",
            "<li>Бренд: Huawei</li>\n",
            "<li>Тип: умные часы</li>\n",
            "<li>Материал корпуса: нержавеющая сталь, пластик</li>\n",
            "<li>Технология экрана: AMOLED</li>\n",
            "</div>\n",
            "<div class=\"container\">\n",
            "<div class=\"price_box\"><p class=\"price\">24230 руб</p></div>\n",
            "<div class=\"sale_button\"><a href=\"watch/1/1_7.html\"><p>Подробнее</p></a></div>\n",
            "</div>\n",
            "</div></div>\n",
            "<div class=\"item\">\n",
            "<div class=\"img_box\">\n",
            "<a href=\"watch/1/1_8.html\" name=\"1_8\"><img alt=\"\" src=\"http://parsinger.ru/img/1/8.jpg\"/></a>\n",
            "<a class=\"name_item\" href=\"watch/1/1_8.html\" name=\"1_8\">Умные часы WATCH 3 GALILEO-L11 STEEL</a>\n",
            "<div class=\"description\">\n",
            "<li>Бренд:  Huawei</li>\n",
            "<li>Тип: умные часы</li>\n",
            "<li>Материал корпуса: металл, керамика</li>\n",
            "<li>Технология экрана:  AMOLED</li>\n",
            "</div>\n",
            "<div class=\"container\">\n",
            "<div class=\"price_box\"><p class=\"price\">32600 руб</p></div>\n",
            "<div class=\"sale_button\"><a href=\"watch/1/1_8.html\"><p>Подробнее</p></a></div>\n",
            "</div>\n",
            "</div></div>\n",
            "</div>\n",
            "</div>\n",
            "<div class=\"pagen\">\n",
            "<a href=\"index1_page_1.html\">1</a>\n",
            "<a href=\"index1_page_2.html\">2</a>\n",
            "<a href=\"index1_page_3.html\">3</a>\n",
            "<a href=\"index1_page_4.html\">4</a>\n",
            "</div>\n",
            "<div class=\"bottom\"></div>\n",
            "</body>\n",
            "</html>\n"
          ]
        }
      ]
    },
    {
      "cell_type": "code",
      "source": [
        "strr = 'Величайший урок жизни в том, что и дураки бывают правы.( Уинстон Черчилль )'\n",
        "symb = 'в'\n",
        "print(strr.count(symb) if symb in strr else len(strr))"
      ],
      "metadata": {
        "colab": {
          "base_uri": "https://localhost:8080/"
        },
        "id": "a2h1X8TO4Yoo",
        "outputId": "d6a3e67d-d808-4218-b8fa-f12b312bb2e0"
      },
      "execution_count": null,
      "outputs": [
        {
          "output_type": "stream",
          "name": "stdout",
          "text": [
            "3\n"
          ]
        }
      ]
    },
    {
      "cell_type": "code",
      "source": [
        "import pandas as pd\n",
        "import numpy as np"
      ],
      "metadata": {
        "id": "n3wMlCyjtcnp"
      },
      "execution_count": 7,
      "outputs": []
    },
    {
      "cell_type": "code",
      "source": [
        "lst = list(map(int, '2  8 10  3  1  8  6  9 11  1'.split()))\n",
        "df  = pd.DataFrame(lst)\n",
        "print(df.mean())\n",
        "print(df.var())"
      ],
      "metadata": {
        "colab": {
          "base_uri": "https://localhost:8080/"
        },
        "id": "ZIYPk2aPtJAb",
        "outputId": "d38a9020-1934-4b2e-d161-4c95a1ebb8de"
      },
      "execution_count": null,
      "outputs": [
        {
          "output_type": "stream",
          "name": "stdout",
          "text": [
            "0    5.9\n",
            "dtype: float64\n",
            "0    14.766667\n",
            "dtype: float64\n"
          ]
        }
      ]
    },
    {
      "cell_type": "code",
      "source": [
        "lst = list(map(int, '7 11  3  5 10 12 11  9  6  1  8 11  1  4  9'.split()))\n",
        "df  = pd.DataFrame(lst)\n",
        "print(df.median())\n",
        "q75, q25 = np.percentile(df, [75 ,25])\n",
        "print(q75 - q25)"
      ],
      "metadata": {
        "id": "ToQ6mI5xtGUT",
        "colab": {
          "base_uri": "https://localhost:8080/"
        },
        "outputId": "cec61d40-b091-452c-9413-da1dff0396e2"
      },
      "execution_count": 9,
      "outputs": [
        {
          "output_type": "stream",
          "name": "stdout",
          "text": [
            "0    8.0\n",
            "dtype: float64\n",
            "6.0\n"
          ]
        }
      ]
    },
    {
      "cell_type": "code",
      "source": [
        "lst_x = list(map(int, '2 10  5  4 7 7 1  4  7  8  6 6  6  7  10'.split()))\n",
        "lst_y = list(map(int, '3 4  7  11 2 11 11  8  8  1  2 2  8  5  9'.split()))\n",
        "x = pd.Series(lst_x)\n",
        "y = pd.Series(lst_y)\n",
        "print(x.cov(y))"
      ],
      "metadata": {
        "colab": {
          "base_uri": "https://localhost:8080/"
        },
        "id": "6wbKPaHl_tAO",
        "outputId": "36c98995-0567-4e33-bac3-807df52a2710"
      },
      "execution_count": 17,
      "outputs": [
        {
          "output_type": "stream",
          "name": "stdout",
          "text": [
            "-2.285714285714285\n"
          ]
        }
      ]
    }
  ]
}