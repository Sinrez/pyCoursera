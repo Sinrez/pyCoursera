{
  "cells": [
    {
      "cell_type": "markdown",
      "metadata": {
        "id": "view-in-github",
        "colab_type": "text"
      },
      "source": [
        "<a href=\"https://colab.research.google.com/github/Sinrez/pyCoursera/blob/master/lab_2_1.ipynb\" target=\"_parent\"><img src=\"https://colab.research.google.com/assets/colab-badge.svg\" alt=\"Open In Colab\"/></a>"
      ]
    },
    {
      "cell_type": "markdown",
      "metadata": {
        "id": "Jrje4KUOc1SL"
      },
      "source": [
        "# Лабораторная работа №5\n",
        "**Ответом на задание будет *.ipynb файл.**\n",
        "\n",
        "Требования:\n",
        "1. Лабораторная работа выполняется в данном шаблоне.\n",
        "2. Удаление и добавление ячеек **не допускается**.\n",
        "3. Код необходимо вводить только там, где присутствует комментарий `# вставить код сюда`.\n",
        "4. Перед тем, как выложить работу в moodle, переименуйте файл по следующему шаблону **ФамилияИО.ipynb**. Например: если Вас зовут Иванов Иван Иванович, то имя файла будет выглядеть так **ИвановИИ.ipynb**.\n",
        "\n",
        "Требования обусловлены автоматической проверкой кода в качестве входного контроля.\n",
        "\n",
        "Использовать можно только модули **math** и **random**, прочие модули использовать запрещено."
      ]
    },
    {
      "cell_type": "code",
      "execution_count": null,
      "metadata": {
        "id": "MuVedRsSc1SN"
      },
      "outputs": [],
      "source": [
        "# Импортируем необходимые модули\n",
        "# вставить код сюда\n",
        "import math\n",
        "import random"
      ]
    },
    {
      "cell_type": "markdown",
      "metadata": {
        "id": "9IvqELnXc1SO"
      },
      "source": [
        "### Задача №1\n",
        "Сгенерировать последовательность в виде списка из 500 случайных чисел со стандартным нормальным распределением. В качестве начальной затравки random использовать число 10."
      ]
    },
    {
      "cell_type": "code",
      "execution_count": null,
      "metadata": {
        "id": "0avsJLeZc1SP"
      },
      "outputs": [],
      "source": [
        "# вставить код сюда\n",
        "random.seed(10)\n",
        "#Стандартным нормальным распределением называется нормальное распределение с математическим ожиданием mu =0 и стандартным отклонением sigma =1\n",
        "lst = [random.normalvariate(0, 1) for _ in range(500)]\n",
        "# lst"
      ]
    },
    {
      "cell_type": "markdown",
      "metadata": {
        "id": "PnoPSVi4c1SP"
      },
      "source": [
        "### Задача №2\n",
        "Разработать функции вычисления математического ожидания `def MX(lst)` и дисперсии `def DX(lst)` по числовым данным, которые находятся в списке."
      ]
    },
    {
      "cell_type": "code",
      "execution_count": null,
      "metadata": {
        "colab": {
          "base_uri": "https://localhost:8080/"
        },
        "id": "wLBZLtAec1SP",
        "outputId": "654b2c1a-2b1a-4548-c082-e08ec7a36d41"
      },
      "outputs": [
        {
          "output_type": "execute_result",
          "data": {
            "text/plain": [
              "0.08195858871150245"
            ]
          },
          "metadata": {},
          "execution_count": 4
        }
      ],
      "source": [
        "def MX(lst):\n",
        "    # вставить код сюда\n",
        "    n = len(lst)\n",
        "    # по формуле выборочного мат ожидания https://www.mql5.com/ru/articles/387\n",
        "    mean = sum(lst) / n \n",
        "    return mean\n",
        "\n",
        "MX(lst)"
      ]
    },
    {
      "cell_type": "code",
      "execution_count": null,
      "metadata": {
        "colab": {
          "base_uri": "https://localhost:8080/"
        },
        "id": "6cgSWRSVc1SQ",
        "outputId": "a104629d-f6f0-4aac-e5a4-fd28a6664976"
      },
      "outputs": [
        {
          "output_type": "execute_result",
          "data": {
            "text/plain": [
              "1.0552444850815201"
            ]
          },
          "metadata": {},
          "execution_count": 5
        }
      ],
      "source": [
        "def DX(lst):\n",
        "    # вставить код сюда\n",
        "    #по формуле выброчной дисперсии\n",
        "    n = len(lst)\n",
        "    deviations = [(x - MX(lst)) ** 2 for x in lst]\n",
        "    variance = sum(deviations) / n\n",
        "    return variance \n",
        "\n",
        "DX(lst)"
      ]
    },
    {
      "cell_type": "markdown",
      "metadata": {
        "id": "9G2Yu44Ac1SQ"
      },
      "source": [
        "### Задача №3\n",
        "У последовательности из п. 1 изменить математическое ожидание и дисперсию на значения заданные пользователем. Рассчитать моменты полученной числовой последовательности посредством функций из п. 2"
      ]
    },
    {
      "cell_type": "code",
      "execution_count": null,
      "metadata": {
        "id": "HIB2G1vZc1SQ",
        "colab": {
          "base_uri": "https://localhost:8080/"
        },
        "outputId": "1a3bc6da-923b-4283-aebf-09b8459a876d"
      },
      "outputs": [
        {
          "output_type": "stream",
          "name": "stdout",
          "text": [
            "1\n",
            "1\n",
            "1.0819585887115022\n",
            "1.0552444850815201\n"
          ]
        }
      ],
      "source": [
        "# вставить код сюда\n",
        "mx_new, dx_new = float(input()),float(input())\n",
        "\n",
        "lst_new = [l*math.sqrt(dx_new)+mx_new for l in lst]\n",
        "print(MX(lst_new))\n",
        "print(DX(lst_new))"
      ]
    },
    {
      "cell_type": "markdown",
      "metadata": {
        "id": "P0_uIvu0c1SR"
      },
      "source": [
        "### Задача №4\n",
        "Создать новую последовательность, элементы которой будут являться синусом от элементов последовательности из п. 3."
      ]
    },
    {
      "cell_type": "code",
      "execution_count": null,
      "metadata": {
        "id": "xq81Q5qCc1SR"
      },
      "outputs": [],
      "source": [
        "# вставить код сюда\n",
        "lst_sin = [math.sin(l) for l in lst_new]\n",
        "# lst_sin"
      ]
    }
  ],
  "metadata": {
    "kernelspec": {
      "display_name": "Python 3",
      "language": "python",
      "name": "python3"
    },
    "language_info": {
      "codemirror_mode": {
        "name": "ipython",
        "version": 3
      },
      "file_extension": ".py",
      "mimetype": "text/x-python",
      "name": "python",
      "nbconvert_exporter": "python",
      "pygments_lexer": "ipython3",
      "version": "3.7.3"
    },
    "colab": {
      "provenance": [],
      "include_colab_link": true
    }
  },
  "nbformat": 4,
  "nbformat_minor": 0
}