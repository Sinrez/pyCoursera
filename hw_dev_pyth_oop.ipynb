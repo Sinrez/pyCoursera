{
  "nbformat": 4,
  "nbformat_minor": 0,
  "metadata": {
    "colab": {
      "name": "hw dev_pyth_oop.ipynb",
      "provenance": [],
      "include_colab_link": true
    },
    "kernelspec": {
      "name": "python3",
      "display_name": "Python 3"
    },
    "language_info": {
      "name": "python"
    }
  },
  "cells": [
    {
      "cell_type": "markdown",
      "metadata": {
        "id": "view-in-github",
        "colab_type": "text"
      },
      "source": [
        "<a href=\"https://colab.research.google.com/github/Sinrez/pyCoursera/blob/master/hw_dev_pyth_oop.ipynb\" target=\"_parent\"><img src=\"https://colab.research.google.com/assets/colab-badge.svg\" alt=\"Open In Colab\"/></a>"
      ]
    },
    {
      "cell_type": "code",
      "execution_count": null,
      "metadata": {
        "id": "HswjC-F_6aNI"
      },
      "outputs": [],
      "source": [
        "class User:\n",
        "  status = 'user'\n",
        "\n",
        "  def say_hello(self):\n",
        "    return f'hello from {self.status}' \n",
        "\n",
        "u1 = User()\n",
        "u2 = User()\n",
        "u3 = User()"
      ]
    },
    {
      "cell_type": "code",
      "source": [
        "u1.say_hello()"
      ],
      "metadata": {
        "colab": {
          "base_uri": "https://localhost:8080/",
          "height": 35
        },
        "id": "OBYU0Yqa_IMw",
        "outputId": "b41e0112-a8d7-47b4-a857-8c1e01cd0902"
      },
      "execution_count": null,
      "outputs": [
        {
          "output_type": "execute_result",
          "data": {
            "text/plain": [
              "'hello from user'"
            ],
            "application/vnd.google.colaboratory.intrinsic+json": {
              "type": "string"
            }
          },
          "metadata": {},
          "execution_count": 13
        }
      ]
    },
    {
      "cell_type": "code",
      "source": [
        "u1.status = 'admin'\n",
        "#переопределение на уровне экземпляра класса u1\n",
        "u1.say_hello()"
      ],
      "metadata": {
        "colab": {
          "base_uri": "https://localhost:8080/",
          "height": 35
        },
        "id": "827iHQkx_LoG",
        "outputId": "755003f9-15c7-4c73-f095-b1b443cdb0a8"
      },
      "execution_count": null,
      "outputs": [
        {
          "output_type": "execute_result",
          "data": {
            "text/plain": [
              "'hello from admin'"
            ],
            "application/vnd.google.colaboratory.intrinsic+json": {
              "type": "string"
            }
          },
          "metadata": {},
          "execution_count": 14
        }
      ]
    },
    {
      "cell_type": "code",
      "source": [
        "User.status ='ananymous'\n",
        "#переопределение переменной на уровне класса, \"статическое\"\n",
        "u1.say_hello()\n",
        "u2.say_hello()\n",
        "u3.say_hello()"
      ],
      "metadata": {
        "colab": {
          "base_uri": "https://localhost:8080/",
          "height": 35
        },
        "id": "RYAOs44I_NMR",
        "outputId": "fe596187-11d1-4b27-9ddb-1fce5d56a66c"
      },
      "execution_count": null,
      "outputs": [
        {
          "output_type": "execute_result",
          "data": {
            "text/plain": [
              "'hello from ananymous'"
            ],
            "application/vnd.google.colaboratory.intrinsic+json": {
              "type": "string"
            }
          },
          "metadata": {},
          "execution_count": 15
        }
      ]
    },
    {
      "cell_type": "markdown",
      "source": [
        "Задача 2 : написать программу на языке Python, которая:\n",
        "Содержит не менее 4-х различных классов и 2-х объектов каждого класса\n",
        "Содержит не менее 2-х отношений «родитель-потомок» между классами\n",
        "Каждый класс имеет минимум один атрибут и один метод\n",
        "Каждый класс имеет конструктор (продемонстрировать использование метода super()\n",
        "Продемонстрировать использование декораторов \n",
        "Продемонстрировать и комментариями написать как вы используете «миксин»\n",
        "Применить функции getattr() и setattr()\n",
        "Применить декоратор «статический метод» (с обязательными вариантами вызова)\n",
        "Применить декоратор «метод класса»  (демонстрация вызова)\n",
        "Применить декоратор «property method» (демонстрация вызова)\n",
        "\n",
        "\n",
        "В качестве предметной области можете взять мини рекрутинг агенство или робот-автомат-кофемаштна"
      ],
      "metadata": {
        "id": "P0ZXoh4MAegD"
      }
    },
    {
      "cell_type": "code",
      "source": [
        "class InfoData:\n",
        "  #пример миксина\n",
        "  def _info(self):\n",
        "    return f'Профиль - Имя: {self.name}, Специальность: {self.proffesion}'\n",
        "\n",
        "class Profile(InfoData):\n",
        "    def __init__(self, proffesion, name, age):\n",
        "        self.proffesion = proffesion\n",
        "        self.name = name\n",
        "        self.age = age\n",
        "      \n",
        "    def describe(self):\n",
        "        print(f'{self._info()}, Возраст: {self.age}')\n",
        "               \n",
        "class Resume(Profile,InfoData):\n",
        "    system_description = 'Шаблон для резюме'\n",
        "    TOTAL_RESUMES = 0\n",
        "    def __init__(self, proffesion, name, age, salary):\n",
        "        Resume.TOTAL_RESUMES = Resume.TOTAL_RESUMES+1\n",
        "        super().__init__(proffesion, name,age)\n",
        "        self.salary = salary\n",
        "\n",
        "    def describe(self):\n",
        "      print(f'{self._info()}, Возраст {self.age}, Уровень зарплаты: {self.salary}')\n",
        "    \n",
        "    @classmethod\n",
        "    def total_resumes(cls):\n",
        "        print(\"Всего резюме: \",cls.TOTAL_RESUMES)\n",
        "    \n",
        "    def __str__(self):\n",
        "        return f'Это резюме сотрудника: {self.name}, специальность: {self.proffesion}'\n",
        "    \n",
        "         \n",
        "class Vacancie:\n",
        "    def __init__(self, title, proffesion, experience, salary):\n",
        "        self.title = title\n",
        "        self.proffesion = proffesion\n",
        "        self.experience = experience\n",
        "        self.salary = salary\n",
        "        \n",
        "    def info(self):\n",
        "        return f'Стаж работы: {self.experience}'\n",
        "    \n",
        "class StaffSupport:\n",
        "    #класс для hr-поддержки\n",
        "    @staticmethod\n",
        "    #калькулятор часовой ставки\n",
        "    def hourly_rate(salary, hours):\n",
        "      print(f'Ставка в час: {salary/hours}')\n",
        "    \n",
        "    @staticmethod\n",
        "    #опция смены почты в созданном экземпляре агенства\n",
        "    def change_count_resum(ag, mail):\n",
        "      setattr(ag, 'mail', mail)\n",
        "\n",
        "class Recruiting_agency(Vacancie):\n",
        "  def __init__(self, title, mail):\n",
        "    self.title = title\n",
        "    self.mail = mail\n",
        "    self.resumes = []\n",
        "    self.vacancies = []\n",
        "\n",
        "  def make_resumes(self, resume):\n",
        "    self.resumes.append(resume)\n",
        "  \n",
        "  def get_resumes(self):\n",
        "    for r in self.resumes:\n",
        "      return r\n",
        "  \n",
        "  def __str__(self):\n",
        "        return f'Это рекрутенговое агентсво {self.title}, наша почта {self.mail}'\n",
        "\n",
        "class Recruting:\n",
        "  #ререзрвный класс для возможной реализации заполнения нескольких агенств\n",
        "  pass\n",
        "\n",
        "# Обвязка для ввода с клавиатуры, в рамках задания не вижу смылса расписывать полностю\n",
        "def profile_inp():\n",
        "  print('Введите данные соискателя')\n",
        "  while True:\n",
        "    spec = input('Введите специальность соискателя: ')\n",
        "    name = input('Введите имя соискателя: ')\n",
        "    age = input('Введите возраст соискателя: ')\n",
        "    try:\n",
        "      salary = int(input('Введите зп соискателя: '))\n",
        "    except Exception:\n",
        "      exit('Нужно ввести число!')\n",
        "    agen1 = Recruiting_agency('agen', 'agen@ru.ru')\n",
        "    agen1.make_resumes(Resume(spec, name, age, salary))\n",
        "    \n",
        "    print(15*'*')\n",
        "    inp = input('Вводим еще? y/n: ')\n",
        "    if inp!= 'y':\n",
        "      print('Работа завершена')\n",
        "      break\n",
        "\n",
        "\n",
        "if __name__ == '__main__':\n",
        "  # profile_inp()\n",
        "\n",
        "  p1 = Profile('Кодер','Петр', 30)\n",
        "  p2 = Profile('Админ','Марк', 33)\n",
        "  p1.describe()\n",
        "  p2.describe()\n",
        "  print(getattr(Resume, 'system_description'))\n",
        "  r1 = Resume('Кодер','Петр',30,100500)\n",
        "  r1.describe()\n",
        "  StaffSupport.hourly_rate(100500,40)\n",
        "  Resume.total_resumes()\n",
        "  agen1 = Recruiting_agency('agen', 'agen@ru.ru')\n",
        "  print(agen1)\n",
        "  StaffSupport.change_count_resum(agen1, 'ma@mail.ru')\n",
        "  print(agen1)\n",
        "  agen1.make_resumes(r1)\n",
        "  print(agen1.get_resumes())\n"
      ],
      "metadata": {
        "colab": {
          "base_uri": "https://localhost:8080/"
        },
        "id": "FMyxnfVj_2yh",
        "outputId": "53adf7c4-3f16-4ff7-858f-78191495bc1e"
      },
      "execution_count": null,
      "outputs": [
        {
          "output_type": "stream",
          "name": "stdout",
          "text": [
            "Профиль - Имя: Петр, Специальность: Кодер, Возраст: 30\n",
            "Профиль - Имя: Марк, Специальность: Админ, Возраст: 33\n",
            "Шаблон для резюме\n",
            "Профиль - Имя: Петр, Специальность: Кодер, Возраст 30, Уровень зарплаты: 100500\n",
            "Ставка в час: 2512.5\n",
            "Всего резюме:  1\n",
            "Это рекрутенговое агентсво agen, наша почта agen@ru.ru\n",
            "Это рекрутенговое агентсво agen, наша почта ma@mail.ru\n",
            "Это резюме сотрудника: Петр, специальность: Кодер\n"
          ]
        }
      ]
    }
  ]
}