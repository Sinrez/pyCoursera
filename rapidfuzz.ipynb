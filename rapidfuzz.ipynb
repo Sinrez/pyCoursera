{
  "nbformat": 4,
  "nbformat_minor": 0,
  "metadata": {
    "colab": {
      "provenance": [],
      "authorship_tag": "ABX9TyOX3WFX4aclS9XJCu7tgyEb",
      "include_colab_link": true
    },
    "kernelspec": {
      "name": "python3",
      "display_name": "Python 3"
    },
    "language_info": {
      "name": "python"
    }
  },
  "cells": [
    {
      "cell_type": "markdown",
      "metadata": {
        "id": "view-in-github",
        "colab_type": "text"
      },
      "source": [
        "<a href=\"https://colab.research.google.com/github/Sinrez/pyCoursera/blob/master/rapidfuzz.ipynb\" target=\"_parent\"><img src=\"https://colab.research.google.com/assets/colab-badge.svg\" alt=\"Open In Colab\"/></a>"
      ]
    },
    {
      "cell_type": "code",
      "source": [
        " pip install rapidfuzz"
      ],
      "metadata": {
        "colab": {
          "base_uri": "https://localhost:8080/"
        },
        "id": "VnGCK1l54Wiu",
        "outputId": "42e056bf-0bdf-48ab-a83e-658639f4e3de"
      },
      "execution_count": null,
      "outputs": [
        {
          "output_type": "stream",
          "name": "stdout",
          "text": [
            "Collecting rapidfuzz\n",
            "  Downloading rapidfuzz-2.0.11-cp37-cp37m-manylinux_2_17_x86_64.manylinux2014_x86_64.whl (1.8 MB)\n",
            "\u001b[K     |████████████████████████████████| 1.8 MB 5.2 MB/s \n",
            "\u001b[?25hCollecting jarowinkler<1.1.0,>=1.0.2\n",
            "  Downloading jarowinkler-1.0.2-cp37-cp37m-manylinux_2_17_x86_64.manylinux2014_x86_64.whl (103 kB)\n",
            "\u001b[K     |████████████████████████████████| 103 kB 46.3 MB/s \n",
            "\u001b[?25hInstalling collected packages: jarowinkler, rapidfuzz\n",
            "Successfully installed jarowinkler-1.0.2 rapidfuzz-2.0.11\n"
          ]
        }
      ]
    },
    {
      "cell_type": "code",
      "execution_count": null,
      "metadata": {
        "colab": {
          "base_uri": "https://localhost:8080/"
        },
        "id": "eudKm8Ph4UIV",
        "outputId": "30f7ddf2-9ac9-456e-c5f5-9b083a3eead6"
      },
      "outputs": [
        {
          "output_type": "stream",
          "name": "stdout",
          "text": [
            "Что вы хотите купить: пиц\n",
            "Вы заказали товар:  Большая пицца\n",
            "Робот уверен в ответе на 90.0 %\n"
          ]
        }
      ],
      "source": [
        "# Установите модуль командой в терминале\n",
        "# pip install rapidfuzz\n",
        "# Импортируем из модуля только нужные нам части\n",
        "from rapidfuzz import process, fuzz\n",
        "\n",
        "# Список фраз с которыми будем сравнивать целевую фразу\n",
        "choices = [\"Большая пицца\", \"Средняя пицца\", \"Маленькая пицца\"]\n",
        "# искомая фраза\n",
        "phrase = input('Что вы хотите купить: ')\n",
        "# Получаем наиболее похожую фразу\n",
        "s = process.extractOne(phrase, choices, scorer = fuzz.WRatio)\n",
        "\n",
        "if s[1] > 50:\n",
        "    print('Вы заказали товар: ', s[0])\n",
        "    print('Робот уверен в ответе на', s[1], '%')\n",
        "else:\n",
        "    print('''Извините, но робот не уверен, что такой товар у нас есть\n",
        "Попробуйте сформулировать название товара по другому''')"
      ]
    },
    {
      "cell_type": "markdown",
      "source": [
        "2) Напишите программу, которая\n",
        "- в ней изначально есть список плохих слов badwords = ['дурак', 'идиот', итд]\n",
        "- просит у пользователя ввести строку s\n",
        " -разбивает её на список отдельных слов mywords с помощью s.split()\n",
        "- в цикле for проходит по списку mywords и c помощью\n",
        "- x = process.extractOne(word, badwords, scorer = fuzz.WRatio)[1]\n",
        "- вычисляет насколько похоже очередное слово word на слова из списка badwords\n",
        "если процент сопадения большой, с помощью s = s.replace(word, 'цензура')\n",
        "заменяет подозрительное слово в оригинальной строке и в конце выводит её на экран"
      ],
      "metadata": {
        "id": "O3fovpMkBCRW"
      }
    },
    {
      "cell_type": "code",
      "source": [
        "from rapidfuzz import process, fuzz\n",
        "\n",
        "def check_word():\n",
        "  badwords = ['дурак', 'идиот', 'урод', 'хмырь','fuck', 'fack', 'фак']\n",
        "  strr = input('Введите строку: ').strip()\n",
        "  check_list = strr.split()\n",
        "  # print(check_list)\n",
        "  for word in check_list:\n",
        "    s = process.extractOne(word, badwords, scorer = fuzz.WRatio)\n",
        "    if s[1] > 50:\n",
        "      strr = strr.replace(word, 'цензура') \n",
        "  print(strr)\n",
        "\n",
        "if __name__ == '__main__':\n",
        "  check_word()\n",
        "\n",
        "\n",
        "\n",
        "\n"
      ],
      "metadata": {
        "colab": {
          "base_uri": "https://localhost:8080/"
        },
        "id": "o6c9j0Zp4iWo",
        "outputId": "68f3fc8d-2ea7-4e27-ac31-772216aa4f0e"
      },
      "execution_count": null,
      "outputs": [
        {
          "output_type": "stream",
          "name": "stdout",
          "text": [
            "Введите строку: Идиотский дурак шел дураком по хмырю лесу\n",
            "цензура цензура шел цензураом по цензура лесу\n"
          ]
        }
      ]
    },
    {
      "cell_type": "code",
      "source": [
        "from rapidfuzz import process, fuzz\n",
        "\n",
        "def censor():\n",
        "    badwords = ['fuck', 'fack', 'Fuck', 'Fack', 'FUCK', 'FACK']\n",
        "    try:\n",
        "        with open('/content/mat_test', 'r') as badfile, open(\"censor.txt\", \"w\") as write_file:\n",
        "          for line in badfile:\n",
        "            for word in line:\n",
        "              s = process.extractOne(word, badwords, scorer = fuzz.WRatio)\n",
        "              if s[1] > 50:\n",
        "                word = word.replace(word, 'LOL')\n",
        "              write_file.write(word)\n",
        "              \n",
        "    except FileExistsError:\n",
        "        exit('Что-то сломалось с файлом')\n",
        "    except FileNotFoundError:\n",
        "        exit('Файл не найден')\n",
        "    except Exception:\n",
        "        exit('Что-то сломалось')\n",
        "\n",
        "\n",
        "if __name__ == '__main__':\n",
        "  censor()"
      ],
      "metadata": {
        "id": "es7R_5bM8GS2"
      },
      "execution_count": null,
      "outputs": []
    },
    {
      "cell_type": "code",
      "source": [
        "from rapidfuzz import process, fuzz\n",
        "\n",
        "def censor():\n",
        "    badwords = ['fuck', 'fack', 'Fuck', 'Fack', 'FUCK', 'FACK']\n",
        "    try:\n",
        "        with open('/content/mat_test', 'r') as badfile, open(\"censor.txt\", \"w\") as write_file:\n",
        "          for line in badfile:\n",
        "              s = process.extractOne(line, badwords, scorer = fuzz.WRatio)\n",
        "              if s[1] > 50:\n",
        "                line = line.replace(line, 'LOL')\n",
        "              write_file.write(line)\n",
        "              \n",
        "    except FileExistsError:\n",
        "        exit('Что-то сломалось с файлом')\n",
        "    except FileNotFoundError:\n",
        "        exit('Файл не найден')\n",
        "    except Exception:\n",
        "        exit('Что-то сломалось')\n",
        "\n",
        "\n",
        "if __name__ == '__main__':\n",
        "  censor()"
      ],
      "metadata": {
        "id": "-JtWI3k99iTo"
      },
      "execution_count": null,
      "outputs": []
    }
  ]
}