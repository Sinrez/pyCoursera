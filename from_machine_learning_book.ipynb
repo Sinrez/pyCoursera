{
  "nbformat": 4,
  "nbformat_minor": 0,
  "metadata": {
    "colab": {
      "provenance": [],
      "authorship_tag": "ABX9TyN6gpMpJ9fScmAQLR1jJLjY",
      "include_colab_link": true
    },
    "kernelspec": {
      "name": "python3",
      "display_name": "Python 3"
    },
    "language_info": {
      "name": "python"
    }
  },
  "cells": [
    {
      "cell_type": "markdown",
      "metadata": {
        "id": "view-in-github",
        "colab_type": "text"
      },
      "source": [
        "<a href=\"https://colab.research.google.com/github/Sinrez/pyCoursera/blob/master/from_machine_learning_book.ipynb\" target=\"_parent\"><img src=\"https://colab.research.google.com/assets/colab-badge.svg\" alt=\"Open In Colab\"/></a>"
      ]
    },
    {
      "cell_type": "code",
      "execution_count": null,
      "metadata": {
        "colab": {
          "base_uri": "https://localhost:8080/"
        },
        "id": "9dR8GhXptnZI",
        "outputId": "d641b647-399b-4a5d-882e-46980a43cd89"
      },
      "outputs": [
        {
          "output_type": "stream",
          "name": "stdout",
          "text": [
            "Normal Python: 0.753990 sec\n",
            "Naive NumPy: 1.266666 sec\n",
            "Good NumPy: 0.025243 sec\n"
          ]
        }
      ],
      "source": [
        "import timeit\n",
        "normal_py_sec = timeit.timeit('sum(x*x for x in range(1000))',number=10000)\n",
        "naive_np_sec = timeit.timeit('sum(na*na)',setup=\"import numpy as np; na=np.arange(1000)\", number=10000)\n",
        "good_np_sec = timeit.timeit('na.dot(na)',setup=\"import numpy as np; na=np.arange(1000)\", number=10000)\n",
        "print(\"Normal Python: %f sec\" % normal_py_sec)\n",
        "print(\"Naive NumPy: %f sec\" % naive_np_sec)\n",
        "print(\"Good NumPy: %f sec\" % good_np_sec)"
      ]
    },
    {
      "cell_type": "code",
      "source": [
        "import scipy, numpy\n",
        "scipy.version.full_version\n",
        "scipy.dot is numpy.dot"
      ],
      "metadata": {
        "colab": {
          "base_uri": "https://localhost:8080/"
        },
        "id": "DCKrufZvuVRh",
        "outputId": "2e243db3-de4e-4703-cda4-3cb14c2b8100"
      },
      "execution_count": 1,
      "outputs": [
        {
          "output_type": "execute_result",
          "data": {
            "text/plain": [
              "False"
            ]
          },
          "metadata": {},
          "execution_count": 1
        }
      ]
    },
    {
      "cell_type": "code",
      "source": [
        "from io import StringIO\n",
        "import numpy as np\n",
        "import scipy as sp\n",
        "# data = sp.genfromtxt(\"/content/web_traffic.tsv\", delimiter = \"\\t\")\n",
        "data = np.genfromtxt(\"/content/web_traffic.tsv\", delimiter=\"\\t\")\n",
        "print(data[:10])"
      ],
      "metadata": {
        "colab": {
          "base_uri": "https://localhost:8080/"
        },
        "id": "Yrg3ff8FumZX",
        "outputId": "8ea6abc0-1e75-4407-e5fc-e4b2148f09bf"
      },
      "execution_count": 11,
      "outputs": [
        {
          "output_type": "stream",
          "name": "stdout",
          "text": [
            "[[1.000e+00 2.272e+03]\n",
            " [2.000e+00       nan]\n",
            " [3.000e+00 1.386e+03]\n",
            " [4.000e+00 1.365e+03]\n",
            " [5.000e+00 1.488e+03]\n",
            " [6.000e+00 1.337e+03]\n",
            " [7.000e+00 1.883e+03]\n",
            " [8.000e+00 2.283e+03]\n",
            " [9.000e+00 1.335e+03]\n",
            " [1.000e+01 1.025e+03]]\n"
          ]
        }
      ]
    },
    {
      "cell_type": "code",
      "source": [
        "x = data[:,0]\n",
        "y = data[:,1]\n"
      ],
      "metadata": {
        "id": "75fYk4zPTcsm"
      },
      "execution_count": 12,
      "outputs": []
    },
    {
      "cell_type": "code",
      "source": [
        "sp.sum(sp.isnan(y))"
      ],
      "metadata": {
        "colab": {
          "base_uri": "https://localhost:8080/"
        },
        "id": "aGcH4RrtqhDf",
        "outputId": "5c1bbaf1-d8a7-42dc-bd30-d092843f133d"
      },
      "execution_count": 13,
      "outputs": [
        {
          "output_type": "stream",
          "name": "stderr",
          "text": [
            "<ipython-input-13-d6e39c765d76>:1: DeprecationWarning: scipy.isnan is deprecated and will be removed in SciPy 2.0.0, use numpy.isnan instead\n",
            "  sp.sum(sp.isnan(y))\n",
            "<ipython-input-13-d6e39c765d76>:1: DeprecationWarning: scipy.sum is deprecated and will be removed in SciPy 2.0.0, use numpy.sum instead\n",
            "  sp.sum(sp.isnan(y))\n"
          ]
        },
        {
          "output_type": "execute_result",
          "data": {
            "text/plain": [
              "8"
            ]
          },
          "metadata": {},
          "execution_count": 13
        }
      ]
    },
    {
      "cell_type": "code",
      "source": [
        ">>> x = x[~sp.isnan(y)]\n",
        ">>> y = y[~sp.isnan(y)]"
      ],
      "metadata": {
        "colab": {
          "base_uri": "https://localhost:8080/"
        },
        "id": "HZulFA7Dq3OI",
        "outputId": "52d5e2b2-42d8-49f0-8a19-596c7c74f7e1"
      },
      "execution_count": 14,
      "outputs": [
        {
          "output_type": "stream",
          "name": "stderr",
          "text": [
            "<ipython-input-14-63f409da33d3>:1: DeprecationWarning: scipy.isnan is deprecated and will be removed in SciPy 2.0.0, use numpy.isnan instead\n",
            "  x = x[~sp.isnan(y)]\n",
            "<ipython-input-14-63f409da33d3>:2: DeprecationWarning: scipy.isnan is deprecated and will be removed in SciPy 2.0.0, use numpy.isnan instead\n",
            "  y = y[~sp.isnan(y)]\n"
          ]
        }
      ]
    },
    {
      "cell_type": "code",
      "source": [
        ">>> import matplotlib.pyplot as plt\n",
        ">>> # представляем точки (x,y) кружочками диаметра 10\n",
        ">>> plt.scatter(x, y, s=10)\n",
        ">>> plt.title(\"Web traffic over the last month\")\n",
        ">>> plt.xlabel(\"Time\")\n",
        ">>> plt.ylabel(\"Hits/hour\")\n",
        ">>> plt.xticks([w*7*24 for w in range(10)],\n",
        "                 ['week %i' % w for w in range(10)])\n",
        ">>> plt.autoscale(tight=True)\n",
        ">>> # рисуем полупрозрачную сетку пунктирными линиями\n",
        ">>> plt.grid(True, linestyle='-', color='0.75')\n",
        ">>> plt.show()"
      ],
      "metadata": {
        "colab": {
          "base_uri": "https://localhost:8080/",
          "height": 295
        },
        "id": "4yQwnvJSq-f8",
        "outputId": "ee4586f4-1805-4891-865f-06781536bba0"
      },
      "execution_count": 15,
      "outputs": [
        {
          "output_type": "display_data",
          "data": {
            "text/plain": [
              "<Figure size 432x288 with 1 Axes>"
            ],
            "image/png": "[encoded data removed]"
          },
          "metadata": {
            "needs_background": "light"
          }
        }
      ]
    }
  ]
}