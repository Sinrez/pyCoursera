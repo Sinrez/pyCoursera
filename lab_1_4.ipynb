{
  "cells": [
    {
      "cell_type": "markdown",
      "metadata": {
        "id": "view-in-github",
        "colab_type": "text"
      },
      "source": [
        "<a href=\"https://colab.research.google.com/github/Sinrez/pyCoursera/blob/master/lab_1_4.ipynb\" target=\"_parent\"><img src=\"https://colab.research.google.com/assets/colab-badge.svg\" alt=\"Open In Colab\"/></a>"
      ]
    },
    {
      "cell_type": "markdown",
      "metadata": {
        "id": "UhytI1Pfxkpu"
      },
      "source": [
        "# Лабораторная работа №4\n",
        "**Ответом на задание будет *.ipynb файл.**\n",
        "\n",
        "Требования:\n",
        "1. Лабораторная работа выполняется в данном шаблоне.\n",
        "2. Удаление и добавление ячеек **не допускается**.\n",
        "3. Код необходимо вводить только там, где присутствует комментарий `# вставить код сюда`.\n",
        "4. Перед тем, как выложить работу в moodle, переименуйте файл по следующему шаблону **ФамилияИО.ipynb**. Например: если Вас зовут Иванов Иван Иванович, то имя файла будет выглядеть так **ИвановИИ.ipynb**.\n",
        "\n",
        "Требования обусловлены автоматической проверкой кода в качестве входного контроля."
      ]
    },
    {
      "cell_type": "markdown",
      "metadata": {
        "id": "fQKKZqVoxkpx"
      },
      "source": [
        "### Задача № 1\n",
        "\n",
        "**Входные данные лежат в папке `data`, в файле с названием `titanic.csv`.**\n",
        "\n",
        "**Выходной файл должен называться `result.csv`.**\n",
        "\n",
        "Из входных данных необходимо выделить все записи, где пассажиром является незамужняя женщина. Все полученные данные необходимо сохранить в новый файл. Алгоритм должен быть реализован в виде функции с именем `prepare_data`, которая на вход принимает имена входного и выходного файлов.\n",
        "\n",
        "#### Решение"
      ]
    },
    {
      "cell_type": "code",
      "execution_count": null,
      "metadata": {
        "id": "GFBLHzplxkpx"
      },
      "outputs": [],
      "source": [
        "# вставить код сюда\n",
        "def prepare_data(file_in, file_out) -> None:\n",
        "  try:\n",
        "    with open(file_in, 'r') as f_input, open(file_out, 'w') as f_output:\n",
        "        header = f_input.readline()\n",
        "        f_output.write(header)\n",
        "        data = f_input.readlines()\n",
        "        for line in data:        \n",
        "            fem_married = line[line.rfind(', ') + 2:line.rfind('. ')]\n",
        "            if fem_married == 'Miss':\n",
        "              f_output.write(line)\n",
        "  except IOError:\n",
        "    print('IOError')\n",
        "\n",
        "if __name__ == '__main__':\n",
        "  prepare_data('titanic.csv','result.csv')"
      ]
    },
    {
      "cell_type": "markdown",
      "metadata": {
        "id": "N4OT_DZdxkpy"
      },
      "source": [
        "### Задача № 2\n",
        "\n",
        "**Входные данные лежат в папке `data`, в файле с названием `titanic.csv`.**\n",
        "\n",
        "Посчитать средний возраст выживших незамужних женщин и распечатать его. Алгоритм должен быть реализован в виде функции с именем `get_mean_age`, которая на вход принимает имя входного файла и возвращает средний возраст.\n",
        "\n",
        "#### Решение"
      ]
    },
    {
      "cell_type": "code",
      "execution_count": null,
      "metadata": {
        "id": "DHt-75yoxkpy",
        "colab": {
          "base_uri": "https://localhost:8080/"
        },
        "outputId": "706b1c2d-424a-42cb-d04f-3121de94f424"
      },
      "outputs": [
        {
          "output_type": "stream",
          "name": "stdout",
          "text": [
            "21.77\n"
          ]
        }
      ],
      "source": [
        "# вставить код сюда\n",
        "def get_mean_age(file_in) -> float:\n",
        "  age = 0\n",
        "  cnt = 0\n",
        "  try:\n",
        "    with open(file_in, 'r') as f_input:\n",
        "        data = f_input.readlines()\n",
        "        for line in data:        \n",
        "            fem_married = line[line.rfind(', ') + 2:line.rfind('. ')]\n",
        "            if fem_married == 'Miss':\n",
        "              ag = line.split(',')[-2]\n",
        "              if ag:\n",
        "                age += float(ag)\n",
        "                cnt += 1\n",
        "    print(f'{age/cnt:.2f}')\n",
        "\n",
        "  except IOError:\n",
        "    print('IOError')\n",
        "\n",
        "if __name__ == '__main__':\n",
        "  get_mean_age('titanic.csv')"
      ]
    }
  ],
  "metadata": {
    "kernelspec": {
      "display_name": "Python 3",
      "language": "python",
      "name": "python3"
    },
    "language_info": {
      "codemirror_mode": {
        "name": "ipython",
        "version": 3
      },
      "file_extension": ".py",
      "mimetype": "text/x-python",
      "name": "python",
      "nbconvert_exporter": "python",
      "pygments_lexer": "ipython3",
      "version": "3.7.3"
    },
    "colab": {
      "provenance": [],
      "include_colab_link": true
    }
  },
  "nbformat": 4,
  "nbformat_minor": 0
}