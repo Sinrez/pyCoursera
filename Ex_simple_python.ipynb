{
  "nbformat": 4,
  "nbformat_minor": 0,
  "metadata": {
    "colab": {
      "name": "Ex simple python.ipynb",
      "provenance": [],
      "authorship_tag": "ABX9TyMH+IMrY7G2mujeqCLvT06/",
      "include_colab_link": true
    },
    "kernelspec": {
      "name": "python3",
      "display_name": "Python 3"
    },
    "language_info": {
      "name": "python"
    }
  },
  "cells": [
    {
      "cell_type": "markdown",
      "metadata": {
        "id": "view-in-github",
        "colab_type": "text"
      },
      "source": [
        "<a href=\"https://colab.research.google.com/github/Sinrez/pyCoursera/blob/master/Ex_simple_python.ipynb\" target=\"_parent\"><img src=\"https://colab.research.google.com/assets/colab-badge.svg\" alt=\"Open In Colab\"/></a>"
      ]
    },
    {
      "cell_type": "code",
      "execution_count": null,
      "metadata": {
        "colab": {
          "base_uri": "https://localhost:8080/"
        },
        "id": "w7s0RF3pIBsa",
        "outputId": "49c6aeda-ecf2-4d4c-8203-45df344314de"
      },
      "outputs": [
        {
          "output_type": "execute_result",
          "data": {
            "text/plain": [
              "{'blue': 'confuse everyone',\n",
              " 'green': 'go',\n",
              " 'red': 'smile for the camera',\n",
              " 'yellow': 'go faster'}"
            ]
          },
          "metadata": {},
          "execution_count": 1
        }
      ],
      "source": [
        ">>> signals = {'green': 'go',\n",
        "... 'yellow': 'go faster',\n",
        "... 'red': 'smile for the camera'}\n",
        ">>> save_signals = signals\n",
        ">>> signals['blue'] = 'confuse everyone'\n",
        ">>> save_signals\n",
        "{'green': 'go',\n",
        "'yellow': 'go faster',\n",
        "'red': 'smile for the camera',\n",
        "'blue': 'confuse everyone'}"
      ]
    },
    {
      "cell_type": "code",
      "source": [
        "\n",
        ">>> signals = {'green': 'go',\n",
        "... 'yellow': 'go faster',\n",
        "... 'red': ['stop', 'smile']}\n",
        ">>> signals_copy = signals.copy()\n",
        ">>> signals\n",
        "{'green': 'go',\n",
        "'yellow': 'go faster',\n",
        "'red': ['stop', 'smile']}\n",
        ">>> signals_copy\n",
        "{'green': 'go',\n",
        "'yellow': 'go faster',\n",
        "'red': ['stop', 'smile']}\n",
        ">>>"
      ],
      "metadata": {
        "colab": {
          "base_uri": "https://localhost:8080/"
        },
        "id": "xFejp2IbIMCu",
        "outputId": "ea9a0ddb-e157-469e-beed-6f45e57c9a45"
      },
      "execution_count": null,
      "outputs": [
        {
          "output_type": "execute_result",
          "data": {
            "text/plain": [
              "{'green': 'go', 'red': ['stop', 'smile'], 'yellow': 'go faster'}"
            ]
          },
          "metadata": {},
          "execution_count": 2
        }
      ]
    },
    {
      "cell_type": "code",
      "source": [
        ">>> def print_kwargs(**kwargs):\n",
        "...     print('Keyword arguments:', kwargs)"
      ],
      "metadata": {
        "id": "MS2na4Ewfq5n"
      },
      "execution_count": 1,
      "outputs": []
    },
    {
      "cell_type": "code",
      "source": [
        "print_kwargs(wine='merlot', entree='mutton', dessert='macaroon')"
      ],
      "metadata": {
        "colab": {
          "base_uri": "https://localhost:8080/"
        },
        "id": "g9cU_e7lfwpJ",
        "outputId": "6190c24b-d528-4b90-cc6d-48966464a7d2"
      },
      "execution_count": 2,
      "outputs": [
        {
          "output_type": "stream",
          "name": "stdout",
          "text": [
            "Keyword arguments: {'wine': 'merlot', 'entree': 'mutton', 'dessert': 'macaroon'}\n"
          ]
        }
      ]
    },
    {
      "cell_type": "code",
      "source": [
        "   >>> def edit_story(words, func):\n",
        "   ...     for word in words:\n",
        "   ...         print(func(word))"
      ],
      "metadata": {
        "id": "u1tzk_eeiu0L"
      },
      "execution_count": 3,
      "outputs": []
    },
    {
      "cell_type": "code",
      "source": [
        " stairs = ['thud', 'meow', 'thud', 'hiss']"
      ],
      "metadata": {
        "id": "_xicOPE-i1bm"
      },
      "execution_count": 5,
      "outputs": []
    },
    {
      "cell_type": "code",
      "source": [
        "edit_story(stairs, lambda word: word.capitalize() + '!')"
      ],
      "metadata": {
        "colab": {
          "base_uri": "https://localhost:8080/"
        },
        "id": "AubBIu7viv7V",
        "outputId": "03642b07-eaa7-4ce7-a821-d4717be1cc0e"
      },
      "execution_count": 6,
      "outputs": [
        {
          "output_type": "stream",
          "name": "stdout",
          "text": [
            "Thud!\n",
            "Meow!\n",
            "Thud!\n",
            "Hiss!\n"
          ]
        }
      ]
    }
  ]
}