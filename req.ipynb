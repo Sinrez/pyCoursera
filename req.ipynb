{
  "nbformat": 4,
  "nbformat_minor": 0,
  "metadata": {
    "colab": {
      "provenance": [],
      "authorship_tag": "ABX9TyPbGYie4hfNgKvWxHDzbVL+",
      "include_colab_link": true
    },
    "kernelspec": {
      "name": "python3",
      "display_name": "Python 3"
    },
    "language_info": {
      "name": "python"
    }
  },
  "cells": [
    {
      "cell_type": "markdown",
      "metadata": {
        "id": "view-in-github",
        "colab_type": "text"
      },
      "source": [
        "<a href=\"https://colab.research.google.com/github/Sinrez/pyCoursera/blob/master/req.ipynb\" target=\"_parent\"><img src=\"https://colab.research.google.com/assets/colab-badge.svg\" alt=\"Open In Colab\"/></a>"
      ]
    },
    {
      "cell_type": "code",
      "execution_count": null,
      "metadata": {
        "id": "-BFw04-TM6LE"
      },
      "outputs": [],
      "source": [
        "from bs4 import BeautifulSoup\n",
        "import requests\n",
        "import lxml"
      ]
    },
    {
      "cell_type": "code",
      "source": [
        "with open('index.html', 'r', encoding='utf-8') as file:\n",
        "    soup2 = BeautifulSoup(file, 'lxml')\n",
        "    print(soup2)"
      ],
      "metadata": {
        "colab": {
          "base_uri": "https://localhost:8080/"
        },
        "id": "qVxb8aOUNASs",
        "outputId": "366aeaac-92dc-4a2b-b388-7567cc38a264"
      },
      "execution_count": null,
      "outputs": [
        {
          "output_type": "stream",
          "name": "stdout",
          "text": [
            "<!DOCTYPE html>\n",
            "<html lang=\"en\">\n",
            "<head>\n",
            "<link href=\"../style/style.css\" rel=\"stylesheet\"/>\n",
            "<meta charset=\"utf-8\"/>\n",
            "<meta content=\"width=device-width, initial-scale=1.0\" name=\"viewport\"/>\n",
            "<title>Учимся парсить</title>\n",
            "</head>\n",
            "<body>\n",
            "<div class=\"headers\">\n",
            "<div class=\"p_headers\">vazon</div>\n",
            "</div>\n",
            "<div class=\"pagen\">\n",
            "<a href=\"index1_page_1.html\">1</a>\n",
            "<a href=\"index1_page_2.html\">2</a>\n",
            "<a href=\"index1_page_3.html\">3</a>\n",
            "<a href=\"index1_page_4.html\">4</a>\n",
            "</div>\n",
            "<div class=\"main\">\n",
            "<div class=\"nav_menu\">\n",
            "<a href=\"index1_page_1.html\"><div id=\"watch\">ЧАСЫ</div></a>\n",
            "<a href=\"index2_page_1.html\"><div id=\"mobile\">ТЕЛЕФОНЫ</div></a>\n",
            "<a href=\"index3_page_1.html\"><div id=\"mouse\">МЫШИ</div></a>\n",
            "<a href=\"index4_page_1.html\"><div id=\"hdd\">HDD</div></a>\n",
            "<a href=\"index5_page_1.html\"><div id=\"headphones\">НАУШНИКИ</div></a>\n",
            "</div>\n",
            "<div class=\"item_card\">\n",
            "<div class=\"item\">\n",
            "<div class=\"img_box\">\n",
            "<a href=\"watch/1/1_1.html\" name=\"1_1\"><img alt=\"\" src=\"http://parsinger.ru/img/1/1.jpg\"/></a>\n",
            "<a class=\"name_item\" href=\"watch/1/1_1.html\" name=\"1_1\">Jet Kid Start blue Умные детские часы</a>\n",
            "<div class=\"description\">\n",
            "<li>Бренд: Jet</li>\n",
            "<li>Тип: умные часы</li>\n",
            "<li>Материал корпуса: пластик</li>\n",
            "<li>Технология экрана: Монохромный</li>\n",
            "</div>\n",
            "<div class=\"container\">\n",
            "<div class=\"price_box\"><p class=\"price\">2310 руб</p></div>\n",
            "<div class=\"sale_button\"><a href=\"watch/1/1_1.html\"><p>Подробнее</p></a></div>\n",
            "</div>\n",
            "</div></div>\n",
            "<div class=\"item\">\n",
            "<div class=\"img_box\">\n",
            "<a href=\"watch/1/1_2.html\" name=\"1_2\"><img alt=\"\" src=\"http://parsinger.ru/img/1/2.jpg\"/></a>\n",
            "<a class=\"name_item\" href=\"watch/1/1_2.html\" name=\"1_2\">BAND 6 FOREST GREEN FARA-B19 HUAWEI</a>\n",
            "<div class=\"description\">\n",
            "<li>Бренд: Huawei</li>\n",
            "<li>Тип: фитнес браслет</li>\n",
            "<li>Материал корпуса: полимер</li>\n",
            "<li>Технология экрана: AMOLED</li>\n",
            "</div>\n",
            "<div class=\"container\">\n",
            "<div class=\"price_box\"><p class=\"price\">5480 руб</p></div>\n",
            "<div class=\"sale_button\"><a href=\"watch/1/1_2.html\"><p>Подробнее</p></a></div>\n",
            "</div>\n",
            "</div></div>\n",
            "<div class=\"item\">\n",
            "<div class=\"img_box\">\n",
            "<a href=\"watch/1/1_3.html\" name=\"1_3\"><img alt=\"\" src=\"http://parsinger.ru/img/1/3.jpg\"/></a>\n",
            "<a class=\"name_item\" href=\"watch/1/1_3.html\" name=\"1_3\">Умные часы GT 3 MIL-B19S BLACK HUAWEI</a>\n",
            "<div class=\"description\">\n",
            "<li>Бренд: Huawei</li>\n",
            "<li>Тип: умные часы</li>\n",
            "<li>Материал корпуса: пластик</li>\n",
            "<li>Технология экрана: Монохромный</li>\n",
            "</div>\n",
            "<div class=\"container\">\n",
            "<div class=\"price_box\"><p class=\"price\">21810 руб</p></div>\n",
            "<div class=\"sale_button\"><a href=\"watch/1/1_3.html\"><p>Подробнее</p></a></div>\n",
            "</div>\n",
            "</div></div>\n",
            "<div class=\"item\">\n",
            "<div class=\"img_box\">\n",
            "<a href=\"watch/1/1_4.html\" name=\"1_4\"><img alt=\"\" src=\"http://parsinger.ru/img/1/4.jpg\"/></a>\n",
            "<a class=\"name_item\" href=\"watch/1/1_4.html\" name=\"1_4\">Умные часы GT 3 MIL-B19V BROWN HUAWEI</a>\n",
            "<div class=\"description\">\n",
            "<li>Бренд: Huawei</li>\n",
            "<li>Тип: умные часы</li>\n",
            "<li>Материал корпуса: нержавеющая сталь</li>\n",
            "<li>Технология экрана: AMOLED</li>\n",
            "</div>\n",
            "<div class=\"container\">\n",
            "<div class=\"price_box\"><p class=\"price\">21810 руб</p></div>\n",
            "<div class=\"sale_button\"><a href=\"watch/1/1_4.html\"><p>Подробнее</p></a></div>\n",
            "</div>\n",
            "</div></div>\n",
            "<div class=\"item\">\n",
            "<div class=\"img_box\">\n",
            "<a href=\"watch/1/1_5.html\" name=\"1_5\"><img alt=\"\" src=\"http://parsinger.ru/img/1/5.jpg\"/></a>\n",
            "<a class=\"name_item\" href=\"watch/1/1_5.html\" name=\"1_5\">GT RUNNER-B19S BLACK HUAWEI</a>\n",
            "<div class=\"description\">\n",
            "<li>Бренд: Huawei</li>\n",
            "<li>Тип: умные часы</li>\n",
            "<li>Материал корпуса: пластик</li>\n",
            "<li>Технология экрана: AMOLED</li>\n",
            "</div>\n",
            "<div class=\"container\">\n",
            "<div class=\"price_box\"><p class=\"price\">27770 руб</p></div>\n",
            "<div class=\"sale_button\"><a href=\"watch/1/1_5.html\"><p>Подробнее</p></a></div>\n",
            "</div>\n",
            "</div></div>\n",
            "<div class=\"item\">\n",
            "<div class=\"img_box\">\n",
            "<a href=\"watch/1/1_6.html\" name=\"1_6\"><img alt=\"\" src=\"http://parsinger.ru/img/1/6.jpg\"/></a>\n",
            "<a class=\"name_item\" href=\"watch/1/1_6.html\" name=\"1_6\">GT RUNNER-B19A GREY HUAWEI</a>\n",
            "<div class=\"description\">\n",
            "<li>Бренд: Huawei</li>\n",
            "<li>Тип: умные часы</li>\n",
            "<li>Материал корпуса: пластик</li>\n",
            "<li>Технология экрана: AMOLED</li>\n",
            "</div>\n",
            "<div class=\"container\">\n",
            "<div class=\"price_box\"><p class=\"price\">27770 руб</p></div>\n",
            "<div class=\"sale_button\"><a href=\"watch/1/1_6.html\"><p>Подробнее</p></a></div>\n",
            "</div>\n",
            "</div></div>\n",
            "<div class=\"item\">\n",
            "<div class=\"img_box\">\n",
            "<a href=\"watch/1/1_7.html\" name=\"1_7\"><img alt=\"\" src=\"http://parsinger.ru/img/1/7.jpg\"/></a>\n",
            "<a class=\"name_item\" href=\"watch/1/1_7.html\" name=\"1_7\">Умные часы GT 3 MIL-B19 GOLD HUAWEI</a>\n",
            "<div class=\"description\">\n",
            "<li>Бренд: Huawei</li>\n",
            "<li>Тип: умные часы</li>\n",
            "<li>Материал корпуса: нержавеющая сталь, пластик</li>\n",
            "<li>Технология экрана: AMOLED</li>\n",
            "</div>\n",
            "<div class=\"container\">\n",
            "<div class=\"price_box\"><p class=\"price\">24230 руб</p></div>\n",
            "<div class=\"sale_button\"><a href=\"watch/1/1_7.html\"><p>Подробнее</p></a></div>\n",
            "</div>\n",
            "</div></div>\n",
            "<div class=\"item\">\n",
            "<div class=\"img_box\">\n",
            "<a href=\"watch/1/1_8.html\" name=\"1_8\"><img alt=\"\" src=\"http://parsinger.ru/img/1/8.jpg\"/></a>\n",
            "<a class=\"name_item\" href=\"watch/1/1_8.html\" name=\"1_8\">Умные часы WATCH 3 GALILEO-L11 STEEL</a>\n",
            "<div class=\"description\">\n",
            "<li>Бренд:  Huawei</li>\n",
            "<li>Тип: умные часы</li>\n",
            "<li>Материал корпуса: металл, керамика</li>\n",
            "<li>Технология экрана:  AMOLED</li>\n",
            "</div>\n",
            "<div class=\"container\">\n",
            "<div class=\"price_box\"><p class=\"price\">32600 руб</p></div>\n",
            "<div class=\"sale_button\"><a href=\"watch/1/1_8.html\"><p>Подробнее</p></a></div>\n",
            "</div>\n",
            "</div></div>\n",
            "</div>\n",
            "</div>\n",
            "<div class=\"pagen\">\n",
            "<a href=\"index1_page_1.html\">1</a>\n",
            "<a href=\"index1_page_2.html\">2</a>\n",
            "<a href=\"index1_page_3.html\">3</a>\n",
            "<a href=\"index1_page_4.html\">4</a>\n",
            "</div>\n",
            "<div class=\"bottom\"></div>\n",
            "</body>\n",
            "</html>\n"
          ]
        }
      ]
    },
    {
      "cell_type": "code",
      "source": [
        "strr = 'Величайший урок жизни в том, что и дураки бывают правы.( Уинстон Черчилль )'\n",
        "symb = 'в'\n",
        "print(strr.count(symb) if symb in strr else len(strr))"
      ],
      "metadata": {
        "colab": {
          "base_uri": "https://localhost:8080/"
        },
        "id": "a2h1X8TO4Yoo",
        "outputId": "d6a3e67d-d808-4218-b8fa-f12b312bb2e0"
      },
      "execution_count": null,
      "outputs": [
        {
          "output_type": "stream",
          "name": "stdout",
          "text": [
            "3\n"
          ]
        }
      ]
    },
    {
      "cell_type": "code",
      "source": [
        "import pandas as pd\n",
        "import numpy as np"
      ],
      "metadata": {
        "id": "n3wMlCyjtcnp"
      },
      "execution_count": 4,
      "outputs": []
    },
    {
      "cell_type": "code",
      "source": [
        "lst = list(map(int, '2  8 10  3  1  8  6  9 11  1'.split()))\n",
        "df  = pd.DataFrame(lst)\n",
        "print(df.mean())\n",
        "print(df.std())"
      ],
      "metadata": {
        "colab": {
          "base_uri": "https://localhost:8080/"
        },
        "id": "ZIYPk2aPtJAb",
        "outputId": "fbd37702-0cac-438b-b638-2e7a38fa95c0"
      },
      "execution_count": 5,
      "outputs": [
        {
          "output_type": "stream",
          "name": "stdout",
          "text": [
            "0    5.9\n",
            "dtype: float64\n",
            "0    3.842742\n",
            "dtype: float64\n"
          ]
        }
      ]
    },
    {
      "cell_type": "code",
      "source": [
        "lst = list(map(int, '7 11  3  5 10 12 11  9  6  1  8 11  1  4  9'.split()))\n",
        "df  = pd.DataFrame(lst)\n",
        "print(df.median())\n",
        "q75, q25 = np.percentile(df, [75 ,25])\n",
        "print(q75 - q25)"
      ],
      "metadata": {
        "id": "ToQ6mI5xtGUT",
        "colab": {
          "base_uri": "https://localhost:8080/"
        },
        "outputId": "cec61d40-b091-452c-9413-da1dff0396e2"
      },
      "execution_count": null,
      "outputs": [
        {
          "output_type": "stream",
          "name": "stdout",
          "text": [
            "0    8.0\n",
            "dtype: float64\n",
            "6.0\n"
          ]
        }
      ]
    },
    {
      "cell_type": "code",
      "source": [
        "lst_x = list(map(int, '2 10  5  4 7 7 1  4  7  8  6 6  6  7  10'.split()))\n",
        "lst_y = list(map(int, '3 4  7  11 2 11 11  8  8  1  2 2  8  5  9'.split()))\n",
        "x = pd.Series(lst_x)\n",
        "y = pd.Series(lst_y)\n",
        "print(x.cov(y))"
      ],
      "metadata": {
        "colab": {
          "base_uri": "https://localhost:8080/"
        },
        "id": "6wbKPaHl_tAO",
        "outputId": "36c98995-0567-4e33-bac3-807df52a2710"
      },
      "execution_count": null,
      "outputs": [
        {
          "output_type": "stream",
          "name": "stdout",
          "text": [
            "-2.285714285714285\n"
          ]
        }
      ]
    },
    {
      "cell_type": "code",
      "source": [
        "res = 0\n",
        "def h():\n",
        "    print(\"- H\")\n",
        "    print(\"- 12\")\n",
        "    global res \n",
        "    res += 1\n",
        "    print(\"H - end\")\n",
        "\n",
        "def f():\n",
        "    print(\"- F\")\n",
        "    g(h)\n",
        "    global res \n",
        "    res += 1\n",
        "    print(\"F - end\")\n",
        "\n",
        "def g(a):\n",
        "    print(\"- G - \",a)\n",
        "    a()\n",
        "    global res \n",
        "    res += 2\n",
        "    print(\"G - end\")\n",
        "\n",
        "print(\"\\nMODULE\")\n",
        "g(f)\n",
        "print(res)"
      ],
      "metadata": {
        "colab": {
          "base_uri": "https://localhost:8080/"
        },
        "id": "-gQTs9JQqhZA",
        "outputId": "c7584df4-0497-477d-a5ca-801f92bb7333"
      },
      "execution_count": 13,
      "outputs": [
        {
          "output_type": "stream",
          "name": "stdout",
          "text": [
            "\n",
            "MODULE\n",
            "- G -  <function f at 0x7efd196b21f0>\n",
            "- F\n",
            "- G -  <function h at 0x7efd196b2700>\n",
            "- H\n",
            "- 12\n",
            "H - end\n",
            "G - end\n",
            "F - end\n",
            "G - end\n",
            "6\n"
          ]
        }
      ]
    },
    {
      "cell_type": "code",
      "source": [
        "def s(a, *vs, b=10):\n",
        "   res = a + b\n",
        "   for v in vs:\n",
        "       res += v\n",
        "   return res"
      ],
      "metadata": {
        "id": "rTQ_Ug4a4-ds"
      },
      "execution_count": null,
      "outputs": []
    },
    {
      "cell_type": "code",
      "source": [
        "def s(a, *vs, b=10):\n",
        "   res = a + b\n",
        "   for v in vs:\n",
        "       res += v\n",
        "   return res\n",
        "\n",
        "print('s(21) = ', s(21)) # 31\n",
        "print('s(11, 10) = ', s(11, 10)) # 31\n",
        "print('s(0, 0, 31) = ', s(0, 0, 31)) # 41\n",
        "\n",
        "# TypeError: s() missing 1 required positional argument: 'a'\n",
        "# print('s(b=31) = ', s(b=31))\n",
        "\n",
        "print('s(11, 10, b=10) = ', s(11, 10, b=10)) # 31\n",
        "print('s(11, b=20) = ', s(11, b=20)) # 31\n",
        "print('s(5, 5, 5, 5, 1) = ', s(5, 5, 5, 5, 1)) # 31\n",
        "print('s(11, 10, 10) = ', s(11, 10, 10)) # 41\n",
        "\n",
        "# SyntaxError\n",
        "# # positional argument follows keyword argument\n",
        "# print(s(b=31, 0))"
      ],
      "metadata": {
        "colab": {
          "base_uri": "https://localhost:8080/"
        },
        "id": "9yig_pqo5H2c",
        "outputId": "be87c96c-1e8a-489e-8866-29652892fa4e"
      },
      "execution_count": 17,
      "outputs": [
        {
          "output_type": "stream",
          "name": "stdout",
          "text": [
            "s(21) =  31\n",
            "s(11, 10) =  31\n",
            "s(0, 0, 31) =  41\n",
            "s(11, 10, b=10) =  31\n",
            "s(11, b=20) =  31\n",
            "s(5, 5, 5, 5, 1) =  31\n",
            "s(11, 10, 10) =  41\n"
          ]
        }
      ]
    },
    {
      "cell_type": "code",
      "source": [
        "x, y = 1, 2\n",
        "\n",
        "def foo():\n",
        "    global y\n",
        "    if y == 2:\n",
        "        x = 2\n",
        "        y = 1\n",
        "\n",
        "foo()\n",
        "print(x)\n",
        "if y == 1:\n",
        "    x = 3\n",
        "print(x)"
      ],
      "metadata": {
        "colab": {
          "base_uri": "https://localhost:8080/"
        },
        "id": "9j0_HJKQ3RMy",
        "outputId": "7ddbf43b-cd97-4d9f-b67c-6574e58824ca"
      },
      "execution_count": 1,
      "outputs": [
        {
          "output_type": "stream",
          "name": "stdout",
          "text": [
            "1\n",
            "3\n"
          ]
        }
      ]
    },
    {
      "cell_type": "code",
      "source": [
        "\n",
        "class Buffer(object):\n",
        "\n",
        "    def __init__(self):\n",
        "        \"\"\" конструктор без аргументов\"\"\"\n",
        "        self.buff = list()\n",
        "\n",
        "    def add(self, *a):\n",
        "        \"\"\" добавить следующую часть последовательности\"\"\"\n",
        "        self.buff.extend(a)\n",
        "\n",
        "        while len(self.buff) >= 5:\n",
        "            print(sum(self.buff[:5]))\n",
        "            del self.buff[:5]\n",
        "\n",
        "    def get_current_part(self):\n",
        "        \"\"\" вернуть сохраненные в текущий момент элементы последовательности в порядке, в котором они были добавлены\"\"\"\n",
        "        return self.buff"
      ],
      "metadata": {
        "colab": {
          "base_uri": "https://localhost:8080/"
        },
        "id": "9m8ssnIfG7o5",
        "outputId": "09803c9d-3f6b-440b-bdba-bdd95be7b91c"
      },
      "execution_count": 2,
      "outputs": [
        {
          "output_type": "execute_result",
          "data": {
            "text/plain": [
              "23.80952380952381"
            ]
          },
          "metadata": {},
          "execution_count": 2
        }
      ]
    },
    {
      "cell_type": "code",
      "source": [
        "class A:\n",
        "    val = 1\n",
        "\n",
        "    def foo(self):\n",
        "        A.val += 2\n",
        "\n",
        "    def bar(self):\n",
        "        self.val += 1\n",
        "\n",
        "\n",
        "a = A()\n",
        "b = A()\n",
        "\n",
        "a.bar()\n",
        "a.foo()\n",
        "\n",
        "c = A()\n",
        "\n",
        "print(a.val)\n",
        "print(b.val)\n",
        "print(c.val)"
      ],
      "metadata": {
        "colab": {
          "base_uri": "https://localhost:8080/"
        },
        "id": "uoyVnPsCLQqv",
        "outputId": "b4a7329b-9767-4331-c937-b2839fe572b0"
      },
      "execution_count": 3,
      "outputs": [
        {
          "output_type": "stream",
          "name": "stdout",
          "text": [
            "2\n",
            "3\n",
            "3\n"
          ]
        }
      ]
    },
    {
      "cell_type": "code",
      "source": [
        "class Base:\n",
        "    def __init__(self):\n",
        "        self.val = 0\n",
        "\n",
        "    def add_one(self):\n",
        "        self.val += 1\n",
        "\n",
        "    def add_many(self, x):\n",
        "        for i in range(x):\n",
        "            self.add_one()\n",
        "\n",
        "class Derived(Base):\n",
        "    def add_one(self):\n",
        "        self.val += 10\n",
        "\n",
        "\n",
        "a = Derived()\n",
        "a.add_one()\n",
        "\n",
        "b = Derived()\n",
        "b.add_many(3)\n",
        "\n",
        "print(a.val)\n",
        "print(b.val)"
      ],
      "metadata": {
        "colab": {
          "base_uri": "https://localhost:8080/"
        },
        "id": "fEhb0rGy539v",
        "outputId": "ee73cc0f-4324-468f-ffb7-02e30d648664"
      },
      "execution_count": 1,
      "outputs": [
        {
          "output_type": "stream",
          "name": "stdout",
          "text": [
            "10\n",
            "30\n"
          ]
        }
      ]
    },
    {
      "cell_type": "code",
      "source": [
        "\n",
        "class ExtendedStack(list):\n",
        "    def sum(self):\n",
        "        \"\"\"операция сложения\"\"\"\n",
        "        self.append(self.pop() + self.pop())\n",
        "\n",
        "    def sub(self):\n",
        "        \"\"\"операция вычитания\"\"\"\n",
        "        self.append(self.pop() - self.pop())\n",
        "\n",
        "    def mul(self):\n",
        "        \"\"\"операция умножения\"\"\"\n",
        "        self.append(self.pop() * self.pop())\n",
        "\n",
        "    def div(self):\n",
        "        \"\"\"операция целочисленного деления\"\"\"\n",
        "        self.append(self.pop() // self.pop())"
      ],
      "metadata": {
        "id": "Hi5RbHVi7pji"
      },
      "execution_count": null,
      "outputs": []
    },
    {
      "cell_type": "code",
      "source": [
        "st = \"Пётр идет домой\"\n",
        "print(st[12 % 7:59 // 6])\n",
        "print(st[-10:-6])\n",
        "print(st[5:8])\n",
        "print(st[5:9])"
      ],
      "metadata": {
        "colab": {
          "base_uri": "https://localhost:8080/"
        },
        "id": "qmiDycqPbEt4",
        "outputId": "1210929c-7b08-4242-ae5e-14017974e3f0"
      },
      "execution_count": 1,
      "outputs": [
        {
          "output_type": "stream",
          "name": "stdout",
          "text": [
            "идет\n",
            "идет\n",
            "иде\n",
            "идет\n"
          ]
        }
      ]
    },
    {
      "cell_type": "code",
      "source": [
        "data = [['red', 150], ['orange', 200], ['brown', 100], ['green', 170]]\n",
        "index = ['tomato', 'carrot', 'potatoes', 'cucumber']\n",
        "columns = ['color', 'weight']\n",
        "df = pd.DataFrame(data, index, columns)\n",
        "df"
      ],
      "metadata": {
        "colab": {
          "base_uri": "https://localhost:8080/",
          "height": 175
        },
        "id": "jydnqFTocYuI",
        "outputId": "c22eb86b-9c8c-4c84-bd27-11deb7aacdfe"
      },
      "execution_count": 5,
      "outputs": [
        {
          "output_type": "execute_result",
          "data": {
            "text/plain": [
              "           color  weight\n",
              "tomato       red     150\n",
              "carrot    orange     200\n",
              "potatoes   brown     100\n",
              "cucumber   green     170"
            ],
            "text/html": [
              "\n",
              "  <div id=\"df-fc117fec-6efb-4b55-80a1-843299d1e9f6\">\n",
              "    <div class=\"colab-df-container\">\n",
              "      <div>\n",
              "<style scoped>\n",
              "    .dataframe tbody tr th:only-of-type {\n",
              "        vertical-align: middle;\n",
              "    }\n",
              "\n",
              "    .dataframe tbody tr th {\n",
              "        vertical-align: top;\n",
              "    }\n",
              "\n",
              "    .dataframe thead th {\n",
              "        text-align: right;\n",
              "    }\n",
              "</style>\n",
              "<table border=\"1\" class=\"dataframe\">\n",
              "  <thead>\n",
              "    <tr style=\"text-align: right;\">\n",
              "      <th></th>\n",
              "      <th>color</th>\n",
              "      <th>weight</th>\n",
              "    </tr>\n",
              "  </thead>\n",
              "  <tbody>\n",
              "    <tr>\n",
              "      <th>tomato</th>\n",
              "      <td>red</td>\n",
              "      <td>150</td>\n",
              "    </tr>\n",
              "    <tr>\n",
              "      <th>carrot</th>\n",
              "      <td>orange</td>\n",
              "      <td>200</td>\n",
              "    </tr>\n",
              "    <tr>\n",
              "      <th>potatoes</th>\n",
              "      <td>brown</td>\n",
              "      <td>100</td>\n",
              "    </tr>\n",
              "    <tr>\n",
              "      <th>cucumber</th>\n",
              "      <td>green</td>\n",
              "      <td>170</td>\n",
              "    </tr>\n",
              "  </tbody>\n",
              "</table>\n",
              "</div>\n",
              "      <button class=\"colab-df-convert\" onclick=\"convertToInteractive('df-fc117fec-6efb-4b55-80a1-843299d1e9f6')\"\n",
              "              title=\"Convert this dataframe to an interactive table.\"\n",
              "              style=\"display:none;\">\n",
              "        \n",
              "  <svg xmlns=\"http://www.w3.org/2000/svg\" height=\"24px\"viewBox=\"0 0 24 24\"\n",
              "       width=\"24px\">\n",
              "    <path d=\"M0 0h24v24H0V0z\" fill=\"none\"/>\n",
              "    <path d=\"M18.56 5.44l.94 2.06.94-2.06 2.06-.94-2.06-.94-.94-2.06-.94 2.06-2.06.94zm-11 1L8.5 8.5l.94-2.06 2.06-.94-2.06-.94L8.5 2.5l-.94 2.06-2.06.94zm10 10l.94 2.06.94-2.06 2.06-.94-2.06-.94-.94-2.06-.94 2.06-2.06.94z\"/><path d=\"M17.41 7.96l-1.37-1.37c-.4-.4-.92-.59-1.43-.59-.52 0-1.04.2-1.43.59L10.3 9.45l-7.72 7.72c-.78.78-.78 2.05 0 2.83L4 21.41c.39.39.9.59 1.41.59.51 0 1.02-.2 1.41-.59l7.78-7.78 2.81-2.81c.8-.78.8-2.07 0-2.86zM5.41 20L4 18.59l7.72-7.72 1.47 1.35L5.41 20z\"/>\n",
              "  </svg>\n",
              "      </button>\n",
              "      \n",
              "  <style>\n",
              "    .colab-df-container {\n",
              "      display:flex;\n",
              "      flex-wrap:wrap;\n",
              "      gap: 12px;\n",
              "    }\n",
              "\n",
              "    .colab-df-convert {\n",
              "      background-color: #E8F0FE;\n",
              "      border: none;\n",
              "      border-radius: 50%;\n",
              "      cursor: pointer;\n",
              "      display: none;\n",
              "      fill: #1967D2;\n",
              "      height: 32px;\n",
              "      padding: 0 0 0 0;\n",
              "      width: 32px;\n",
              "    }\n",
              "\n",
              "    .colab-df-convert:hover {\n",
              "      background-color: #E2EBFA;\n",
              "      box-shadow: 0px 1px 2px rgba(60, 64, 67, 0.3), 0px 1px 3px 1px rgba(60, 64, 67, 0.15);\n",
              "      fill: #174EA6;\n",
              "    }\n",
              "\n",
              "    [theme=dark] .colab-df-convert {\n",
              "      background-color: #3B4455;\n",
              "      fill: #D2E3FC;\n",
              "    }\n",
              "\n",
              "    [theme=dark] .colab-df-convert:hover {\n",
              "      background-color: #434B5C;\n",
              "      box-shadow: 0px 1px 3px 1px rgba(0, 0, 0, 0.15);\n",
              "      filter: drop-shadow(0px 1px 2px rgba(0, 0, 0, 0.3));\n",
              "      fill: #FFFFFF;\n",
              "    }\n",
              "  </style>\n",
              "\n",
              "      <script>\n",
              "        const buttonEl =\n",
              "          document.querySelector('#df-fc117fec-6efb-4b55-80a1-843299d1e9f6 button.colab-df-convert');\n",
              "        buttonEl.style.display =\n",
              "          google.colab.kernel.accessAllowed ? 'block' : 'none';\n",
              "\n",
              "        async function convertToInteractive(key) {\n",
              "          const element = document.querySelector('#df-fc117fec-6efb-4b55-80a1-843299d1e9f6');\n",
              "          const dataTable =\n",
              "            await google.colab.kernel.invokeFunction('convertToInteractive',\n",
              "                                                     [key], {});\n",
              "          if (!dataTable) return;\n",
              "\n",
              "          const docLinkHtml = 'Like what you see? Visit the ' +\n",
              "            '<a target=\"_blank\" href=https://colab.research.google.com/notebooks/data_table.ipynb>data table notebook</a>'\n",
              "            + ' to learn more about interactive tables.';\n",
              "          element.innerHTML = '';\n",
              "          dataTable['output_type'] = 'display_data';\n",
              "          await google.colab.output.renderOutput(dataTable, element);\n",
              "          const docLink = document.createElement('div');\n",
              "          docLink.innerHTML = docLinkHtml;\n",
              "          element.appendChild(docLink);\n",
              "        }\n",
              "      </script>\n",
              "    </div>\n",
              "  </div>\n",
              "  "
            ]
          },
          "metadata": {},
          "execution_count": 5
        }
      ]
    },
    {
      "cell_type": "code",
      "source": [
        "df = pd.DataFrame({'tomato': ['red', 150], 'carrot':['orange', 200], 'potatoes':['brown', 100], 'cucumber':['green', 170]})\n",
        "df"
      ],
      "metadata": {
        "colab": {
          "base_uri": "https://localhost:8080/",
          "height": 112
        },
        "id": "2U8BVAUFciw6",
        "outputId": "640d56a1-fc3e-4670-d368-a70be6dc82d9"
      },
      "execution_count": 6,
      "outputs": [
        {
          "output_type": "execute_result",
          "data": {
            "text/plain": [
              "  tomato  carrot potatoes cucumber\n",
              "0    red  orange    brown    green\n",
              "1    150     200      100      170"
            ],
            "text/html": [
              "\n",
              "  <div id=\"df-5f9c0c5a-4e0a-4f9b-b95c-d742b38a4591\">\n",
              "    <div class=\"colab-df-container\">\n",
              "      <div>\n",
              "<style scoped>\n",
              "    .dataframe tbody tr th:only-of-type {\n",
              "        vertical-align: middle;\n",
              "    }\n",
              "\n",
              "    .dataframe tbody tr th {\n",
              "        vertical-align: top;\n",
              "    }\n",
              "\n",
              "    .dataframe thead th {\n",
              "        text-align: right;\n",
              "    }\n",
              "</style>\n",
              "<table border=\"1\" class=\"dataframe\">\n",
              "  <thead>\n",
              "    <tr style=\"text-align: right;\">\n",
              "      <th></th>\n",
              "      <th>tomato</th>\n",
              "      <th>carrot</th>\n",
              "      <th>potatoes</th>\n",
              "      <th>cucumber</th>\n",
              "    </tr>\n",
              "  </thead>\n",
              "  <tbody>\n",
              "    <tr>\n",
              "      <th>0</th>\n",
              "      <td>red</td>\n",
              "      <td>orange</td>\n",
              "      <td>brown</td>\n",
              "      <td>green</td>\n",
              "    </tr>\n",
              "    <tr>\n",
              "      <th>1</th>\n",
              "      <td>150</td>\n",
              "      <td>200</td>\n",
              "      <td>100</td>\n",
              "      <td>170</td>\n",
              "    </tr>\n",
              "  </tbody>\n",
              "</table>\n",
              "</div>\n",
              "      <button class=\"colab-df-convert\" onclick=\"convertToInteractive('df-5f9c0c5a-4e0a-4f9b-b95c-d742b38a4591')\"\n",
              "              title=\"Convert this dataframe to an interactive table.\"\n",
              "              style=\"display:none;\">\n",
              "        \n",
              "  <svg xmlns=\"http://www.w3.org/2000/svg\" height=\"24px\"viewBox=\"0 0 24 24\"\n",
              "       width=\"24px\">\n",
              "    <path d=\"M0 0h24v24H0V0z\" fill=\"none\"/>\n",
              "    <path d=\"M18.56 5.44l.94 2.06.94-2.06 2.06-.94-2.06-.94-.94-2.06-.94 2.06-2.06.94zm-11 1L8.5 8.5l.94-2.06 2.06-.94-2.06-.94L8.5 2.5l-.94 2.06-2.06.94zm10 10l.94 2.06.94-2.06 2.06-.94-2.06-.94-.94-2.06-.94 2.06-2.06.94z\"/><path d=\"M17.41 7.96l-1.37-1.37c-.4-.4-.92-.59-1.43-.59-.52 0-1.04.2-1.43.59L10.3 9.45l-7.72 7.72c-.78.78-.78 2.05 0 2.83L4 21.41c.39.39.9.59 1.41.59.51 0 1.02-.2 1.41-.59l7.78-7.78 2.81-2.81c.8-.78.8-2.07 0-2.86zM5.41 20L4 18.59l7.72-7.72 1.47 1.35L5.41 20z\"/>\n",
              "  </svg>\n",
              "      </button>\n",
              "      \n",
              "  <style>\n",
              "    .colab-df-container {\n",
              "      display:flex;\n",
              "      flex-wrap:wrap;\n",
              "      gap: 12px;\n",
              "    }\n",
              "\n",
              "    .colab-df-convert {\n",
              "      background-color: #E8F0FE;\n",
              "      border: none;\n",
              "      border-radius: 50%;\n",
              "      cursor: pointer;\n",
              "      display: none;\n",
              "      fill: #1967D2;\n",
              "      height: 32px;\n",
              "      padding: 0 0 0 0;\n",
              "      width: 32px;\n",
              "    }\n",
              "\n",
              "    .colab-df-convert:hover {\n",
              "      background-color: #E2EBFA;\n",
              "      box-shadow: 0px 1px 2px rgba(60, 64, 67, 0.3), 0px 1px 3px 1px rgba(60, 64, 67, 0.15);\n",
              "      fill: #174EA6;\n",
              "    }\n",
              "\n",
              "    [theme=dark] .colab-df-convert {\n",
              "      background-color: #3B4455;\n",
              "      fill: #D2E3FC;\n",
              "    }\n",
              "\n",
              "    [theme=dark] .colab-df-convert:hover {\n",
              "      background-color: #434B5C;\n",
              "      box-shadow: 0px 1px 3px 1px rgba(0, 0, 0, 0.15);\n",
              "      filter: drop-shadow(0px 1px 2px rgba(0, 0, 0, 0.3));\n",
              "      fill: #FFFFFF;\n",
              "    }\n",
              "  </style>\n",
              "\n",
              "      <script>\n",
              "        const buttonEl =\n",
              "          document.querySelector('#df-5f9c0c5a-4e0a-4f9b-b95c-d742b38a4591 button.colab-df-convert');\n",
              "        buttonEl.style.display =\n",
              "          google.colab.kernel.accessAllowed ? 'block' : 'none';\n",
              "\n",
              "        async function convertToInteractive(key) {\n",
              "          const element = document.querySelector('#df-5f9c0c5a-4e0a-4f9b-b95c-d742b38a4591');\n",
              "          const dataTable =\n",
              "            await google.colab.kernel.invokeFunction('convertToInteractive',\n",
              "                                                     [key], {});\n",
              "          if (!dataTable) return;\n",
              "\n",
              "          const docLinkHtml = 'Like what you see? Visit the ' +\n",
              "            '<a target=\"_blank\" href=https://colab.research.google.com/notebooks/data_table.ipynb>data table notebook</a>'\n",
              "            + ' to learn more about interactive tables.';\n",
              "          element.innerHTML = '';\n",
              "          dataTable['output_type'] = 'display_data';\n",
              "          await google.colab.output.renderOutput(dataTable, element);\n",
              "          const docLink = document.createElement('div');\n",
              "          docLink.innerHTML = docLinkHtml;\n",
              "          element.appendChild(docLink);\n",
              "        }\n",
              "      </script>\n",
              "    </div>\n",
              "  </div>\n",
              "  "
            ]
          },
          "metadata": {},
          "execution_count": 6
        }
      ]
    },
    {
      "cell_type": "code",
      "source": [
        "df = pd.DataFrame({'index': ['tomato', 'carrot', 'potatoes', 'cucumber'], 'color': ['red', 'orange', 'brown', 'green'], 'weight': [150, 200, 100, 170]})\n",
        "df"
      ],
      "metadata": {
        "colab": {
          "base_uri": "https://localhost:8080/",
          "height": 175
        },
        "id": "DgzQbp5xcl_V",
        "outputId": "c7829cd3-9d64-4419-d5de-45039e9f2c0e"
      },
      "execution_count": 7,
      "outputs": [
        {
          "output_type": "execute_result",
          "data": {
            "text/plain": [
              "      index   color  weight\n",
              "0    tomato     red     150\n",
              "1    carrot  orange     200\n",
              "2  potatoes   brown     100\n",
              "3  cucumber   green     170"
            ],
            "text/html": [
              "\n",
              "  <div id=\"df-cd4341f4-fbef-43e7-93cf-e53085dcc052\">\n",
              "    <div class=\"colab-df-container\">\n",
              "      <div>\n",
              "<style scoped>\n",
              "    .dataframe tbody tr th:only-of-type {\n",
              "        vertical-align: middle;\n",
              "    }\n",
              "\n",
              "    .dataframe tbody tr th {\n",
              "        vertical-align: top;\n",
              "    }\n",
              "\n",
              "    .dataframe thead th {\n",
              "        text-align: right;\n",
              "    }\n",
              "</style>\n",
              "<table border=\"1\" class=\"dataframe\">\n",
              "  <thead>\n",
              "    <tr style=\"text-align: right;\">\n",
              "      <th></th>\n",
              "      <th>index</th>\n",
              "      <th>color</th>\n",
              "      <th>weight</th>\n",
              "    </tr>\n",
              "  </thead>\n",
              "  <tbody>\n",
              "    <tr>\n",
              "      <th>0</th>\n",
              "      <td>tomato</td>\n",
              "      <td>red</td>\n",
              "      <td>150</td>\n",
              "    </tr>\n",
              "    <tr>\n",
              "      <th>1</th>\n",
              "      <td>carrot</td>\n",
              "      <td>orange</td>\n",
              "      <td>200</td>\n",
              "    </tr>\n",
              "    <tr>\n",
              "      <th>2</th>\n",
              "      <td>potatoes</td>\n",
              "      <td>brown</td>\n",
              "      <td>100</td>\n",
              "    </tr>\n",
              "    <tr>\n",
              "      <th>3</th>\n",
              "      <td>cucumber</td>\n",
              "      <td>green</td>\n",
              "      <td>170</td>\n",
              "    </tr>\n",
              "  </tbody>\n",
              "</table>\n",
              "</div>\n",
              "      <button class=\"colab-df-convert\" onclick=\"convertToInteractive('df-cd4341f4-fbef-43e7-93cf-e53085dcc052')\"\n",
              "              title=\"Convert this dataframe to an interactive table.\"\n",
              "              style=\"display:none;\">\n",
              "        \n",
              "  <svg xmlns=\"http://www.w3.org/2000/svg\" height=\"24px\"viewBox=\"0 0 24 24\"\n",
              "       width=\"24px\">\n",
              "    <path d=\"M0 0h24v24H0V0z\" fill=\"none\"/>\n",
              "    <path d=\"M18.56 5.44l.94 2.06.94-2.06 2.06-.94-2.06-.94-.94-2.06-.94 2.06-2.06.94zm-11 1L8.5 8.5l.94-2.06 2.06-.94-2.06-.94L8.5 2.5l-.94 2.06-2.06.94zm10 10l.94 2.06.94-2.06 2.06-.94-2.06-.94-.94-2.06-.94 2.06-2.06.94z\"/><path d=\"M17.41 7.96l-1.37-1.37c-.4-.4-.92-.59-1.43-.59-.52 0-1.04.2-1.43.59L10.3 9.45l-7.72 7.72c-.78.78-.78 2.05 0 2.83L4 21.41c.39.39.9.59 1.41.59.51 0 1.02-.2 1.41-.59l7.78-7.78 2.81-2.81c.8-.78.8-2.07 0-2.86zM5.41 20L4 18.59l7.72-7.72 1.47 1.35L5.41 20z\"/>\n",
              "  </svg>\n",
              "      </button>\n",
              "      \n",
              "  <style>\n",
              "    .colab-df-container {\n",
              "      display:flex;\n",
              "      flex-wrap:wrap;\n",
              "      gap: 12px;\n",
              "    }\n",
              "\n",
              "    .colab-df-convert {\n",
              "      background-color: #E8F0FE;\n",
              "      border: none;\n",
              "      border-radius: 50%;\n",
              "      cursor: pointer;\n",
              "      display: none;\n",
              "      fill: #1967D2;\n",
              "      height: 32px;\n",
              "      padding: 0 0 0 0;\n",
              "      width: 32px;\n",
              "    }\n",
              "\n",
              "    .colab-df-convert:hover {\n",
              "      background-color: #E2EBFA;\n",
              "      box-shadow: 0px 1px 2px rgba(60, 64, 67, 0.3), 0px 1px 3px 1px rgba(60, 64, 67, 0.15);\n",
              "      fill: #174EA6;\n",
              "    }\n",
              "\n",
              "    [theme=dark] .colab-df-convert {\n",
              "      background-color: #3B4455;\n",
              "      fill: #D2E3FC;\n",
              "    }\n",
              "\n",
              "    [theme=dark] .colab-df-convert:hover {\n",
              "      background-color: #434B5C;\n",
              "      box-shadow: 0px 1px 3px 1px rgba(0, 0, 0, 0.15);\n",
              "      filter: drop-shadow(0px 1px 2px rgba(0, 0, 0, 0.3));\n",
              "      fill: #FFFFFF;\n",
              "    }\n",
              "  </style>\n",
              "\n",
              "      <script>\n",
              "        const buttonEl =\n",
              "          document.querySelector('#df-cd4341f4-fbef-43e7-93cf-e53085dcc052 button.colab-df-convert');\n",
              "        buttonEl.style.display =\n",
              "          google.colab.kernel.accessAllowed ? 'block' : 'none';\n",
              "\n",
              "        async function convertToInteractive(key) {\n",
              "          const element = document.querySelector('#df-cd4341f4-fbef-43e7-93cf-e53085dcc052');\n",
              "          const dataTable =\n",
              "            await google.colab.kernel.invokeFunction('convertToInteractive',\n",
              "                                                     [key], {});\n",
              "          if (!dataTable) return;\n",
              "\n",
              "          const docLinkHtml = 'Like what you see? Visit the ' +\n",
              "            '<a target=\"_blank\" href=https://colab.research.google.com/notebooks/data_table.ipynb>data table notebook</a>'\n",
              "            + ' to learn more about interactive tables.';\n",
              "          element.innerHTML = '';\n",
              "          dataTable['output_type'] = 'display_data';\n",
              "          await google.colab.output.renderOutput(dataTable, element);\n",
              "          const docLink = document.createElement('div');\n",
              "          docLink.innerHTML = docLinkHtml;\n",
              "          element.appendChild(docLink);\n",
              "        }\n",
              "      </script>\n",
              "    </div>\n",
              "  </div>\n",
              "  "
            ]
          },
          "metadata": {},
          "execution_count": 7
        }
      ]
    },
    {
      "cell_type": "code",
      "source": [
        "data = [['red', 150], ['orange', 200], ['brown', 100], ['green', 170]]\n",
        "index = ['tomato', 'carrot', 'potatoes', 'cucumber']\n",
        "columns = ['color', 'weight']\n",
        "df = pd.DataFrame(data, index=index, columns=columns)\n",
        "df"
      ],
      "metadata": {
        "colab": {
          "base_uri": "https://localhost:8080/",
          "height": 175
        },
        "id": "3oBHCexvcrNa",
        "outputId": "c664fbfb-0946-4e69-c178-e86fbfb36838"
      },
      "execution_count": 8,
      "outputs": [
        {
          "output_type": "execute_result",
          "data": {
            "text/plain": [
              "           color  weight\n",
              "tomato       red     150\n",
              "carrot    orange     200\n",
              "potatoes   brown     100\n",
              "cucumber   green     170"
            ],
            "text/html": [
              "\n",
              "  <div id=\"df-02103e3f-22fd-486b-806a-1f648c291699\">\n",
              "    <div class=\"colab-df-container\">\n",
              "      <div>\n",
              "<style scoped>\n",
              "    .dataframe tbody tr th:only-of-type {\n",
              "        vertical-align: middle;\n",
              "    }\n",
              "\n",
              "    .dataframe tbody tr th {\n",
              "        vertical-align: top;\n",
              "    }\n",
              "\n",
              "    .dataframe thead th {\n",
              "        text-align: right;\n",
              "    }\n",
              "</style>\n",
              "<table border=\"1\" class=\"dataframe\">\n",
              "  <thead>\n",
              "    <tr style=\"text-align: right;\">\n",
              "      <th></th>\n",
              "      <th>color</th>\n",
              "      <th>weight</th>\n",
              "    </tr>\n",
              "  </thead>\n",
              "  <tbody>\n",
              "    <tr>\n",
              "      <th>tomato</th>\n",
              "      <td>red</td>\n",
              "      <td>150</td>\n",
              "    </tr>\n",
              "    <tr>\n",
              "      <th>carrot</th>\n",
              "      <td>orange</td>\n",
              "      <td>200</td>\n",
              "    </tr>\n",
              "    <tr>\n",
              "      <th>potatoes</th>\n",
              "      <td>brown</td>\n",
              "      <td>100</td>\n",
              "    </tr>\n",
              "    <tr>\n",
              "      <th>cucumber</th>\n",
              "      <td>green</td>\n",
              "      <td>170</td>\n",
              "    </tr>\n",
              "  </tbody>\n",
              "</table>\n",
              "</div>\n",
              "      <button class=\"colab-df-convert\" onclick=\"convertToInteractive('df-02103e3f-22fd-486b-806a-1f648c291699')\"\n",
              "              title=\"Convert this dataframe to an interactive table.\"\n",
              "              style=\"display:none;\">\n",
              "        \n",
              "  <svg xmlns=\"http://www.w3.org/2000/svg\" height=\"24px\"viewBox=\"0 0 24 24\"\n",
              "       width=\"24px\">\n",
              "    <path d=\"M0 0h24v24H0V0z\" fill=\"none\"/>\n",
              "    <path d=\"M18.56 5.44l.94 2.06.94-2.06 2.06-.94-2.06-.94-.94-2.06-.94 2.06-2.06.94zm-11 1L8.5 8.5l.94-2.06 2.06-.94-2.06-.94L8.5 2.5l-.94 2.06-2.06.94zm10 10l.94 2.06.94-2.06 2.06-.94-2.06-.94-.94-2.06-.94 2.06-2.06.94z\"/><path d=\"M17.41 7.96l-1.37-1.37c-.4-.4-.92-.59-1.43-.59-.52 0-1.04.2-1.43.59L10.3 9.45l-7.72 7.72c-.78.78-.78 2.05 0 2.83L4 21.41c.39.39.9.59 1.41.59.51 0 1.02-.2 1.41-.59l7.78-7.78 2.81-2.81c.8-.78.8-2.07 0-2.86zM5.41 20L4 18.59l7.72-7.72 1.47 1.35L5.41 20z\"/>\n",
              "  </svg>\n",
              "      </button>\n",
              "      \n",
              "  <style>\n",
              "    .colab-df-container {\n",
              "      display:flex;\n",
              "      flex-wrap:wrap;\n",
              "      gap: 12px;\n",
              "    }\n",
              "\n",
              "    .colab-df-convert {\n",
              "      background-color: #E8F0FE;\n",
              "      border: none;\n",
              "      border-radius: 50%;\n",
              "      cursor: pointer;\n",
              "      display: none;\n",
              "      fill: #1967D2;\n",
              "      height: 32px;\n",
              "      padding: 0 0 0 0;\n",
              "      width: 32px;\n",
              "    }\n",
              "\n",
              "    .colab-df-convert:hover {\n",
              "      background-color: #E2EBFA;\n",
              "      box-shadow: 0px 1px 2px rgba(60, 64, 67, 0.3), 0px 1px 3px 1px rgba(60, 64, 67, 0.15);\n",
              "      fill: #174EA6;\n",
              "    }\n",
              "\n",
              "    [theme=dark] .colab-df-convert {\n",
              "      background-color: #3B4455;\n",
              "      fill: #D2E3FC;\n",
              "    }\n",
              "\n",
              "    [theme=dark] .colab-df-convert:hover {\n",
              "      background-color: #434B5C;\n",
              "      box-shadow: 0px 1px 3px 1px rgba(0, 0, 0, 0.15);\n",
              "      filter: drop-shadow(0px 1px 2px rgba(0, 0, 0, 0.3));\n",
              "      fill: #FFFFFF;\n",
              "    }\n",
              "  </style>\n",
              "\n",
              "      <script>\n",
              "        const buttonEl =\n",
              "          document.querySelector('#df-02103e3f-22fd-486b-806a-1f648c291699 button.colab-df-convert');\n",
              "        buttonEl.style.display =\n",
              "          google.colab.kernel.accessAllowed ? 'block' : 'none';\n",
              "\n",
              "        async function convertToInteractive(key) {\n",
              "          const element = document.querySelector('#df-02103e3f-22fd-486b-806a-1f648c291699');\n",
              "          const dataTable =\n",
              "            await google.colab.kernel.invokeFunction('convertToInteractive',\n",
              "                                                     [key], {});\n",
              "          if (!dataTable) return;\n",
              "\n",
              "          const docLinkHtml = 'Like what you see? Visit the ' +\n",
              "            '<a target=\"_blank\" href=https://colab.research.google.com/notebooks/data_table.ipynb>data table notebook</a>'\n",
              "            + ' to learn more about interactive tables.';\n",
              "          element.innerHTML = '';\n",
              "          dataTable['output_type'] = 'display_data';\n",
              "          await google.colab.output.renderOutput(dataTable, element);\n",
              "          const docLink = document.createElement('div');\n",
              "          docLink.innerHTML = docLinkHtml;\n",
              "          element.appendChild(docLink);\n",
              "        }\n",
              "      </script>\n",
              "    </div>\n",
              "  </div>\n",
              "  "
            ]
          },
          "metadata": {},
          "execution_count": 8
        }
      ]
    },
    {
      "cell_type": "code",
      "source": [
        "print(not 5 % 3)\n",
        "print(63 in range(50,100,3))\n",
        "print(9 == 65 // 7)\n",
        "print('петя' not in 'Петя очень ..')"
      ],
      "metadata": {
        "colab": {
          "base_uri": "https://localhost:8080/"
        },
        "id": "QSC9pnencyxC",
        "outputId": "3232af8d-22ca-41a6-c659-9ee61ceee2d1"
      },
      "execution_count": 9,
      "outputs": [
        {
          "output_type": "stream",
          "name": "stdout",
          "text": [
            "False\n",
            "False\n",
            "True\n",
            "True\n"
          ]
        }
      ]
    },
    {
      "cell_type": "code",
      "source": [
        " print(''.join(chr(a) for a in (2**6+8, 101, int(\"0x6C\", 16), 108, int(\"1\"*3), 30+-8%11)))"
      ],
      "metadata": {
        "colab": {
          "base_uri": "https://localhost:8080/"
        },
        "id": "8UQ1W0VauvkB",
        "outputId": "60fa0d11-de1d-40a9-a7fa-4df164b83dd4"
      },
      "execution_count": 10,
      "outputs": [
        {
          "output_type": "stream",
          "name": "stdout",
          "text": [
            "Hello!\n"
          ]
        }
      ]
    },
    {
      "cell_type": "code",
      "source": [
        "True and False or False "
      ],
      "metadata": {
        "colab": {
          "base_uri": "https://localhost:8080/"
        },
        "id": "mkXv0R72ziJ1",
        "outputId": "e9a209b8-33f7-4057-f3f8-ff4a0adf9ef1"
      },
      "execution_count": 11,
      "outputs": [
        {
          "output_type": "execute_result",
          "data": {
            "text/plain": [
              "False"
            ]
          },
          "metadata": {},
          "execution_count": 11
        }
      ]
    },
    {
      "cell_type": "code",
      "source": [
        "a = 18\n",
        "if a % 3 ** 4:\n",
        "  print('match')\n",
        "else:\n",
        "  print('not')"
      ],
      "metadata": {
        "colab": {
          "base_uri": "https://localhost:8080/"
        },
        "id": "Z9mqorkT5P3N",
        "outputId": "ba99f85f-df24-4426-978a-d8823d62a7d1"
      },
      "execution_count": 12,
      "outputs": [
        {
          "output_type": "stream",
          "name": "stdout",
          "text": [
            "match\n"
          ]
        }
      ]
    },
    {
      "cell_type": "code",
      "source": [
        "r = 0\n",
        "for i in range(-10, -60, -3):\n",
        "  r += 1\n",
        "print(r)\n"
      ],
      "metadata": {
        "colab": {
          "base_uri": "https://localhost:8080/"
        },
        "id": "d_T_UvWH7KaR",
        "outputId": "051d793c-b27c-4cdd-c895-b38eed59ee2a"
      },
      "execution_count": 13,
      "outputs": [
        {
          "output_type": "stream",
          "name": "stdout",
          "text": [
            "17\n"
          ]
        }
      ]
    },
    {
      "cell_type": "code",
      "source": [
        "from bs4 import BeautifulSoup\n",
        "import requests\n",
        "\n",
        "url = 'https://parsinger.ru/html/index1_page_1.html'\n",
        "response = requests.get(url=url)\n",
        "response.encoding = 'utf-8'\n",
        "soup = BeautifulSoup(response.text, 'lxml')\n",
        "div = soup.find('div', 'item')\n",
        "print(div)"
      ],
      "metadata": {
        "colab": {
          "base_uri": "https://localhost:8080/"
        },
        "id": "WnuksbsMY36S",
        "outputId": "94eee02a-70f8-4f6f-cd74-144e90992fc8"
      },
      "execution_count": 1,
      "outputs": [
        {
          "output_type": "stream",
          "name": "stdout",
          "text": [
            "<div class=\"item\">\n",
            "<div class=\"img_box\">\n",
            "<a href=\"watch/1/1_1.html\" name=\"1_1\"><img alt=\"\" src=\"https://parsinger.ru/img/1/1.jpg\"/></a>\n",
            "<a class=\"name_item\" href=\"watch/1/1_1.html\" name=\"1_1\">Jet Kid Start blue Умные детские часы</a>\n",
            "<div class=\"description\">\n",
            "<li>Бренд: Jet</li>\n",
            "<li>Тип: умные часы</li>\n",
            "<li>Материал корпуса: пластик</li>\n",
            "<li>Технология экрана: Монохромный</li>\n",
            "</div>\n",
            "<div class=\"container\">\n",
            "<div class=\"price_box\"><p class=\"price\">2310 руб</p></div>\n",
            "<div class=\"sale_button\"><a href=\"watch/1/1_1.html\"><p>Подробнее</p></a></div>\n",
            "</div>\n",
            "</div></div>\n"
          ]
        }
      ]
    },
    {
      "cell_type": "code",
      "source": [
        "from bs4 import BeautifulSoup\n",
        "import requests\n",
        "\n",
        "url = 'http://parsinger.ru/html/index1_page_1.html'\n",
        "response = requests.get(url=url)\n",
        "response.encoding = 'utf-8'\n",
        "soup = BeautifulSoup(response.text, 'lxml')\n",
        "# div = soup.find('div', 'item').find_all('li')\n",
        "# for txt in div:\n",
        "#     print(txt.text)\n",
        "div = [x.text for x in soup.find('div', 'item').find_all('li')]\n",
        "div"
      ],
      "metadata": {
        "colab": {
          "base_uri": "https://localhost:8080/"
        },
        "id": "1TqOXcYNaKz9",
        "outputId": "71798040-339f-4a3e-e09e-831d403d0fe8"
      },
      "execution_count": 3,
      "outputs": [
        {
          "output_type": "execute_result",
          "data": {
            "text/plain": [
              "['Бренд: Jet',\n",
              " 'Тип: умные часы',\n",
              " 'Материал корпуса: пластик',\n",
              " 'Технология экрана: Монохромный']"
            ]
          },
          "metadata": {},
          "execution_count": 3
        }
      ]
    }
  ]
}