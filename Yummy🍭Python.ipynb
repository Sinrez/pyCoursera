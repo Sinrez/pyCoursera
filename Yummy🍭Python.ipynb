{
  "nbformat": 4,
  "nbformat_minor": 0,
  "metadata": {
    "colab": {
      "name": "Yummy🍭Python.ipynb",
      "provenance": [],
      "authorship_tag": "ABX9TyOlGlp8XCAXm53R3iFW5fP/",
      "include_colab_link": true
    },
    "kernelspec": {
      "name": "python3",
      "display_name": "Python 3"
    },
    "language_info": {
      "name": "python"
    }
  },
  "cells": [
    {
      "cell_type": "markdown",
      "metadata": {
        "id": "view-in-github",
        "colab_type": "text"
      },
      "source": [
        "<a href=\"https://colab.research.google.com/github/Sinrez/pyCoursera/blob/master/Yummy%F0%9F%8D%ADPython.ipynb\" target=\"_parent\"><img src=\"https://colab.research.google.com/assets/colab-badge.svg\" alt=\"Open In Colab\"/></a>"
      ]
    },
    {
      "cell_type": "code",
      "execution_count": null,
      "metadata": {
        "colab": {
          "base_uri": "https://localhost:8080/"
        },
        "id": "QvImMxQTOkRi",
        "outputId": "29b3a78a-fdc3-4831-ff74-4b857f98c18d"
      },
      "outputs": [
        {
          "output_type": "stream",
          "name": "stdout",
          "text": [
            "-3\n",
            "-2\n"
          ]
        }
      ],
      "source": [
        "x = int(input())\n",
        "print(x // 2)"
      ]
    },
    {
      "cell_type": "code",
      "source": [
        "x = 1\n",
        "y = 1\n",
        "print((x - y) / 1, end='')"
      ],
      "metadata": {
        "colab": {
          "base_uri": "https://localhost:8080/"
        },
        "id": "zV0NYmI1PNeR",
        "outputId": "12b3e149-1e57-4650-fe8b-3fc588e54b00"
      },
      "execution_count": null,
      "outputs": [
        {
          "output_type": "stream",
          "name": "stdout",
          "text": [
            "0.0"
          ]
        }
      ]
    },
    {
      "cell_type": "code",
      "source": [
        "x = float(input())\n",
        "print(x // 2, end='')"
      ],
      "metadata": {
        "colab": {
          "base_uri": "https://localhost:8080/"
        },
        "id": "SiP4wOrGRQAE",
        "outputId": "baa039c3-9d8d-4924-8262-dcc2348ff6d4"
      },
      "execution_count": null,
      "outputs": [
        {
          "output_type": "stream",
          "name": "stdout",
          "text": [
            "9\n",
            "4.0"
          ]
        }
      ]
    },
    {
      "cell_type": "code",
      "source": [
        "x = float(input())\n",
        "print(abs(x + x), end='')"
      ],
      "metadata": {
        "colab": {
          "base_uri": "https://localhost:8080/"
        },
        "id": "mw_Adj4L5qCj",
        "outputId": "a5e3e8e8-cc17-4264-f863-1500bbd98ce0"
      },
      "execution_count": null,
      "outputs": [
        {
          "output_type": "stream",
          "name": "stdout",
          "text": [
            "-1\n",
            "2.0"
          ]
        }
      ]
    },
    {
      "cell_type": "code",
      "source": [
        "a = round(1.877, 2)\n",
        "b = round(3.145, 3)\n",
        "print(a, b, sep=' ; ', end='')"
      ],
      "metadata": {
        "colab": {
          "base_uri": "https://localhost:8080/"
        },
        "id": "riR_36ZR6BsM",
        "outputId": "4536e00a-9655-4c4a-f5b0-7b8888be3e55"
      },
      "execution_count": null,
      "outputs": [
        {
          "output_type": "stream",
          "name": "stdout",
          "text": [
            "1.88 ; 3.145"
          ]
        }
      ]
    },
    {
      "cell_type": "code",
      "source": [
        "from math import sqrt\n",
        "# x1,y1,x2,y2,x3,y3  = int(input()),int(input()),int(input()),int(input()),int(input()),int(input())\n",
        "# x1 = 1\n",
        "# y1 = 0\n",
        "# x2 =10\n",
        "# y2 = 1\n",
        "# x3 = 2\n",
        "# y3 = 5\n",
        "x1 = int(input())\n",
        "y1 = int(input())\n",
        "x2 = int(input())\n",
        "y2 = int(input())\n",
        "x3 = int(input())\n",
        "y3 = int(input())\n",
        "\n",
        "a = round(sqrt((x1-x2)**2+(y1-y2)**2),3)\n",
        "b = round(sqrt((x1-x3)**2+(y1-y3)**2),3)\n",
        "c = round(sqrt((x2-x3)**2+(y2-y3)**2),3)\n",
        "\n",
        "print(f'a = {a}; b = {b}; c = {c};')"
      ],
      "metadata": {
        "colab": {
          "base_uri": "https://localhost:8080/"
        },
        "id": "B4oZFbC-GtVo",
        "outputId": "a1ab9516-58ac-4603-ecb3-16722c68f7b7"
      },
      "execution_count": null,
      "outputs": [
        {
          "output_type": "stream",
          "name": "stdout",
          "text": [
            "a = 9.055; b = 5.099; c = 8.944;\n"
          ]
        }
      ]
    },
    {
      "cell_type": "code",
      "source": [
        "z = complex()\n",
        "print(z)\n",
        "# результат выполнения программы:\n",
        "# 0j\n",
        "\n",
        "x = complex('01')\n",
        "print(x)\n",
        "# результат выполнения программы:\n",
        "# 1 + 0j\n",
        "\n",
        "y = complex(1.5, 2)\n",
        "print(y)\n",
        "# результат выполнения программы:\n",
        "# 1.5 + 2j"
      ],
      "metadata": {
        "colab": {
          "base_uri": "https://localhost:8080/"
        },
        "id": "FOv8c_y59oX6",
        "outputId": "3815e7ef-0b51-486a-da0e-c63d3cc70723"
      },
      "execution_count": null,
      "outputs": [
        {
          "output_type": "stream",
          "name": "stdout",
          "text": [
            "0j\n",
            "(1+0j)\n",
            "(1.5+2j)\n"
          ]
        }
      ]
    },
    {
      "cell_type": "code",
      "source": [
        "z = 1 + 1j\n",
        "conjugated_z = z.conjugate()\n",
        "print(conjugated_z)\n",
        "# результат выполнения программы:\n",
        "# (1-1j)"
      ],
      "metadata": {
        "colab": {
          "base_uri": "https://localhost:8080/"
        },
        "id": "MOL9U8xG_8Q6",
        "outputId": "fd5c004d-cf21-413e-cb15-e54b7b95069d"
      },
      "execution_count": null,
      "outputs": [
        {
          "output_type": "stream",
          "name": "stdout",
          "text": [
            "(1-1j)\n"
          ]
        }
      ]
    },
    {
      "cell_type": "code",
      "source": [
        "z = complex(0.5, 1.5)\n",
        "result = z - 1j\n",
        "print(result, end='')"
      ],
      "metadata": {
        "colab": {
          "base_uri": "https://localhost:8080/"
        },
        "id": "1U2sZsYSAHjj",
        "outputId": "8cda9746-3cc5-450a-a659-7f2656a650e1"
      },
      "execution_count": null,
      "outputs": [
        {
          "output_type": "stream",
          "name": "stdout",
          "text": [
            "(0.5+0.5j)"
          ]
        }
      ]
    },
    {
      "cell_type": "code",
      "source": [
        "a = bool(0.1)\n",
        "b = bool()\n",
        "c = bool('')\n",
        "d = bool('0')\n",
        "e = bool(0)\n",
        "f = bool(1)\n",
        "print(a, b, c, d, e, f, sep='; ', end=';')"
      ],
      "metadata": {
        "colab": {
          "base_uri": "https://localhost:8080/"
        },
        "id": "I3pj2qtRBPU1",
        "outputId": "02a71f2f-a21c-466a-fc64-cf3ca92804f6"
      },
      "execution_count": null,
      "outputs": [
        {
          "output_type": "stream",
          "name": "stdout",
          "text": [
            "True; False; False; True; False; True;"
          ]
        }
      ]
    },
    {
      "cell_type": "code",
      "source": [
        "x = 11\n",
        "y = 9\n",
        "z = x & y | 10\n",
        "z"
      ],
      "metadata": {
        "colab": {
          "base_uri": "https://localhost:8080/"
        },
        "id": "qC21OhlVBfnq",
        "outputId": "5d30a0a1-4d38-457f-858c-9d5626ff5c69"
      },
      "execution_count": null,
      "outputs": [
        {
          "output_type": "execute_result",
          "data": {
            "text/plain": [
              "11"
            ]
          },
          "metadata": {},
          "execution_count": 5
        }
      ]
    },
    {
      "cell_type": "code",
      "source": [
        "a = True\n",
        "b = False\n",
        "x = 0.1\n",
        "y = 3\n",
        "result = not a or x == y or b\n",
        "print(result, end='')"
      ],
      "metadata": {
        "colab": {
          "base_uri": "https://localhost:8080/"
        },
        "id": "E0hhYChZBj_P",
        "outputId": "f1cf29f2-2b21-400b-eb49-e35dc7615f82"
      },
      "execution_count": null,
      "outputs": [
        {
          "output_type": "stream",
          "name": "stdout",
          "text": [
            "False"
          ]
        }
      ]
    },
    {
      "cell_type": "code",
      "source": [
        "x = int(input())\n",
        "if not x % 2 == 1 or 0:\n",
        "    print('yummy', end='')\n",
        "else:\n",
        "    print('python', end='')"
      ],
      "metadata": {
        "colab": {
          "base_uri": "https://localhost:8080/"
        },
        "id": "9J16zoefCZpg",
        "outputId": "6bb7e3c3-325b-4045-fab7-90cf3c0fe11b"
      },
      "execution_count": null,
      "outputs": [
        {
          "output_type": "stream",
          "name": "stdout",
          "text": [
            "3\n",
            "python"
          ]
        }
      ]
    },
    {
      "cell_type": "code",
      "source": [
        "a = False\n",
        "x = 1\n",
        "if x + a == 1:\n",
        "    if not (not a and x and False):\n",
        "        print(True, a - x + 2, sep='~', end='^.^')\n",
        "else:\n",
        "    print(\"I'm sure, this is the answer!\")"
      ],
      "metadata": {
        "colab": {
          "base_uri": "https://localhost:8080/"
        },
        "id": "FIU7BNjQChym",
        "outputId": "5d3a44d8-8579-4d19-beac-18437e0eed8d"
      },
      "execution_count": null,
      "outputs": [
        {
          "output_type": "stream",
          "name": "stdout",
          "text": [
            "True~1^.^"
          ]
        }
      ]
    },
    {
      "cell_type": "code",
      "source": [
        "x = 1\n",
        "y = 2\n",
        "print('odd' if (x + y) % 2 == 1 else 'even', end='')"
      ],
      "metadata": {
        "colab": {
          "base_uri": "https://localhost:8080/"
        },
        "id": "yNG8Uby6CnaT",
        "outputId": "04f89968-4bd2-45bc-9ed8-638b29b6f5ba"
      },
      "execution_count": null,
      "outputs": [
        {
          "output_type": "stream",
          "name": "stdout",
          "text": [
            "odd"
          ]
        }
      ]
    },
    {
      "cell_type": "code",
      "source": [
        "string = 'ok, I got it!'\n",
        "print(string[:2], string[-1], sep='')"
      ],
      "metadata": {
        "colab": {
          "base_uri": "https://localhost:8080/"
        },
        "id": "RWvdwB2kQsyR",
        "outputId": "76365670-ca97-4e58-865d-d92599cf68fc"
      },
      "execution_count": null,
      "outputs": [
        {
          "output_type": "stream",
          "name": "stdout",
          "text": [
            "ok!\n"
          ]
        }
      ]
    },
    {
      "cell_type": "code",
      "source": [
        "lol = input()\n",
        "print(lol[::-1], end='')"
      ],
      "metadata": {
        "colab": {
          "base_uri": "https://localhost:8080/"
        },
        "id": "q5v6swP1Q1Sc",
        "outputId": "a3e606ae-5ea1-46a7-c73c-e38d11f83544"
      },
      "execution_count": null,
      "outputs": [
        {
          "output_type": "stream",
          "name": "stdout",
          "text": [
            "kek\n",
            "kek"
          ]
        }
      ]
    },
    {
      "cell_type": "code",
      "source": [
        "str = \"you're my special friend\"\n",
        "print(f'{str[0]}{str[1]}')\n",
        "print(f'{str.split(\" \")[2]} {str.split(\" \")[3]}')  "
      ],
      "metadata": {
        "colab": {
          "base_uri": "https://localhost:8080/"
        },
        "id": "7F5570NASxH2",
        "outputId": "5ee90aee-fbfb-4da3-d951-d5afae6dc171"
      },
      "execution_count": null,
      "outputs": [
        {
          "output_type": "stream",
          "name": "stdout",
          "text": [
            "yo\n",
            "special friend\n"
          ]
        }
      ]
    },
    {
      "cell_type": "code",
      "source": [
        "name_1 = 'Pablo Picasso'\n",
        "name_2 = 'Chuck Norris'\n",
        "print(name_1[6:8] + 'Ka' + name_2[:3], end='⚡')"
      ],
      "metadata": {
        "id": "cm_nnXyyWQwM",
        "outputId": "bcbe9498-0590-4f96-eea6-bb277e342502",
        "colab": {
          "base_uri": "https://localhost:8080/"
        }
      },
      "execution_count": null,
      "outputs": [
        {
          "output_type": "stream",
          "name": "stdout",
          "text": [
            "PiKaChu⚡"
          ]
        }
      ]
    },
    {
      "cell_type": "code",
      "source": [
        "import numpy as np\n",
        "from sklearn.metrics import mean_absolute_error as mae\n",
        "\n",
        "y = np.array([1,2,3,4,5,-1,-2,-3,-4,-5])\n",
        "y_pred = np.array([0,2,2,5,3,-1,-1,-4,-6,-5])\n",
        "\n",
        "def mape(y, y_pred): \n",
        "    return np.mean(np.abs((y - y_pred) / y)) * 100\n",
        "\n",
        "print(mae(y, y_pred))\n",
        "print(mape(y, y_pred))"
      ],
      "metadata": {
        "colab": {
          "base_uri": "https://localhost:8080/"
        },
        "id": "vugXsypDDqSk",
        "outputId": "55d2d0f2-ae90-4ba2-dcfc-eb648b06226b"
      },
      "execution_count": null,
      "outputs": [
        {
          "output_type": "stream",
          "name": "stdout",
          "text": [
            "0.9\n",
            "33.166666666666664\n"
          ]
        }
      ]
    },
    {
      "cell_type": "code",
      "source": [
        "from sklearn import linear_model as lm\n",
        "# Create linear regression object\n",
        "lr = lm.LinearRegression()\n",
        "lr.fit([[0],[1],[2],[3]], [0,1,0,3])\n",
        "print(\"Intercept: \", lr.intercept_)\n",
        "print(\"Coefficient: \", lr.coef_)"
      ],
      "metadata": {
        "colab": {
          "base_uri": "https://localhost:8080/"
        },
        "id": "KqeCFTuVD5Bk",
        "outputId": "ff4de677-ad25-40ef-acf5-212dd5e85b49"
      },
      "execution_count": null,
      "outputs": [
        {
          "output_type": "stream",
          "name": "stdout",
          "text": [
            "Intercept:  -0.20000000000000018\n",
            "Coefficient:  [0.8]\n"
          ]
        }
      ]
    },
    {
      "cell_type": "code",
      "source": [
        "def func_linreg_sympy(*mark):\n",
        "    n=int(len(mark))\n",
        "    x,y,x2,y2,sum_x,sum_y,xy,a,b,=0,0,0,0,0,0,0,0,0\n",
        "    for i in range(0,n,2):\n",
        "        x+=mark[i]/n*2\n",
        "        y+=mark[i+1]/n*2\n",
        "        xy=xy+(mark[i]*mark[i+1])\n",
        "        x2+=mark[i]**2\n",
        "        y2+=mark[i+1]**2\n",
        "        sum_x+=mark[i]\n",
        "        sum_y+=mark[i+1]\n",
        "    a=(xy-y*sum_x)/(x2-x*sum_x)\n",
        "    b=(y*x2-x*xy)/(x2-x*sum_x)\n",
        "    print('уравение:y =',str(a)+'x +',str(b))\n",
        "func_linreg_sympy(0,0,1,1,2,0,3,3)"
      ],
      "metadata": {
        "colab": {
          "base_uri": "https://localhost:8080/"
        },
        "id": "PeHnPBV9EElo",
        "outputId": "807bc22d-9146-47b4-a73f-963ff68c5c47"
      },
      "execution_count": null,
      "outputs": [
        {
          "output_type": "stream",
          "name": "stdout",
          "text": [
            "уравение:y = 0.8x + -0.2\n"
          ]
        }
      ]
    },
    {
      "cell_type": "code",
      "source": [
        "def get_classification_parameters(TN, TP, FN, FP):\n",
        "    Acc = (TN + TP) / (TN + TP + FN + FP)\n",
        "    Preс = TP / (TP + FP)\n",
        "    Rec = TP / (TP + FN)\n",
        "    print('Accuracy: {0}\\nPrecision: {1}\\nRecall: {2}'.format(Acc, Preс, Rec))"
      ],
      "metadata": {
        "id": "Q_9IfDlXElOa"
      },
      "execution_count": null,
      "outputs": []
    },
    {
      "cell_type": "code",
      "source": [
        "def manhet(list1, list2, list3, list4):\n",
        "    s = 0\n",
        "    for a, b, c, d in zip(list1, list2, list3, list4):\n",
        "        s += abs(a - b) + abs(a - c) + abs(a - d)\n",
        "    return s\n",
        "\n",
        "a = [1, 1, 0]\n",
        "b = [0, 2, -1]\n",
        "c = [2, 3, 1]\n",
        "d = [1, 0, 4]\n",
        "\n",
        "print('a:', manhet(a, b, c, d))\n",
        "print('b:', manhet(b, c, d, a))\n",
        "print('c:', manhet(c, b, a, d))\n",
        "print('d:', manhet(d, b, c, a))"
      ],
      "metadata": {
        "colab": {
          "base_uri": "https://localhost:8080/"
        },
        "id": "ZqHMjSAZe35J",
        "outputId": "c893bd89-f11d-492b-ac91-0fe86fd1cc57"
      },
      "execution_count": null,
      "outputs": [
        {
          "output_type": "stream",
          "name": "stdout",
          "text": [
            "a: 12\n",
            "b: 16\n",
            "c: 16\n",
            "d: 20\n"
          ]
        }
      ]
    },
    {
      "cell_type": "code",
      "source": [
        "strr = \"you're my special friend\"\n",
        "strr = strr.replace(\"'\", \" a\")\n",
        "print(strr)\n",
        "print(f'{strr[0]}{\"\"}{strr[1]}')\n",
        "print(f'{strr.split(\" \")[3]} {strr.split(\" \")[-1]}')  "
      ],
      "metadata": {
        "colab": {
          "base_uri": "https://localhost:8080/"
        },
        "id": "GtODgauA0Qj9",
        "outputId": "6cb3963f-cdff-4710-a773-f8397ae7b132"
      },
      "execution_count": null,
      "outputs": [
        {
          "output_type": "stream",
          "name": "stdout",
          "text": [
            "you are my special friend\n",
            "yo\n",
            "special friend\n"
          ]
        }
      ]
    },
    {
      "cell_type": "code",
      "source": [
        ""
      ],
      "metadata": {
        "id": "X18-7naFe3ZE"
      },
      "execution_count": null,
      "outputs": []
    }
  ]
}