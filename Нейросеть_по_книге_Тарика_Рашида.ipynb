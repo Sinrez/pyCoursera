{
  "nbformat": 4,
  "nbformat_minor": 0,
  "metadata": {
    "colab": {
      "name": "Нейросеть по книге Тарика Рашида.ipynb",
      "provenance": [],
      "authorship_tag": "ABX9TyMqcAgCd5KKJw4fH895XUPr",
      "include_colab_link": true
    },
    "kernelspec": {
      "name": "python3",
      "display_name": "Python 3"
    },
    "language_info": {
      "name": "python"
    }
  },
  "cells": [
    {
      "cell_type": "markdown",
      "metadata": {
        "id": "view-in-github",
        "colab_type": "text"
      },
      "source": [
        "<a href=\"https://colab.research.google.com/github/Sinrez/pyCoursera/blob/master/%D0%9D%D0%B5%D0%B9%D1%80%D0%BE%D1%81%D0%B5%D1%82%D1%8C_%D0%BF%D0%BE_%D0%BA%D0%BD%D0%B8%D0%B3%D0%B5_%D0%A2%D0%B0%D1%80%D0%B8%D0%BA%D0%B0_%D0%A0%D0%B0%D1%88%D0%B8%D0%B4%D0%B0.ipynb\" target=\"_parent\"><img src=\"https://colab.research.google.com/assets/colab-badge.svg\" alt=\"Open In Colab\"/></a>"
      ]
    },
    {
      "cell_type": "code",
      "execution_count": null,
      "metadata": {
        "colab": {
          "base_uri": "https://localhost:8080/",
          "height": 287
        },
        "id": "lP0z_IJ2in0V",
        "outputId": "19b977ee-bb5a-4259-c4c7-2abd09db17de"
      },
      "outputs": [
        {
          "output_type": "execute_result",
          "data": {
            "text/plain": [
              "<matplotlib.image.AxesImage at 0x7f3dabeabed0>"
            ]
          },
          "metadata": {},
          "execution_count": 5
        },
        {
          "output_type": "display_data",
          "data": {
            "text/plain": [
              "<Figure size 432x288 with 1 Axes>"
            ],
            "image/png": "[encoded data removed]"
          },
          "metadata": {
            "needs_background": "light"
          }
        }
      ],
      "source": [
        "import matplotlib.pyplot\n",
        "import numpy\n",
        "%matplotlib inline\n",
        "\n",
        "a = numpy.zeros( [3,2] )\n",
        "a[0,0] = 1\n",
        "a[0,1] = 2\n",
        "a[1,0] = 9\n",
        "a[2,1] = 12\n",
        "matplotlib.pyplot.imshow(a, interpolation=\"nearest\")\n"
      ]
    },
    {
      "cell_type": "code",
      "source": [
        "class Dog:\n",
        "  # инициализация\n",
        "  def __init__(self, petname, temp):\n",
        "    self.petname = petname;\n",
        "    self.temperature = temp\n",
        "\n",
        "  # получить состояние\n",
        "  def status(self):\n",
        "    print(f'Имя собаки {self.petname}')\n",
        "    print(f'Температура собаки {self.temperature}')\n",
        "\n",
        "  # задать температуру\n",
        "  def set_temp(self, temp):\n",
        "    self.temperature = temp\n",
        "\n",
        "  def bark(self):\n",
        "    print('Гав!')\n",
        "\n",
        "moby = Dog('Моби', 35)\n",
        "moby.bark()\n",
        "moby.status()"
      ],
      "metadata": {
        "colab": {
          "base_uri": "https://localhost:8080/"
        },
        "id": "s6OBO-pPlWnh",
        "outputId": "8173d77d-c52b-4347-f265-bb27c5ee13ac"
      },
      "execution_count": 1,
      "outputs": [
        {
          "output_type": "stream",
          "name": "stdout",
          "text": [
            "Гав!\n",
            "Имя собаки Моби\n",
            "Температура собаки 35\n"
          ]
        }
      ]
    },
    {
      "cell_type": "code",
      "source": [
        "import numpy as np\n",
        "import scipy.special"
      ],
      "metadata": {
        "id": "_AMWEHcNpV0w"
      },
      "execution_count": 9,
      "outputs": []
    },
    {
      "cell_type": "code",
      "source": [
        "# класс нейронки\n",
        "class neuralNetwork:\n",
        "\n",
        "  #инициировать нейросеть\n",
        "  def __init__(self, inputnodes, hiddennodes, outputnodes, learningrate):\n",
        "    #задать кол-во узлов в слоях\n",
        "    self.inodes = inputnodes\n",
        "    self.hnodes = hiddennodes\n",
        "    self.onodes = outputnodes\n",
        "    \n",
        "    # коэффициент обучения\n",
        "    self.lr = learningrate\n",
        "    self.wih = numpy.random.normal(0.0, pow(self.inodes, -0.5), (self.hnodes, self.inodes))\n",
        "    self.who = numpy.random.normal(0.0, pow(self.hnodes, -0.5), (self.onodes, self.hnodes))\n",
        "\n",
        "    self.activation_function = lambda x: scipy.special.expit(x)\n",
        "\n",
        "\n",
        "  \n",
        "  # тренировка нейросети\n",
        "  def train(self, inputs_list, targets_list):\n",
        "        # convert inputs list to 2d array\n",
        "        inputs = numpy.array(inputs_list, ndmin=2).T\n",
        "        targets = numpy.array(targets_list, ndmin=2).T\n",
        "        \n",
        "        # calculate signals into hidden layer\n",
        "        hidden_inputs = numpy.dot(self.wih, inputs)\n",
        "        # calculate the signals emerging from hidden layer\n",
        "        hidden_outputs = self.activation_function(hidden_inputs)\n",
        "        \n",
        "        # calculate signals into final output layer\n",
        "        final_inputs = numpy.dot(self.who, hidden_outputs)\n",
        "        # calculate the signals emerging from final output layer\n",
        "        final_outputs = self.activation_function(final_inputs)\n",
        "        \n",
        "        # output layer error is the (target - actual)\n",
        "        output_errors = targets - final_outputs\n",
        "        # hidden layer error is the output_errors, split by weights, recombined at hidden nodes\n",
        "        hidden_errors = numpy.dot(self.who.T, output_errors) \n",
        "        \n",
        "        # update the weights for the links between the hidden and output layers\n",
        "        self.who += self.lr * numpy.dot((output_errors * final_outputs * (1.0 - final_outputs)), numpy.transpose(hidden_outputs))\n",
        "        \n",
        "        # update the weights for the links between the input and hidden layers\n",
        "        self.wih += self.lr * numpy.dot((hidden_errors * hidden_outputs * (1.0 - hidden_outputs)), numpy.transpose(inputs))\n",
        "  \n",
        "  # опрос нейросети\n",
        "  def query(self, inputs_list):\n",
        "        # преобразование списка входных значений в двумерный массив\n",
        "        inputs = numpy.array(inputs_list, ndmin=2).T\n",
        "        \n",
        "        # calculate signals into hidden layer\n",
        "        hidden_inputs = numpy.dot(self.wih, inputs)\n",
        "        # calculate the signals emerging from hidden layer\n",
        "        hidden_outputs = self.activation_function(hidden_inputs)\n",
        "        \n",
        "        # calculate signals into final output layer\n",
        "        final_inputs = numpy.dot(self.who, hidden_outputs)\n",
        "        # calculate the signals emerging from final output layer\n",
        "        final_outputs = self.activation_function(final_inputs)\n",
        "        \n",
        "        return final_outputs\n",
        "     "
      ],
      "metadata": {
        "id": "5vqqVFOMlqn4"
      },
      "execution_count": 12,
      "outputs": []
    },
    {
      "cell_type": "code",
      "source": [
        "# number of input, hidden and output nodes\n",
        "input_nodes = 3\n",
        "hidden_nodes = 3\n",
        "output_nodes = 3\n",
        "\n",
        "# коэффициент обучения 0.3\n",
        "learning_rate = 0.3\n",
        "\n",
        "# create instance of neural network\n",
        "n = neuralNetwork(input_nodes, hidden_nodes, output_nodes, learning_rate)\n",
        "n.query([1.0, 0.5, -1.5])"
      ],
      "metadata": {
        "colab": {
          "base_uri": "https://localhost:8080/"
        },
        "id": "MndNc6O9oZYF",
        "outputId": "879273ab-2dab-4896-929d-94f804f2496b"
      },
      "execution_count": 11,
      "outputs": [
        {
          "output_type": "execute_result",
          "data": {
            "text/plain": [
              "array([[0.52649925],\n",
              "       [0.59264862],\n",
              "       [0.50830735]])"
            ]
          },
          "metadata": {},
          "execution_count": 11
        }
      ]
    },
    {
      "cell_type": "code",
      "source": [
        "np.random.rand(3,3)"
      ],
      "metadata": {
        "colab": {
          "base_uri": "https://localhost:8080/"
        },
        "id": "1Gl72JGJpbEp",
        "outputId": "95f05aa7-bbdd-4be6-83b9-92d43743a92c"
      },
      "execution_count": 7,
      "outputs": [
        {
          "output_type": "execute_result",
          "data": {
            "text/plain": [
              "array([[0.9909768 , 0.4267215 , 0.01753845],\n",
              "       [0.96710242, 0.44839439, 0.16177196],\n",
              "       [0.59520617, 0.16419118, 0.6822642 ]])"
            ]
          },
          "metadata": {},
          "execution_count": 7
        }
      ]
    }
  ]
}