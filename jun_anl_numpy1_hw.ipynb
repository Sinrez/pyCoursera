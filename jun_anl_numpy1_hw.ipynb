{
  "nbformat": 4,
  "nbformat_minor": 0,
  "metadata": {
    "colab": {
      "name": "jun_anl_numpy1_hw.ipynb",
      "provenance": [],
      "collapsed_sections": []
    },
    "language_info": {
      "codemirror_mode": {
        "name": "ipython",
        "version": 3
      },
      "file_extension": ".py",
      "mimetype": "text/x-python",
      "name": "python",
      "nbconvert_exporter": "python",
      "pygments_lexer": "ipython3",
      "version": "3.6.3"
    },
    "kernelspec": {
      "display_name": "Python 3",
      "language": "python",
      "name": "python3"
    }
  },
  "cells": [
    {
      "cell_type": "markdown",
      "metadata": {
        "id": "KkW9XLpDgFAF"
      },
      "source": [
        "# Библиотека `NumPy`: часть 1\n",
        "\n",
        "*Алла Тамбовцева*\n",
        "\n",
        "## Домашнее задание \n",
        "\n",
        "### Описание домашнего задания и формат сдачи\n",
        "\n",
        "В домашнем задании необходимо решить предложенные задачи по программированию – вписать свой код в ячейки после условий задач вместо комментария `### YOUR CODE HERE ###` в файле *homework-numpy1.ipynb* и сохранить изменения, используя опцию *Save and Checkpoint* из вкладки меню *File* или кнопку *Save and Checkpoint* на панели инструментов. Итоговый файл в формате `.ipynb` (файл Jupyter Notebook) необходимо загрузить в личный кабинет обучающей онлайн платформы Skillbox (https://go.skillbox.ru/) и отправить на проверку."
      ]
    },
    {
      "cell_type": "markdown",
      "metadata": {
        "id": "HWyKtbvPgFAF"
      },
      "source": [
        "Дан массив, содержащий баллы слушателей курса по английскому языку за вступительный экзамен. Слушатели распределены по 15 группам по 10 человек."
      ]
    },
    {
      "cell_type": "code",
      "metadata": {
        "id": "XViQYLNHgFAG"
      },
      "source": [
        "import numpy as np\n",
        "scores = np.array([[20, 40, 56, 80, 0, 5, 25, 27, 74, 1],\n",
        "         [0, 98, 67, 100, 8, 56, 34, 82, 100, 7],\n",
        "         [78, 54, 23, 79, 100, 0, 0, 42, 95, 83],\n",
        "         [51, 50, 47, 23, 100, 94, 25, 48, 38, 77],\n",
        "         [90, 87, 41, 89, 52, 0, 5, 17, 28, 99],\n",
        "         [32, 18, 21, 18, 29, 31, 48, 62, 76, 22],\n",
        "         [6, 0, 65, 78, 43, 22, 38, 88, 94, 100],\n",
        "         [77, 28, 39, 41, 0, 81, 45, 54, 98, 12],\n",
        "         [66, 0, 88, 0, 44, 0, 55, 100, 12, 11],\n",
        "         [17, 70, 86, 96, 56, 23, 32, 49, 70, 80],\n",
        "         [20, 24, 76, 50, 29, 40, 3, 2, 5, 11],\n",
        "         [33, 63, 28, 40, 51, 100, 98, 87, 22, 30],\n",
        "         [16, 54, 78, 12, 25, 35, 10, 19, 67, 0],\n",
        "         [100, 88, 24, 33, 47, 56, 62, 34, 77, 53],\n",
        "         [50, 89, 70, 72, 56, 29, 15, 20, 0, 0]])"
      ],
      "execution_count": null,
      "outputs": []
    },
    {
      "cell_type": "markdown",
      "metadata": {
        "id": "FZyP6_u4gFAI"
      },
      "source": [
        "### Задание 1\n",
        "\n",
        "Посчитать, сколько слушателей получили 0 за вступительный экзамен."
      ]
    },
    {
      "cell_type": "code",
      "metadata": {
        "id": "ny-bpAn_gFAI",
        "colab": {
          "base_uri": "https://localhost:8080/"
        },
        "outputId": "23e28faa-34bd-44d6-c4d1-0cc63d885915"
      },
      "source": [
        "### YOUR CODE HERE ###\n",
        "count = 0\n",
        "for x in scores:\n",
        "  for y in x:\n",
        "    if y == 0:\n",
        "      count += 1\n",
        "print(f'{count} слушателей получили 0 за вступительный экзамен.')"
      ],
      "execution_count": null,
      "outputs": [
        {
          "output_type": "stream",
          "text": [
            "13 слушателей получили 0 за вступительный экзамен.\n"
          ],
          "name": "stdout"
        }
      ]
    },
    {
      "cell_type": "markdown",
      "metadata": {
        "id": "zqXOMBPCgFAL"
      },
      "source": [
        "### Задание 2\n",
        "\n",
        "Посчитать, сколько слушателей получили балл выше 50."
      ]
    },
    {
      "cell_type": "code",
      "metadata": {
        "id": "mUD76BUigFAL",
        "colab": {
          "base_uri": "https://localhost:8080/"
        },
        "outputId": "e644c2ae-47e2-409f-9eb6-3efeae362413"
      },
      "source": [
        "### YOUR CODE HERE ###\n",
        "count = 0\n",
        "for x in scores:\n",
        "  for y in x:\n",
        "    if y > 0:\n",
        "      count += 1\n",
        "print(f'{count} слушателей получили балл выше 50.')"
      ],
      "execution_count": null,
      "outputs": [
        {
          "output_type": "stream",
          "text": [
            "137 слушателей получили балл выше 50.\n"
          ],
          "name": "stdout"
        }
      ]
    },
    {
      "cell_type": "markdown",
      "metadata": {
        "id": "OocnEIqdgFAN"
      },
      "source": [
        "### Задание 3\n",
        "\n",
        "Посчитать, сколько человек получили балл не ниже 50, но не выше 70."
      ]
    },
    {
      "cell_type": "code",
      "metadata": {
        "id": "RvzMz6lTgFAO",
        "colab": {
          "base_uri": "https://localhost:8080/"
        },
        "outputId": "19f38be0-6fd6-4ecd-9a3b-be773fa1e8f3"
      },
      "source": [
        "### YOUR CODE HERE ###\n",
        "res = (scores >= 50)& (scores < 70)\n",
        "res.sum()"
      ],
      "execution_count": null,
      "outputs": [
        {
          "output_type": "execute_result",
          "data": {
            "text/plain": [
              "23"
            ]
          },
          "metadata": {
            "tags": []
          },
          "execution_count": 17
        }
      ]
    },
    {
      "cell_type": "markdown",
      "metadata": {
        "id": "Q9dNpdEBgFAP"
      },
      "source": [
        "### Задание 4\n",
        "\n",
        "Определить, в какой группе средний балл за вступительный экзамен выше."
      ]
    },
    {
      "cell_type": "code",
      "metadata": {
        "id": "Fto_aImFgFAQ",
        "colab": {
          "base_uri": "https://localhost:8080/"
        },
        "outputId": "7aec37c7-d8ca-4508-ad26-f9f208d57774"
      },
      "source": [
        "### YOUR CODE HERE ###\n",
        "means = np.mean(scores, 1)\n",
        "idx = np.argmax(means)\n",
        "idx"
      ],
      "execution_count": null,
      "outputs": [
        {
          "output_type": "execute_result",
          "data": {
            "text/plain": [
              "9"
            ]
          },
          "metadata": {
            "tags": []
          },
          "execution_count": 5
        }
      ]
    },
    {
      "cell_type": "markdown",
      "metadata": {
        "id": "IjZUz0KkgFAR"
      },
      "source": [
        "### Задание 5\n",
        "\n",
        "Сохранить баллы слушателей выше 0 в массив `nonzero`. "
      ]
    },
    {
      "cell_type": "code",
      "metadata": {
        "id": "PRViY--agFAT",
        "colab": {
          "base_uri": "https://localhost:8080/"
        },
        "outputId": "14cfa278-dcb7-4ccf-be9b-eb4ab8163a8b"
      },
      "source": [
        "### YOUR CODE HERE ###\n",
        "nonzero = scores[np.nonzero(scores)]\n",
        "nonzero"
      ],
      "execution_count": null,
      "outputs": [
        {
          "output_type": "execute_result",
          "data": {
            "text/plain": [
              "array([ 20,  40,  56,  80,   5,  25,  27,  74,   1,  98,  67, 100,   8,\n",
              "        56,  34,  82, 100,   7,  78,  54,  23,  79, 100,  42,  95,  83,\n",
              "        51,  50,  47,  23, 100,  94,  25,  48,  38,  77,  90,  87,  41,\n",
              "        89,  52,   5,  17,  28,  99,  32,  18,  21,  18,  29,  31,  48,\n",
              "        62,  76,  22,   6,  65,  78,  43,  22,  38,  88,  94, 100,  77,\n",
              "        28,  39,  41,  81,  45,  54,  98,  12,  66,  88,  44,  55, 100,\n",
              "        12,  11,  17,  70,  86,  96,  56,  23,  32,  49,  70,  80,  20,\n",
              "        24,  76,  50,  29,  40,   3,   2,   5,  11,  33,  63,  28,  40,\n",
              "        51, 100,  98,  87,  22,  30,  16,  54,  78,  12,  25,  35,  10,\n",
              "        19,  67, 100,  88,  24,  33,  47,  56,  62,  34,  77,  53,  50,\n",
              "        89,  70,  72,  56,  29,  15,  20])"
            ]
          },
          "metadata": {
            "tags": []
          },
          "execution_count": 4
        }
      ]
    },
    {
      "cell_type": "markdown",
      "metadata": {
        "id": "-ve1VG1XgFAV"
      },
      "source": [
        "### Задание 6\n",
        "\n",
        "Используя массив `nonzero`, определить минимальный балл за вступительный балл по всем группам."
      ]
    },
    {
      "cell_type": "code",
      "metadata": {
        "id": "ZnGg9mcUgFAV",
        "colab": {
          "base_uri": "https://localhost:8080/"
        },
        "outputId": "68ce1cf5-0aa3-4b07-f1d5-147b56ef776d"
      },
      "source": [
        "### YOUR CODE HERE ###\n",
        "mb = nonzero.min()\n",
        "mb"
      ],
      "execution_count": null,
      "outputs": [
        {
          "output_type": "execute_result",
          "data": {
            "text/plain": [
              "1"
            ]
          },
          "metadata": {
            "tags": []
          },
          "execution_count": 18
        }
      ]
    },
    {
      "cell_type": "markdown",
      "metadata": {
        "id": "5eaQJGatgFAZ"
      },
      "source": [
        "### Задание 7\n",
        "\n",
        "Выбрать из массива `nonzero` только те значения, которые соответствуют продвинутому уровню знания языка – баллу за экзамен выше 80. Сохранить полученный результат в массив `advanced`. В заданиях 8-10 нужно работать с массивом `advanced`."
      ]
    },
    {
      "cell_type": "code",
      "metadata": {
        "id": "nmMA59fAgFAZ",
        "colab": {
          "base_uri": "https://localhost:8080/"
        },
        "outputId": "7190ff54-7e61-4538-f395-6a1ccb439101"
      },
      "source": [
        "### YOUR CODE HERE ###\n",
        "advanced = nonzero[nonzero > 80]\n",
        "advanced"
      ],
      "execution_count": null,
      "outputs": [
        {
          "output_type": "execute_result",
          "data": {
            "text/plain": [
              "array([ 98, 100,  82, 100, 100,  95,  83, 100,  94,  90,  87,  89,  99,\n",
              "        88,  94, 100,  81,  98,  88, 100,  86,  96, 100,  98,  87, 100,\n",
              "        88,  89])"
            ]
          },
          "metadata": {
            "tags": []
          },
          "execution_count": 5
        }
      ]
    },
    {
      "cell_type": "markdown",
      "metadata": {
        "id": "Aq0Lf1f6gFAk"
      },
      "source": [
        "### Задание 8\n",
        "\n",
        "Определить размерность массива `advanced`."
      ]
    },
    {
      "cell_type": "code",
      "metadata": {
        "id": "m_9Wm-7xgFAl",
        "colab": {
          "base_uri": "https://localhost:8080/"
        },
        "outputId": "7f959e9e-05f0-4b4b-9f4c-e4bc0b1c3aaa"
      },
      "source": [
        "### YOUR CODE HERE ###\n",
        "advanced.size ##или shape"
      ],
      "execution_count": null,
      "outputs": [
        {
          "output_type": "execute_result",
          "data": {
            "text/plain": [
              "28"
            ]
          },
          "metadata": {
            "tags": []
          },
          "execution_count": 29
        }
      ]
    },
    {
      "cell_type": "markdown",
      "metadata": {
        "id": "Bc_cX_EYgFAo"
      },
      "source": [
        "### Задание 9\n",
        "\n",
        "Определить форму массива `advanced`."
      ]
    },
    {
      "cell_type": "code",
      "metadata": {
        "id": "6VSwGB6fgFAp",
        "colab": {
          "base_uri": "https://localhost:8080/"
        },
        "outputId": "d8902bb0-be41-4ff0-e486-c1f9db657b2a"
      },
      "source": [
        "### YOUR CODE HERE ###\n",
        "advanced.shape"
      ],
      "execution_count": null,
      "outputs": [
        {
          "output_type": "execute_result",
          "data": {
            "text/plain": [
              "(28,)"
            ]
          },
          "metadata": {
            "tags": []
          },
          "execution_count": 30
        }
      ]
    },
    {
      "cell_type": "markdown",
      "metadata": {
        "id": "tmheEQZ3gFAr"
      },
      "source": [
        "### Задание 10\n",
        "\n",
        "Определить общее число элементов в массиве `advanced`."
      ]
    },
    {
      "cell_type": "code",
      "metadata": {
        "id": "OvJ2oJV7gFAr",
        "colab": {
          "base_uri": "https://localhost:8080/"
        },
        "outputId": "cb1b8002-0cef-4156-c6eb-4385a621af38"
      },
      "source": [
        "### YOUR CODE HERE ###\n",
        "advanced.size"
      ],
      "execution_count": null,
      "outputs": [
        {
          "output_type": "execute_result",
          "data": {
            "text/plain": [
              "28"
            ]
          },
          "metadata": {
            "tags": []
          },
          "execution_count": 7
        }
      ]
    },
    {
      "cell_type": "markdown",
      "metadata": {
        "id": "rfufTemUgFAv"
      },
      "source": [
        "### Задание 11\n",
        "\n",
        "На основе исходного массива `scores` создать булев массив `sto`, где `True` соответствует баллам за экзамен, равным 100, а `False` – всем остальным баллам. "
      ]
    },
    {
      "cell_type": "code",
      "metadata": {
        "id": "cXVCTZJRgFAw",
        "colab": {
          "base_uri": "https://localhost:8080/"
        },
        "outputId": "20996009-f7ee-4b80-af74-da15a23216e7"
      },
      "source": [
        "### YOUR CODE HERE ###\n",
        "sto = scores == 100\n",
        "sto"
      ],
      "execution_count": null,
      "outputs": [
        {
          "output_type": "execute_result",
          "data": {
            "text/plain": [
              "array([[False, False, False, False, False, False, False, False, False,\n",
              "        False],\n",
              "       [False, False, False,  True, False, False, False, False,  True,\n",
              "        False],\n",
              "       [False, False, False, False,  True, False, False, False, False,\n",
              "        False],\n",
              "       [False, False, False, False,  True, False, False, False, False,\n",
              "        False],\n",
              "       [False, False, False, False, False, False, False, False, False,\n",
              "        False],\n",
              "       [False, False, False, False, False, False, False, False, False,\n",
              "        False],\n",
              "       [False, False, False, False, False, False, False, False, False,\n",
              "         True],\n",
              "       [False, False, False, False, False, False, False, False, False,\n",
              "        False],\n",
              "       [False, False, False, False, False, False, False,  True, False,\n",
              "        False],\n",
              "       [False, False, False, False, False, False, False, False, False,\n",
              "        False],\n",
              "       [False, False, False, False, False, False, False, False, False,\n",
              "        False],\n",
              "       [False, False, False, False, False,  True, False, False, False,\n",
              "        False],\n",
              "       [False, False, False, False, False, False, False, False, False,\n",
              "        False],\n",
              "       [ True, False, False, False, False, False, False, False, False,\n",
              "        False],\n",
              "       [False, False, False, False, False, False, False, False, False,\n",
              "        False]])"
            ]
          },
          "metadata": {
            "tags": []
          },
          "execution_count": 9
        }
      ]
    },
    {
      "cell_type": "markdown",
      "metadata": {
        "id": "GBKO0EiTgFAy"
      },
      "source": [
        "### Задание 12\n",
        "\n",
        "На основе исходного массива `scores` вывести на экран оценки слушателей первых семи групп (включительно, должны быть 7 списков оценок)."
      ]
    },
    {
      "cell_type": "code",
      "metadata": {
        "id": "5MsmBdCggFA0",
        "colab": {
          "base_uri": "https://localhost:8080/"
        },
        "outputId": "ad42d8cf-1a6f-4f39-f91a-89b633cd1521"
      },
      "source": [
        "### YOUR CODE HERE ###\n",
        "for s in scores[:7]:\n",
        "  print(s)"
      ],
      "execution_count": null,
      "outputs": [
        {
          "output_type": "stream",
          "text": [
            "[20 40 56 80  0  5 25 27 74  1]\n",
            "[  0  98  67 100   8  56  34  82 100   7]\n",
            "[ 78  54  23  79 100   0   0  42  95  83]\n",
            "[ 51  50  47  23 100  94  25  48  38  77]\n",
            "[90 87 41 89 52  0  5 17 28 99]\n",
            "[32 18 21 18 29 31 48 62 76 22]\n",
            "[  6   0  65  78  43  22  38  88  94 100]\n"
          ],
          "name": "stdout"
        }
      ]
    },
    {
      "cell_type": "markdown",
      "metadata": {
        "id": "5cwVuZHAgFA1"
      },
      "source": [
        ".<br> .<br> .<br> .<br> .<br> .<br> .<br> .<br> .<br> .<br> .<br> .<br> .<br> .<br> .<br> .<br> .<br> .<br> \n",
        "# Дополнительное (необязательное) задание.\n",
        "<br>\n"
      ]
    },
    {
      "cell_type": "markdown",
      "metadata": {
        "id": "NevmPbRrgFA2"
      },
      "source": [
        "В заданиях 1-2 необходимо работать с массивом `A`:"
      ]
    },
    {
      "cell_type": "code",
      "metadata": {
        "id": "b8eeE6EOgFA2"
      },
      "source": [
        "A = np.array([[2, 9, 8, 0],\n",
        "             [8, 7, 5, 6], \n",
        "             [3, 1, 0, 2], \n",
        "             [6, 5, 6, 8],\n",
        "             [1, 0, 0, 4]])"
      ],
      "execution_count": null,
      "outputs": []
    },
    {
      "cell_type": "markdown",
      "metadata": {
        "id": "RAQ4aJhfgFA5"
      },
      "source": [
        "### Задание 1\n",
        "\n",
        "Транспонировать массив `A`, не используя встроенных методов `NumPy`. Сохранить полученный массив в переменную `A_tr`. Допустимо использовать циклы и условные конструкции (при необходимости).\n",
        "\n",
        "**Напоминание:** транспонирование – операция замены строк и столбцов местами. Пример:\n",
        "\n",
        "До транспонирования:\n",
        "\n",
        "        [[2, 5, 0], \n",
        "        [7, 8, 1]]\n",
        "\n",
        "После транспонирования:\n",
        "\n",
        "        [[2, 7],\n",
        "        [5, 8],\n",
        "        [0, 1]]\n",
        "\n",
        "**Подсказка:** можно почитать про цикл *for* на [pythontutor.ru](https://pythontutor.ru/lessons/for_loop/). На самом деле, если вспомнить про выбор элементов в массиве `NumPy`, то одного цикла будет достаточно, условные конструкции не понадобятся."
      ]
    },
    {
      "cell_type": "code",
      "metadata": {
        "id": "2HvCIIF0gFA6",
        "colab": {
          "base_uri": "https://localhost:8080/"
        },
        "outputId": "89b620be-e82d-4f74-8ff1-f0dd9490d799"
      },
      "source": [
        "### YOUR CODE HERE ### A.transpose()\n",
        "A_tr = [*map(list, zip(*A))]\n",
        "for t in A_tr:\n",
        "  print(t)"
      ],
      "execution_count": null,
      "outputs": [
        {
          "output_type": "stream",
          "text": [
            "[2, 8, 3, 6, 1]\n",
            "[9, 7, 1, 5, 0]\n",
            "[8, 5, 0, 6, 0]\n",
            "[0, 6, 2, 8, 4]\n"
          ],
          "name": "stdout"
        }
      ]
    },
    {
      "cell_type": "markdown",
      "metadata": {
        "id": "Rb0Np089gFA8"
      },
      "source": [
        "### Задание 2\n",
        "\n",
        "Сравнить результаты: проверить равенство полученного выше массива `A_tr` и массива, который получается транспонированием массива `A` с помощью метода `.T`. \n",
        "\n",
        "**Подсказка:** для сравнения массивов целиком, не поэлементно, можно использовать [функцию](https://docs.scipy.org/doc/numpy/reference/generated/numpy.array_equal.html) `array_equal()`."
      ]
    },
    {
      "cell_type": "code",
      "metadata": {
        "id": "oy3tY9Y0gFA9",
        "colab": {
          "base_uri": "https://localhost:8080/"
        },
        "outputId": "2b4cccba-971a-472b-bb31-661282d955ea"
      },
      "source": [
        "### YOUR CODE HERE ###\n",
        "A_tr_2 = A.T\n",
        "np.array_equal(A_tr, A_tr_2)"
      ],
      "execution_count": null,
      "outputs": [
        {
          "output_type": "execute_result",
          "data": {
            "text/plain": [
              "True"
            ]
          },
          "metadata": {
            "tags": []
          },
          "execution_count": 29
        }
      ]
    },
    {
      "cell_type": "markdown",
      "metadata": {
        "id": "0GsTgRbbgFA_"
      },
      "source": [
        "### Задание 3\n",
        "\n",
        "Студент N подрабатывает репетитором по математике и ведёт занятия разных типов: готовит к ЕГЭ, к олимпиадам, «подтягивает» математику у школьников младших классов. \n",
        "\n",
        "В массиве `classes` хранится число проведённых уроков за пять рабочих дней, в массиве `prices` — стоимость одного урока (считаем, что студент за день проводит занятия одного типа, одинаковые по стоимости).\n",
        "\n",
        "Определить доход студента за неделю, используя [метод](https://docs.scipy.org/doc/numpy/reference/generated/numpy.dot.html) `.dot()` для нахождения [скалярного произведения](https://ru.wikipedia.org/wiki/%D0%A1%D0%BA%D0%B0%D0%BB%D1%8F%D1%80%D0%BD%D0%BE%D0%B5_%D0%BF%D1%80%D0%BE%D0%B8%D0%B7%D0%B2%D0%B5%D0%B4%D0%B5%D0%BD%D0%B8%D0%B5). "
      ]
    },
    {
      "cell_type": "code",
      "metadata": {
        "id": "IHm4BAzMgFA_"
      },
      "source": [
        "classes = np.array([3, 3, 2, 0, 2])\n",
        "prices = np.array([1500, 1500, 2500, 1000, 1000])"
      ],
      "execution_count": null,
      "outputs": []
    },
    {
      "cell_type": "code",
      "metadata": {
        "id": "naNXR55mgFBD",
        "colab": {
          "base_uri": "https://localhost:8080/"
        },
        "outputId": "b9fbbbbf-1c11-447d-d262-41b5b559d50c"
      },
      "source": [
        "### YOUR CODE HERE ###\n",
        "np.dot(classes, prices)"
      ],
      "execution_count": null,
      "outputs": [
        {
          "output_type": "execute_result",
          "data": {
            "text/plain": [
              "16000"
            ]
          },
          "metadata": {
            "tags": []
          },
          "execution_count": 32
        }
      ]
    },
    {
      "cell_type": "markdown",
      "metadata": {
        "id": "pVhH4MrAgFBH"
      },
      "source": [
        "### Задание 4\n",
        "\n",
        "По результатам работы с данными по оценкам за эссе студентов, поставленным двумя разными экспертами, были созданы два булевых массива `expert1` и `expert2`, в которых значение `True` означает оценку «удовлетворительно» и выше, а значение `False` – неудовлетворительно. Всего было оценено 15 эссе, по 5 эссе на каждую из трёх тем."
      ]
    },
    {
      "cell_type": "code",
      "metadata": {
        "id": "XvKTyCPsgFBH"
      },
      "source": [
        "expert1 = np.array([[True, False, False, True, True],\n",
        "                   [False, True, False, False, True],\n",
        "                   [True, True, True, False, False]])\n",
        "expert2 = np.array([[True, False, False, False, True],\n",
        "                   [False, False, False, False, False],\n",
        "                   [True, False, True, False, False]])"
      ],
      "execution_count": null,
      "outputs": []
    },
    {
      "cell_type": "code",
      "metadata": {
        "id": "_ItTN6kugFBI",
        "colab": {
          "base_uri": "https://localhost:8080/"
        },
        "outputId": "24017cc7-4148-4e74-874a-ef0a69d818e4"
      },
      "source": [
        "### YOUR CODE HERE ###\n",
        "res = (expert1 == True) & (expert2 == True)\n",
        "res.sum(where=True)"
      ],
      "execution_count": null,
      "outputs": [
        {
          "output_type": "execute_result",
          "data": {
            "text/plain": [
              "4"
            ]
          },
          "metadata": {
            "tags": []
          },
          "execution_count": 38
        }
      ]
    },
    {
      "cell_type": "markdown",
      "metadata": {
        "id": "Pu9yicVpgFBL"
      },
      "source": [
        "Определить, используя различные логические операторы (`|`, `&`, и проч.) и вспомогательные методы/функции, сколько студентов получат зачёт, если известно, что для этого необходимо получить оценку не ниже удовлетворительной у обоих экспертов."
      ]
    },
    {
      "cell_type": "markdown",
      "metadata": {
        "id": "SNjTSYadgFBM"
      },
      "source": [
        "### Задание 5\n",
        "\n",
        "Дан массив `essay` с итоговыми оценками студентов за эссе из задачи 4:"
      ]
    },
    {
      "cell_type": "code",
      "metadata": {
        "id": "m-0uuLMsgFBN"
      },
      "source": [
        "# pass - сдал\n",
        "# not pass - не сдал\n",
        "\n",
        "essay = np.array([[\"pass\", \"not pass\", \"not pass\", \"not pass\", \"pass\"],\n",
        "        [\"not pass\", \"not pass\", \"not pass\", \"not pass\", \"not pass\"],\n",
        "        [\"pass\", \"not pass\", \"pass\", \"not pass\", \"not pass\"]])"
      ],
      "execution_count": null,
      "outputs": []
    },
    {
      "cell_type": "markdown",
      "metadata": {
        "id": "ods6NVgWgFBO"
      },
      "source": [
        "Проверить ответ в предыдущей задаче, используя массив `essay`. Решение должно быть представлено в виде кода, не в виде выводов в результате явного подсчёта элементов."
      ]
    },
    {
      "cell_type": "code",
      "metadata": {
        "id": "VrnzKwKfgFBO",
        "colab": {
          "base_uri": "https://localhost:8080/"
        },
        "outputId": "2bb953c9-97c1-42c1-c175-5ac70b36d228"
      },
      "source": [
        "### YOUR CODE HERE ### Решение должно быть представлено в виде кода, не в виде выводов в результате явного подсчёта элементов.\n",
        "####- непонятная формулировка, подсчет в коде - это явно или нет?\n",
        "\n",
        "(essay == \"pass\").sum()\n",
        "\n"
      ],
      "execution_count": null,
      "outputs": [
        {
          "output_type": "execute_result",
          "data": {
            "text/plain": [
              "4"
            ]
          },
          "metadata": {
            "tags": []
          },
          "execution_count": 46
        }
      ]
    },
    {
      "cell_type": "markdown",
      "metadata": {
        "id": "O4WRS6GagFBQ"
      },
      "source": [
        "### Задание 6\n",
        "\n",
        "Используя массивы `expert1` и `expert2` из задачи 4, определить согласованность двух экспертов, используя меру близости Жаккара, которая вычисляется следующим образом:\n",
        "\n",
        "$$\n",
        "J(A, B) = \\frac{|A \\cap B|}{|A| + |B| - |A \\cap B|}\n",
        ",$$ \n",
        "\n",
        "где $A$ – первое множество, $B$ – второе множество, $A \\cap B$ – пересечение множеств, т.е. их общие элементы. Запись $|A|$ означает «количество элементов в множестве». \n",
        "\n",
        "В качестве множеств $A$ и $B$ в данной задаче выступают множества (группы) студентов, которые получили зачёт у первого и второго экспертов."
      ]
    },
    {
      "cell_type": "code",
      "metadata": {
        "id": "uxsA-5kGgFBQ",
        "colab": {
          "base_uri": "https://localhost:8080/"
        },
        "outputId": "46e693fb-c6c0-4744-e5d2-d1951e025d1b"
      },
      "source": [
        "### YOUR CODE HERE ###  / (expert1.size() + expert2.size() - ((expert1 & expert2).sum()))\n",
        "res = ((expert1 & expert2).sum())/ (expert1.size + expert2.size - ((expert1 & expert2).sum()))\n",
        "round(res, 3)"
      ],
      "execution_count": null,
      "outputs": [
        {
          "output_type": "execute_result",
          "data": {
            "text/plain": [
              "0.154"
            ]
          },
          "metadata": {
            "tags": []
          },
          "execution_count": 64
        }
      ]
    }
  ]
}