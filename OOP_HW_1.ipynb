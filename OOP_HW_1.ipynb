{
  "cells": [
    {
      "cell_type": "markdown",
      "metadata": {
        "id": "view-in-github",
        "colab_type": "text"
      },
      "source": [
        "<a href=\"https://colab.research.google.com/github/Sinrez/pyCoursera/blob/master/OOP_HW_1.ipynb\" target=\"_parent\"><img src=\"https://colab.research.google.com/assets/colab-badge.svg\" alt=\"Open In Colab\"/></a>"
      ]
    },
    {
      "cell_type": "markdown",
      "metadata": {
        "id": "zRfv6UQLp1cb"
      },
      "source": [
        "# Задание 1.1\n",
        "\n",
        "1. Написать класс BoomBam, у которого есть метод Boom. При его вызове, как ни странно, печатается слово BOOM\n",
        "2. Доработать этот класс так, чтобы вызов метода чередовал слова BOOM и BAM.\n",
        "\n",
        "Плюс пример использования всего функционала класса с комментариями\n"
      ]
    },
    {
      "cell_type": "code",
      "execution_count": null,
      "metadata": {
        "id": "Yh3zdfAsp1cd",
        "colab": {
          "base_uri": "https://localhost:8080/"
        },
        "outputId": "8d43f182-5b43-413a-c5f6-9b7caeba9e7f"
      },
      "outputs": [
        {
          "output_type": "stream",
          "name": "stdout",
          "text": [
            "BOOM\n"
          ]
        }
      ],
      "source": [
        "class BoomBam:\n",
        "\n",
        "  def boom(self):\n",
        "    print('BOOM')\n",
        "  def bam(self):\n",
        "    print('BAM')\n",
        "  \n",
        "bbam = BoomBam()\n",
        "bbam.boom()"
      ]
    },
    {
      "cell_type": "code",
      "execution_count": null,
      "metadata": {
        "id": "-b2k8xOtp1ce",
        "outputId": "1f1e31ca-031b-4a49-b43e-47b6bd1004c4",
        "colab": {
          "base_uri": "https://localhost:8080/"
        }
      },
      "outputs": [
        {
          "output_type": "stream",
          "name": "stdout",
          "text": [
            "BOOM\n",
            "BAM\n",
            "BOOM\n",
            "BAM\n",
            "BOOM\n",
            "BAM\n",
            "BOOM\n",
            "BAM\n",
            "BOOM\n",
            "BAM\n"
          ]
        }
      ],
      "source": [
        "class BoomBam:\n",
        "\n",
        "  def __init__(self):\n",
        "    self.sound = 'BOOM'\n",
        "  \n",
        "  def boom(self):\n",
        "      print(self.sound)\n",
        "      if self.sound == 'BOOM':\n",
        "        self.sound = 'BAM'\n",
        "      else:\n",
        "        self.sound = 'BOOM'\n",
        "\n",
        "bbam = BoomBam()\n",
        "for _ in range(10):\n",
        "  bbam.boom()\n"
      ]
    },
    {
      "cell_type": "markdown",
      "metadata": {
        "id": "my_XmcSFp1ce"
      },
      "source": [
        "# Задание 1.2\n",
        "\n",
        "\n",
        "Создайте класс RoundCircle. Методы:\n",
        "* add(x, y) -- добавление точки с координатами (x, y)\n",
        "* remove(x, y) -- удаление точки с координатами (x, y)\n",
        "* circle() -- печать координат центра и радиуса минимальной окружности, содержащей все эти точки\n",
        "* plot() -- создание изображения (графика), на котором нарисованы все точки и окружность\n",
        "\n",
        "Плюс пример использования всего функционала класса с комментариями"
      ]
    },
    {
      "cell_type": "code",
      "source": [
        "import matplotlib.pyplot as plt\n",
        "import numpy as np\n",
        "from random import randint\n",
        "from itertools import combinations"
      ],
      "metadata": {
        "id": "snVT7orJPrxa"
      },
      "execution_count": 1,
      "outputs": []
    },
    {
      "cell_type": "code",
      "source": [
        "class RoundCircle:\n",
        "    def __init__(self):\n",
        "        self.dots = []\n",
        "        self.all_circles = []\n",
        "\n",
        "    def add(self, x, y):\n",
        "        if (x,y) not in self.dots:\n",
        "            self.dots.append((x,y))\n",
        "\n",
        "    def random_dots(self, n = 10, range_x = (-10, 10), range_y = (-10, 10)):\n",
        "        for _ in range(n):\n",
        "            self.add(\n",
        "                randint(range_x[0], range_x[1]),\n",
        "                randint(range_y[0], range_y[1])\n",
        "            )\n",
        "\n",
        "    def remove(self, x, y):\n",
        "        try:\n",
        "            self.dots.remove((x,y))\n",
        "        except ValueError:\n",
        "            pass\n",
        "\n",
        "    def run(self):\n",
        "        try:\n",
        "            type(self.true_circles)\n",
        "        except AttributeError:\n",
        "            self.get_lines()\n",
        "            self.get_triangles()\n",
        "            self.dots_in_circle()\n",
        "\n",
        "# получаем все возможные отрезки между точками (dot1, dot2): = длинна отрезка\n",
        "# плюс данные о окружностях с центром на этих отрезках [x-окружности],[у-окружности],[радиус окружности]\n",
        "    def get_lines(self):\n",
        "        self.all_lines = dict()\n",
        "        for indx1, dot1 in enumerate(self.dots):\n",
        "            for indx2, dot2 in enumerate(self.dots[indx1 + 1:]):\n",
        "                xo = (dot1[0] + dot2[0])/2\n",
        "                yo = (dot1[1] + dot2[1])/2\n",
        "                d = np.sqrt(((dot2[0]-dot1[0])**2) + ((dot2[1]-dot1[1])**2))/2\n",
        "                self.all_lines[(indx1, indx2+indx1+1)] = d\n",
        "                self.all_circles.append((xo,yo,d))\n",
        "\n",
        "# получаем все возможные треугольники и окружности в которые они вписаны [x-окружности],[у-окружности],[радиус окружности]\n",
        "    def get_triangles(self):\n",
        "        self.all_triangles = [i for i in combinations(range(0, len(self.dots)), 3)]\n",
        "        for i in self.all_triangles:\n",
        "            a, b, c = combinations(i, 2)\n",
        "            a, b, c = self.all_lines[a], self.all_lines[b], self.all_lines[c]\n",
        "            ax,ay,bx,by,cx,cy = self.dots[i[0]][0],self.dots[i[0]][1],\\\n",
        "                                self.dots[i[1]][0],self.dots[i[1]][1],\\\n",
        "                                self.dots[i[2]][0],self.dots[i[2]][1]\n",
        "            p = (a+b+c)/2\n",
        "            if ((ax-cx)*(by-cy)-(bx-cx)*(ay-cy))*0.5 == 0:\n",
        "                continue\n",
        "            r = ((a*b*c)/(4*np.sqrt(abs(p*(p-a)*(p-b)*(p-c)))))*2\n",
        "            xo = ((ay*(bx**2+by**2-cx**2-cy**2)+by*(cx**2 +cy**2-ax**2-ay**2)+cy*(ax**2+ay**2-bx**2-by**2))/\n",
        "                  (ax*(by-cy)+bx*(cy-ay)+cx*(ay-by)))*(-0.5)\n",
        "            yo = ((ax*(bx**2+by**2-cx**2-cy**2)+bx*(cx**2 +cy**2-ax**2-ay**2)+cx*(ax**2+ay**2-bx**2-by**2))/\n",
        "                  (ax*(by-cy)+bx*(cy-ay)+cx*(ay-by)))*0.5\n",
        "            self.all_circles.append((xo,yo, r))\n",
        "\n",
        "    def dots_in_circle(self):\n",
        "        self.true_circles = []\n",
        "        for circle in self.all_circles:\n",
        "            for dot in self.dots:\n",
        "                if round((dot[0] - circle[0])**2 + (dot[1] - circle[1])**2,9) > round(circle[2]**2, 9):\n",
        "                    break\n",
        "            else:\n",
        "                self.true_circles.append((circle[0], circle[1], circle[2]))\n",
        "\n",
        "    def circle(self):\n",
        "        self.run()\n",
        "        tmp = [i[2] for i in self.true_circles]\n",
        "        self.circle = self.true_circles[tmp.index(min(tmp))]\n",
        "        print(f'Координаты центра окружности: ({self.circle[0]}, {self.circle[1]}), радиус: {self.circle[2]}')\n",
        "\n",
        "    def plot(self):\n",
        "        x,y,r = self.circle\n",
        "        circle = plt.Circle((x, y), r, color = 'blue')\n",
        "        fig = plt.figure(figsize=(10,10))\n",
        "        ax = plt.gca()\n",
        "        ax.cla()\n",
        "        ax.spines['left'].set_position(('data',0))\n",
        "        ax.spines['bottom'].set_position(('data',0))\n",
        "        ax.spines['top'].set_visible(True)\n",
        "        ax.spines['right'].set_visible(True)\n",
        "        ax.set_xlim((x-r*1.1, x+r*1.1))\n",
        "        ax.set_ylim((y-r*1.1, y+r*1.1))\n",
        "        ax.plot([i[0] for i in self.dots],([j[1] for j in self.dots]), 'o', color='green')\n",
        "        ax.plot(x, y, 'o', color='red')\n",
        "        plt.annotate(f'({round(x, 2)}, {round(y, 2)})', (x, y), xytext=(x + r*0.03, y - r* 0.04), c = 'red')\n",
        "        ax.add_artist(circle)\n",
        "        plt.show()"
      ],
      "metadata": {
        "id": "Na9wrUaJ1nMF"
      },
      "execution_count": 14,
      "outputs": []
    },
    {
      "cell_type": "code",
      "execution_count": 16,
      "metadata": {
        "id": "rB-u2E7Vp1ce"
      },
      "outputs": [],
      "source": [
        "a = RoundCircle()"
      ]
    },
    {
      "cell_type": "code",
      "source": [
        "# добавим тестовые точки\n",
        "a.add(3,7)\n",
        "a.add(-1,4)"
      ],
      "metadata": {
        "id": "7F5rCbAf2tzh"
      },
      "execution_count": 17,
      "outputs": []
    },
    {
      "cell_type": "code",
      "source": [
        "# посмотрим сущеструющие точки\n",
        "print(a.dots)"
      ],
      "metadata": {
        "colab": {
          "base_uri": "https://localhost:8080/"
        },
        "id": "Lm4ZXEm824R-",
        "outputId": "30e1f91c-ab09-49cc-b6dc-82d6821b25b4"
      },
      "execution_count": 18,
      "outputs": [
        {
          "output_type": "stream",
          "name": "stdout",
          "text": [
            "[(3, 7), (-1, 4)]\n"
          ]
        }
      ]
    },
    {
      "cell_type": "code",
      "source": [
        "a.add(3,7)\n",
        "a.add(9,3)\n",
        "print(a.dots)"
      ],
      "metadata": {
        "colab": {
          "base_uri": "https://localhost:8080/"
        },
        "id": "8bCRu-My2-mQ",
        "outputId": "9e110733-94d6-4390-bd9d-7440b9004fd5"
      },
      "execution_count": 19,
      "outputs": [
        {
          "output_type": "stream",
          "name": "stdout",
          "text": [
            "[(3, 7), (-1, 4), (9, 3)]\n"
          ]
        }
      ]
    },
    {
      "cell_type": "code",
      "source": [
        "# удалим одну точку\n",
        "a.remove(3,7)\n",
        "print(a.dots)"
      ],
      "metadata": {
        "colab": {
          "base_uri": "https://localhost:8080/"
        },
        "id": "75-JnyvM3C7E",
        "outputId": "b16e8b15-5421-46bb-f1e1-a883f3a79579"
      },
      "execution_count": 20,
      "outputs": [
        {
          "output_type": "stream",
          "name": "stdout",
          "text": [
            "[(-1, 4), (9, 3)]\n"
          ]
        }
      ]
    },
    {
      "cell_type": "code",
      "source": [
        "# включение случайных точек\n",
        "a.random_dots( n = 20, range_x = (-20, 20), range_y = (-20, 20))\n",
        "print(a.dots)"
      ],
      "metadata": {
        "colab": {
          "base_uri": "https://localhost:8080/"
        },
        "id": "zLjE4eId3MeY",
        "outputId": "33306d6e-d742-4ccc-d68c-00965a18d2a9"
      },
      "execution_count": 21,
      "outputs": [
        {
          "output_type": "stream",
          "name": "stdout",
          "text": [
            "[(-1, 4), (9, 3), (2, -2), (-11, -7), (-12, 12), (7, -6), (-1, -5), (8, -18), (2, -1), (12, 8), (-16, -20), (-18, -8), (7, 13), (0, -18), (15, 4), (-16, 13), (-6, 12), (-6, -6), (10, -16), (17, 6), (10, 14)]\n"
          ]
        }
      ]
    },
    {
      "cell_type": "code",
      "source": [
        "# мин окружность описывающая все точки\n",
        "a.circle()"
      ],
      "metadata": {
        "colab": {
          "base_uri": "https://localhost:8080/"
        },
        "id": "92HhU11k3Q7x",
        "outputId": "c4a858ec-ef89-4372-97c1-33a9bc9e9959"
      },
      "execution_count": 22,
      "outputs": [
        {
          "output_type": "stream",
          "name": "stdout",
          "text": [
            "Координаты центра окружности: (-2.257575757575758, -3.5), радиус: 21.47333751559756\n"
          ]
        }
      ]
    },
    {
      "cell_type": "code",
      "source": [
        "a.plot()"
      ],
      "metadata": {
        "colab": {
          "base_uri": "https://localhost:8080/",
          "height": 577
        },
        "id": "lRwjZ_eA3bFL",
        "outputId": "1f4f858e-d999-4ee3-f789-47e4ab091531"
      },
      "execution_count": 23,
      "outputs": [
        {
          "output_type": "display_data",
          "data": {
            "text/plain": [
              "<Figure size 720x720 with 1 Axes>"
            ],
            "image/png": "[encoded data removed]"
          },
          "metadata": {
            "needs_background": "light"
          }
        }
      ]
    },
    {
      "cell_type": "code",
      "source": [
        "b = RoundCircle()\n",
        "b.random_dots( n = 5, range_x = (2, 11), range_y = (0, 3))"
      ],
      "metadata": {
        "id": "Prwac9583le4"
      },
      "execution_count": 12,
      "outputs": []
    },
    {
      "cell_type": "code",
      "source": [
        "b.get_lines()"
      ],
      "metadata": {
        "id": "9-QWRFZP3mOS"
      },
      "execution_count": 24,
      "outputs": []
    },
    {
      "cell_type": "code",
      "source": [
        "# словарь all_lines в котором содержаться длинны отрезков\n",
        "# (dot1, dot2): = длинна отрезка\n",
        "b.all_lines"
      ],
      "metadata": {
        "colab": {
          "base_uri": "https://localhost:8080/"
        },
        "id": "lLOhlhhi3pQD",
        "outputId": "da0d4f88-49bf-47cb-d9e2-86da34b6aab1"
      },
      "execution_count": 25,
      "outputs": [
        {
          "output_type": "execute_result",
          "data": {
            "text/plain": [
              "{(0, 1): 4.272001872658765,\n",
              " (0, 2): 2.5495097567963922,\n",
              " (0, 3): 1.5811388300841898,\n",
              " (0, 4): 1.0,\n",
              " (1, 2): 1.8027756377319946,\n",
              " (1, 3): 3.5,\n",
              " (1, 4): 4.031128874149275,\n",
              " (2, 3): 2.23606797749979,\n",
              " (2, 4): 2.5495097567963922,\n",
              " (3, 4): 0.7071067811865476}"
            ]
          },
          "metadata": {},
          "execution_count": 25
        }
      ]
    },
    {
      "cell_type": "code",
      "source": [
        "# список all_circle в котором содержатся все возможные окружности\n",
        "# [x-окружности],[у-окружности],[радиус окружности]\n",
        "# после исполнения метода get_lines в этот атрибут добавляются все окружности построенные по двум точкам\n",
        "b.all_circles"
      ],
      "metadata": {
        "colab": {
          "base_uri": "https://localhost:8080/"
        },
        "id": "OYEN_CCb4Isj",
        "outputId": "2e85766f-d5de-4bbf-a457-c0cc4aaefcdb"
      },
      "execution_count": 26,
      "outputs": [
        {
          "output_type": "execute_result",
          "data": {
            "text/plain": [
              "[(6.0, 1.5, 4.272001872658765),\n",
              " (7.5, 2.5, 2.5495097567963922),\n",
              " (9.5, 1.5, 1.5811388300841898),\n",
              " (10.0, 2.0, 1.0),\n",
              " (3.5, 1.0, 1.8027756377319946),\n",
              " (5.5, 0.0, 3.5),\n",
              " (6.0, 0.5, 4.031128874149275),\n",
              " (7.0, 1.0, 2.23606797749979),\n",
              " (7.5, 1.5, 2.5495097567963922),\n",
              " (9.5, 0.5, 0.7071067811865476),\n",
              " (6.0, 1.5, 4.272001872658765),\n",
              " (7.5, 2.5, 2.5495097567963922),\n",
              " (9.5, 1.5, 1.5811388300841898),\n",
              " (10.0, 2.0, 1.0),\n",
              " (3.5, 1.0, 1.8027756377319946),\n",
              " (5.5, 0.0, 3.5),\n",
              " (6.0, 0.5, 4.031128874149275),\n",
              " (7.0, 1.0, 2.23606797749979),\n",
              " (7.5, 1.5, 2.5495097567963922),\n",
              " (9.5, 0.5, 0.7071067811865476)]"
            ]
          },
          "metadata": {},
          "execution_count": 26
        }
      ]
    },
    {
      "cell_type": "code",
      "source": [
        "# метод get_triangles(), получаем все возможные комбинации по три точки\n",
        "# после чего находятся окружности описывающие эти треугольники\n",
        "# (три точки лежащие на одной прямой отсеиваются)\n",
        "b.get_triangles()"
      ],
      "metadata": {
        "id": "IH6hJi1R4RHk"
      },
      "execution_count": 27,
      "outputs": []
    },
    {
      "cell_type": "code",
      "source": [
        "b.all_triangles"
      ],
      "metadata": {
        "colab": {
          "base_uri": "https://localhost:8080/"
        },
        "id": "ZULs5FsJ4XwA",
        "outputId": "13f060ac-ad78-42bb-80e7-7f394ac542c9"
      },
      "execution_count": 28,
      "outputs": [
        {
          "output_type": "execute_result",
          "data": {
            "text/plain": [
              "[(0, 1, 2),\n",
              " (0, 1, 3),\n",
              " (0, 1, 4),\n",
              " (0, 2, 3),\n",
              " (0, 2, 4),\n",
              " (0, 3, 4),\n",
              " (1, 2, 3),\n",
              " (1, 2, 4),\n",
              " (1, 3, 4),\n",
              " (2, 3, 4)]"
            ]
          },
          "metadata": {},
          "execution_count": 28
        }
      ]
    },
    {
      "cell_type": "code",
      "source": [
        "# следующий шаг метод dots_in_circle, который проверяет каждую окружность,\n",
        "# на принодлежность к ней всех заданных точек\n",
        "# результат заносится в список атрибута true_circles\n",
        "b.dots_in_circle()\n",
        "b.true_circles"
      ],
      "metadata": {
        "colab": {
          "base_uri": "https://localhost:8080/"
        },
        "id": "CpKJGTqf4bii",
        "outputId": "e450be64-f17b-4e47-b5e9-edd5ca3631c4"
      },
      "execution_count": 29,
      "outputs": [
        {
          "output_type": "execute_result",
          "data": {
            "text/plain": [
              "[(6.0, 1.5, 4.272001872658765),\n",
              " (6.0, 1.5, 4.272001872658765),\n",
              " (9.642857142857142, -8.214285714285714, 11.219971261194999),\n",
              " (5.8125, 2.0, 4.305247524823626),\n",
              " (5.5, 4.5, 5.700877125495679)]"
            ]
          },
          "metadata": {},
          "execution_count": 29
        }
      ]
    },
    {
      "cell_type": "code",
      "source": [
        "b.circle()"
      ],
      "metadata": {
        "colab": {
          "base_uri": "https://localhost:8080/"
        },
        "id": "wbpoCTJK4gnz",
        "outputId": "9223bfc9-35f2-4271-b058-3f6f617fd905"
      },
      "execution_count": 30,
      "outputs": [
        {
          "output_type": "stream",
          "name": "stdout",
          "text": [
            "Координаты центра окружности: (6.0, 1.5), радиус: 4.272001872658765\n"
          ]
        }
      ]
    },
    {
      "cell_type": "code",
      "source": [
        "b.plot()"
      ],
      "metadata": {
        "colab": {
          "base_uri": "https://localhost:8080/",
          "height": 575
        },
        "id": "8ZnYxIbd4kmO",
        "outputId": "4caa9c78-e953-4d3b-c017-65f658b8b1ce"
      },
      "execution_count": 31,
      "outputs": [
        {
          "output_type": "display_data",
          "data": {
            "text/plain": [
              "<Figure size 720x720 with 1 Axes>"
            ],
            "image/png": "[encoded data removed]"
          },
          "metadata": {
            "needs_background": "light"
          }
        }
      ]
    },
    {
      "cell_type": "markdown",
      "metadata": {
        "id": "QSDrtwRep1ce"
      },
      "source": [
        "# Задание 2.1\n",
        "\n",
        "Создать базовый класс - Геометрическая фигура, определить в нём поля и следующие методы: инициализация, печать, посчитать площадь и периметр. Создать 3 класса - наследника (квадрат, круг, конус), переопределить методы, при необходимости - добавить. \n",
        "\n",
        "Плюс пример использования всего функционала класса с комментариями\n"
      ]
    },
    {
      "cell_type": "code",
      "execution_count": null,
      "metadata": {
        "id": "eiqP1gwUp1cf",
        "colab": {
          "base_uri": "https://localhost:8080/"
        },
        "outputId": "4885baa8-e757-45a3-a232-e8a2553b22d4"
      },
      "outputs": [
        {
          "output_type": "stream",
          "name": "stdout",
          "text": [
            "Это фигура: Квадрат, например\n",
            "Площадь равна 9\n",
            "Периметр равен 12\n",
            "-----\n",
            "Это фигура: Кружок\n",
            "Площадь равна 153.93804002589985\n",
            "Периметр равен 43.982297150257104\n",
            "-----\n",
            "Это фигура: Это конус!\n",
            "Площадь равна 123.76\n",
            "Периметр равен 25.13\n",
            "-----\n"
          ]
        }
      ],
      "source": [
        "from math import pi,sqrt\n",
        "\n",
        "class Figure:\n",
        "  #инициализация\n",
        "  def __init__(self, name):\n",
        "    self.name = name\n",
        "  \n",
        "  #печать\n",
        "  def __str__(self):\n",
        "        return f'Это фигура: {self.name}'\n",
        "\n",
        "  #посчитать полощадь - нет универсальной формулы для всех фигур\n",
        "  #также тут нет как в Java абстарактных методов, поэтому попробуем \"эмулировать\" их так\n",
        "  #а непосредственные вычисления будут в наследниках ps асб методы есть - но что-то через \"огороды\" https://habr.com/ru/post/72757/\n",
        "\n",
        "  def area(self):\n",
        "    pass\n",
        "  \n",
        "  def per(self):\n",
        "    pass\n",
        "  \n",
        "class Square(Figure):\n",
        "    def __init__(self, length):\n",
        "        super().__init__(\"Квадрат, например\")\n",
        "        self.length = length\n",
        "\n",
        "    def area(self):\n",
        "        return f'Площадь равна {self.length**2}'\n",
        "\n",
        "    def per(self):\n",
        "        return f'Периметр равен {4*self.length}'\n",
        "\n",
        "class Circle(Figure):\n",
        "    def __init__(self, radius):\n",
        "        super().__init__(\"Кружок\")\n",
        "        self.radius = radius\n",
        "\n",
        "    def area(self):\n",
        "        return f'Площадь равна {pi*self.radius**2}'\n",
        "\n",
        "    def per(self):\n",
        "        return f'Периметр равен {2*pi*self.radius}'\n",
        "\n",
        "class Conus(Figure):\n",
        "    def __init__(self, length, radius):\n",
        "        super().__init__(\"Это конус!\")\n",
        "        self.length = length\n",
        "        self.radius = radius\n",
        "\n",
        "    def area(self):\n",
        "      #через через радиус и высоту\n",
        "        return f'Площадь равна {\"{0:.2f}\".format(pi*self.radius*sqrt(self.radius**2 + self.length**2))}'\n",
        "    \n",
        "    #Как считать периметр? И применим ли он к конусу? можно считать периметр основания - окружности\n",
        "    def per(self):\n",
        "        return f'Периметр равен {\"{0:.2f}\".format(2*pi*self.radius)}'\n",
        "\n",
        "def fabric(cl):\n",
        "  #метод паттерна 'фабрика'\n",
        "  print(cl.__str__())\n",
        "  print(cl.area())\n",
        "  print(cl.per())\n",
        "  print('-' * 5)\n",
        "\n",
        "if __name__ == '__main__':\n",
        "  s = Square(3)\n",
        "  fabric(s)\n",
        "\n",
        "  c = Circle(7)\n",
        "  fabric(c)\n",
        "\n",
        "  co = Conus(9,4)\n",
        "  fabric(co)\n"
      ]
    },
    {
      "cell_type": "markdown",
      "metadata": {
        "id": "UOxfjYX9p1cf"
      },
      "source": [
        "# Задание 2.2\n",
        "\n",
        "Создать собственный класс - строку. Отнаследовать от него классы: палиндром (при инициалицации создаёт из строки палиндром, если она не является палидромом), транслит(переводит строку в транслитерационную запись). Длина всех строк не должна превышать 20 символов. Перегружать можно только метод `__init__`\n",
        "\n",
        "Плюс пример использования всего функционала класса с комментариями"
      ]
    },
    {
      "cell_type": "code",
      "source": [
        "pip install transliterate"
      ],
      "metadata": {
        "colab": {
          "base_uri": "https://localhost:8080/"
        },
        "id": "THMD--GSw4T9",
        "outputId": "aa20b323-69ae-41ac-9d87-6f749de90858"
      },
      "execution_count": 32,
      "outputs": [
        {
          "output_type": "stream",
          "name": "stdout",
          "text": [
            "Looking in indexes: https://pypi.org/simple, https://us-python.pkg.dev/colab-wheels/public/simple/\n",
            "Collecting transliterate\n",
            "  Downloading transliterate-1.10.2-py2.py3-none-any.whl (45 kB)\n",
            "\u001b[K     |████████████████████████████████| 45 kB 1.9 MB/s \n",
            "\u001b[?25hRequirement already satisfied: six>=1.1.0 in /usr/local/lib/python3.7/dist-packages (from transliterate) (1.15.0)\n",
            "Installing collected packages: transliterate\n",
            "Successfully installed transliterate-1.10.2\n"
          ]
        }
      ]
    },
    {
      "cell_type": "code",
      "execution_count": null,
      "metadata": {
        "id": "I7OWQEYmp1cf",
        "colab": {
          "base_uri": "https://localhost:8080/"
        },
        "outputId": "539694ef-6a2b-490f-fb6e-94ae17f751af"
      },
      "outputs": [
        {
          "output_type": "stream",
          "name": "stdout",
          "text": [
            "тестСтрока\n",
            "Вот палиндром: акортСтсет\n",
            "Вот транслит: testStroka\n"
          ]
        }
      ],
      "source": [
        "from transliterate import translit\n",
        "\n",
        "class MyString:\n",
        "  #Основной конструктор класса \"Строка\"\n",
        "    def __init__(self, string):\n",
        "        self.string = str(string)[0: 20]\n",
        "    \n",
        "    def __str__(self):\n",
        "        return self.string\n",
        "\n",
        "class Palindrome(MyString):\n",
        "  def __init__(self, string):\n",
        "    super().__init__(string)\n",
        "\n",
        "  def __str__(self):\n",
        "        return f'Вот палиндром: {self.string[::-1]}'\n",
        "\n",
        "class Translit(MyString):\n",
        "  def __init__(self, string):\n",
        "    super().__init__(string)\n",
        "\n",
        "  def __str__(self):\n",
        "    return f'Вот транслит: {translit(self.string,\"ru\", reversed=True)}'\n",
        "  # translit\n",
        "\n",
        "if __name__ == '__main__':\n",
        "  s1 = MyString('тестСтрока')\n",
        "  print(s1)\n",
        "  p1 = Palindrome(s1)\n",
        "  print(p1)\n",
        "  t1 = Translit(s1)\n",
        "  print(t1)\n"
      ]
    },
    {
      "cell_type": "markdown",
      "metadata": {
        "id": "auQK2ZD6p1cg"
      },
      "source": [
        "# Задание 3.1\n",
        "\n",
        "Создайте класс «Целочисленная матрица» для работы с матрицами произвольного размера. В классе должны быть реализованы следующие операции:\n",
        "\n",
        "•\tприбавление к одной матрице другой, вычитание матриц, умножение матрицы на матрицу и умножение матрицы на число.(реализовать с помощью перегрузки операций); \n",
        "\n",
        "•\tзаполнение матрицы случайными числами из заданного диапазона;\n",
        "\n",
        "•\tвывод матрицы на печать;\n",
        "\n",
        "•\tнахождение транспонированной матрицы\n",
        "\n",
        "•\tопределение ортогональности матрицы\n",
        "\n",
        "•\tсравнение на равенство (операция ==)."
      ]
    },
    {
      "cell_type": "code",
      "execution_count": 33,
      "metadata": {
        "id": "vRmNYb0-p1cg"
      },
      "outputs": [],
      "source": [
        "import numpy as np"
      ]
    },
    {
      "cell_type": "code",
      "execution_count": 34,
      "metadata": {
        "id": "zNoFo5S2p1cg"
      },
      "outputs": [],
      "source": [
        "class Matrix:\n",
        "    def __init__(self, size = None, mtx = None):\n",
        "        self.size_mtx = size if mtx is None else mtx.shape\n",
        "        self.mtx = mtx\n",
        "\n",
        "    def __repr__(self):\n",
        "        return f'{self.mtx}'\n",
        "\n",
        "    def __add__(self, other):\n",
        "        return Matrix(mtx= self.mtx + other.mtx)\n",
        "\n",
        "    def __sub__(self, other):\n",
        "        return Matrix(mtx= self.mtx - other.mtx)\n",
        "\n",
        "    def __mul__(self, other):\n",
        "        if isinstance(other,(int,float)):\n",
        "            return Matrix(mtx=self.mtx * other)\n",
        "        else:\n",
        "            if self.size_mtx[0] == other.size_mtx[1] and self.size_mtx[1] == other.size_mtx[0]:\n",
        "                return Matrix(mtx=self.mtx @ other.mtx)\n",
        "            else:\n",
        "                print(f'Некорректные размерности перемножаемых матриц {self.size_mtx}, {other.size_mtx})')\n",
        "\n",
        "    def __eq__(self, other):\n",
        "        if self.mtx.ravel().shape == other.mtx.ravel().shape:\n",
        "            if np.all(self.mtx == other.mtx):\n",
        "                return True\n",
        "            else:\n",
        "                return False\n",
        "        else:\n",
        "            return False\n",
        "\n",
        "    def print(self):\n",
        "        for i in self.mtx:\n",
        "            for j in i:\n",
        "                if isinstance(j, float):\n",
        "                    print(f'{j:f}'.ljust(len(str(np.max(self.mtx)))+2), end='')\n",
        "                else:\n",
        "                    print(f'{j}'.ljust(len(str(np.max(self.mtx)))+1), end='')\n",
        "            print()\n",
        "\n",
        "    def orth(self):\n",
        "        if self.size_mtx[0] == self.size_mtx[1]:\n",
        "            if np.all(self.mtx @ self.mtx.T == np.eye(self.size_mtx[0], dtype='int')):\n",
        "                return True\n",
        "            else:\n",
        "                return False\n",
        "        else:\n",
        "            print(f'Некорректная размерность! {self.size_mtx}')\n",
        "\n",
        "\n",
        "\n",
        "    def rnd_int(self, start, end):\n",
        "        self.mtx = np.random.randint(start, end, self.size_mtx, dtype=np.int)\n",
        "\n",
        "    def trans(self):\n",
        "        return Matrix(mtx= self.mtx.T)"
      ]
    },
    {
      "cell_type": "code",
      "source": [
        "x = Matrix((4,6))\n",
        "y = Matrix((4,6))\n",
        "\n",
        "x.rnd_int(2,8)\n",
        "y.rnd_int(500,10000)"
      ],
      "metadata": {
        "colab": {
          "base_uri": "https://localhost:8080/"
        },
        "id": "j46FhcK55AkU",
        "outputId": "7fe71fc1-e8b1-4988-eca6-105cd9598f28"
      },
      "execution_count": 35,
      "outputs": [
        {
          "output_type": "stream",
          "name": "stderr",
          "text": [
            "/usr/local/lib/python3.7/dist-packages/ipykernel_launcher.py:54: DeprecationWarning: `np.int` is a deprecated alias for the builtin `int`. To silence this warning, use `int` by itself. Doing this will not modify any behavior and is safe. When replacing `np.int`, you may wish to use e.g. `np.int64` or `np.int32` to specify the precision. If you wish to review your current use, check the release note link for additional information.\n",
            "Deprecated in NumPy 1.20; for more details and guidance: https://numpy.org/devdocs/release/1.20.0-notes.html#deprecations\n"
          ]
        }
      ]
    },
    {
      "cell_type": "code",
      "source": [
        "x == y"
      ],
      "metadata": {
        "colab": {
          "base_uri": "https://localhost:8080/"
        },
        "id": "uREmP8D75E_n",
        "outputId": "7d2130ef-534a-4b08-d514-c952c4c897c7"
      },
      "execution_count": 36,
      "outputs": [
        {
          "output_type": "execute_result",
          "data": {
            "text/plain": [
              "False"
            ]
          },
          "metadata": {},
          "execution_count": 36
        }
      ]
    },
    {
      "cell_type": "code",
      "source": [
        "z = x + y"
      ],
      "metadata": {
        "id": "yxQhIcqk5IVf"
      },
      "execution_count": 37,
      "outputs": []
    },
    {
      "cell_type": "code",
      "source": [
        "x"
      ],
      "metadata": {
        "colab": {
          "base_uri": "https://localhost:8080/"
        },
        "id": "6QA5ASlB5Lhv",
        "outputId": "a3a5b005-7793-488d-ee11-fe7fb5c0cd16"
      },
      "execution_count": 38,
      "outputs": [
        {
          "output_type": "execute_result",
          "data": {
            "text/plain": [
              "[[3 6 4 7 4 5]\n",
              " [5 6 7 3 7 6]\n",
              " [2 6 6 2 4 4]\n",
              " [3 3 6 4 5 2]]"
            ]
          },
          "metadata": {},
          "execution_count": 38
        }
      ]
    },
    {
      "cell_type": "code",
      "source": [
        "y"
      ],
      "metadata": {
        "colab": {
          "base_uri": "https://localhost:8080/"
        },
        "id": "bwLDDcxy5Nrl",
        "outputId": "1451d183-082a-48b9-9cdc-34a8621e9f2d"
      },
      "execution_count": 39,
      "outputs": [
        {
          "output_type": "execute_result",
          "data": {
            "text/plain": [
              "[[1853 1032 3966 9140 2324 6517]\n",
              " [4160 3748 9458 8357 9252 2965]\n",
              " [7367 2874 6454 1933 8564 2690]\n",
              " [3428 8225 4689 8446 8509 4219]]"
            ]
          },
          "metadata": {},
          "execution_count": 39
        }
      ]
    },
    {
      "cell_type": "code",
      "source": [
        "z"
      ],
      "metadata": {
        "colab": {
          "base_uri": "https://localhost:8080/"
        },
        "id": "iw3Ayhqc5Q9d",
        "outputId": "79fc964b-1bc9-4883-de09-0cbad0524836"
      },
      "execution_count": 40,
      "outputs": [
        {
          "output_type": "execute_result",
          "data": {
            "text/plain": [
              "[[1856 1038 3970 9147 2328 6522]\n",
              " [4165 3754 9465 8360 9259 2971]\n",
              " [7369 2880 6460 1935 8568 2694]\n",
              " [3431 8228 4695 8450 8514 4221]]"
            ]
          },
          "metadata": {},
          "execution_count": 40
        }
      ]
    },
    {
      "cell_type": "code",
      "source": [
        "z.print()"
      ],
      "metadata": {
        "colab": {
          "base_uri": "https://localhost:8080/"
        },
        "id": "MiAt8ObP5Smw",
        "outputId": "de0e23fc-c949-4fab-96be-32e1d3b616c6"
      },
      "execution_count": 41,
      "outputs": [
        {
          "output_type": "stream",
          "name": "stdout",
          "text": [
            "1856 1038 3970 9147 2328 6522 \n",
            "4165 3754 9465 8360 9259 2971 \n",
            "7369 2880 6460 1935 8568 2694 \n",
            "3431 8228 4695 8450 8514 4221 \n"
          ]
        }
      ]
    },
    {
      "cell_type": "code",
      "source": [
        "y == z - x"
      ],
      "metadata": {
        "colab": {
          "base_uri": "https://localhost:8080/"
        },
        "id": "FKkn_WOq5WNl",
        "outputId": "862d6663-7984-4b68-e208-e2d0aa9a6887"
      },
      "execution_count": 42,
      "outputs": [
        {
          "output_type": "execute_result",
          "data": {
            "text/plain": [
              "True"
            ]
          },
          "metadata": {},
          "execution_count": 42
        }
      ]
    },
    {
      "cell_type": "code",
      "source": [
        "a = x * 64\n",
        "a.print()"
      ],
      "metadata": {
        "colab": {
          "base_uri": "https://localhost:8080/"
        },
        "id": "tqRaW3Pd5bbm",
        "outputId": "497215cc-8206-4717-864a-e11aec1076af"
      },
      "execution_count": 43,
      "outputs": [
        {
          "output_type": "stream",
          "name": "stdout",
          "text": [
            "192 384 256 448 256 320 \n",
            "320 384 448 192 448 384 \n",
            "128 384 384 128 256 256 \n",
            "192 192 384 256 320 128 \n"
          ]
        }
      ]
    },
    {
      "cell_type": "code",
      "source": [
        "b = (y - a) * 0.1\n",
        "b.print()"
      ],
      "metadata": {
        "colab": {
          "base_uri": "https://localhost:8080/"
        },
        "id": "gR8kIXx05isc",
        "outputId": "410e9132-5fa4-4f2f-d21d-355d5f1ba30f"
      },
      "execution_count": 44,
      "outputs": [
        {
          "output_type": "stream",
          "name": "stdout",
          "text": [
            "166.10000064.800000371.000000869.200000206.800000619.700000\n",
            "384.000000336.400000901.000000816.500000880.400000258.100000\n",
            "723.900000249.000000607.000000180.500000830.800000243.400000\n",
            "323.600000803.300000430.500000819.000000818.900000409.100000\n"
          ]
        }
      ]
    },
    {
      "cell_type": "code",
      "source": [
        "a.trans()"
      ],
      "metadata": {
        "colab": {
          "base_uri": "https://localhost:8080/"
        },
        "id": "Vj49fHlN5naE",
        "outputId": "58a30849-96a4-4efd-b0bb-0d0a91653c4b"
      },
      "execution_count": 45,
      "outputs": [
        {
          "output_type": "execute_result",
          "data": {
            "text/plain": [
              "[[192 320 128 192]\n",
              " [384 384 384 192]\n",
              " [256 448 384 384]\n",
              " [448 192 128 256]\n",
              " [256 448 256 320]\n",
              " [320 384 256 128]]"
            ]
          },
          "metadata": {},
          "execution_count": 45
        }
      ]
    },
    {
      "cell_type": "code",
      "source": [
        "c = b * a.trans()\n",
        "c.print()"
      ],
      "metadata": {
        "colab": {
          "base_uri": "https://localhost:8080/"
        },
        "id": "-oumY6cx5qe_",
        "outputId": "e5c38eaf-5afc-4eb4-8532-73a907e90fe1"
      },
      "execution_count": 46,
      "outputs": [
        {
          "output_type": "stream",
          "name": "stdout",
          "text": [
            "792396.800000741740.800000511449.600000554809.600000\n",
            "1107328.0000001306003.200000920281.6000001008089.600000\n",
            "761433.6000001099520.000000719462.400000763104.000000\n",
            "1188268.8000001286092.800000934400.000000905753.600000\n"
          ]
        }
      ]
    },
    {
      "cell_type": "code",
      "source": [
        "c.orth()"
      ],
      "metadata": {
        "colab": {
          "base_uri": "https://localhost:8080/"
        },
        "id": "RB0VlEUl5wpb",
        "outputId": "b760c64e-be87-4541-9561-e60348eea570"
      },
      "execution_count": 47,
      "outputs": [
        {
          "output_type": "execute_result",
          "data": {
            "text/plain": [
              "False"
            ]
          },
          "metadata": {},
          "execution_count": 47
        }
      ]
    },
    {
      "cell_type": "code",
      "source": [
        "d = Matrix(mtx=np.array([[0,0,1],[1,0,0],[0,1,0]]))\n",
        "d.print()"
      ],
      "metadata": {
        "colab": {
          "base_uri": "https://localhost:8080/"
        },
        "id": "9UFhzWRl5z4t",
        "outputId": "a183ab1c-203a-4ffb-fba0-50e56d710f77"
      },
      "execution_count": 48,
      "outputs": [
        {
          "output_type": "stream",
          "name": "stdout",
          "text": [
            "0 0 1 \n",
            "1 0 0 \n",
            "0 1 0 \n"
          ]
        }
      ]
    },
    {
      "cell_type": "code",
      "source": [
        "d.orth()"
      ],
      "metadata": {
        "colab": {
          "base_uri": "https://localhost:8080/"
        },
        "id": "rzRWdXBk54D3",
        "outputId": "1194fed4-c6f5-44ce-ce8e-32754a768f00"
      },
      "execution_count": 49,
      "outputs": [
        {
          "output_type": "execute_result",
          "data": {
            "text/plain": [
              "True"
            ]
          },
          "metadata": {},
          "execution_count": 49
        }
      ]
    }
  ],
  "metadata": {
    "kernelspec": {
      "display_name": "Python 3",
      "language": "python",
      "name": "python3"
    },
    "language_info": {
      "codemirror_mode": {
        "name": "ipython",
        "version": 3
      },
      "file_extension": ".py",
      "mimetype": "text/x-python",
      "name": "python",
      "nbconvert_exporter": "python",
      "pygments_lexer": "ipython3",
      "version": "3.7.4"
    },
    "colab": {
      "name": "OOP-HW-1.ipynb",
      "provenance": [],
      "include_colab_link": true
    }
  },
  "nbformat": 4,
  "nbformat_minor": 0
}