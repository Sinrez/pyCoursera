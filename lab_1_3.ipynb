{
  "cells": [
    {
      "cell_type": "markdown",
      "metadata": {
        "id": "view-in-github",
        "colab_type": "text"
      },
      "source": [
        "<a href=\"https://colab.research.google.com/github/Sinrez/pyCoursera/blob/master/lab_1_3.ipynb\" target=\"_parent\"><img src=\"https://colab.research.google.com/assets/colab-badge.svg\" alt=\"Open In Colab\"/></a>"
      ]
    },
    {
      "cell_type": "markdown",
      "metadata": {
        "id": "YUmj4bgrv3jn"
      },
      "source": [
        "# Лабораторная работа №3\n",
        "**Ответом на задание будет *.ipynb файл.**\n",
        "\n",
        "Требования:\n",
        "1. Лабораторная работа выполняется в данном шаблоне.\n",
        "2. Удаление и добавление ячеек **не допускается**.\n",
        "3. Код необходимо вводить только там, где присутствует комментарий `# вставить код сюда`.\n",
        "4. Перед тем, как выложить работу в moodle, переименуйте файл по следующему шаблону **ФамилияИО.ipynb**. Например: если Вас зовут Иванов Иван Иванович, то имя файла будет выглядеть так **ИвановИИ.ipynb**.\n",
        "\n",
        "Требования обусловлены автоматической проверкой кода в качестве входного контроля."
      ]
    },
    {
      "cell_type": "markdown",
      "metadata": {
        "id": "unhpxGJ9v3jp"
      },
      "source": [
        "### Задача № 1\n",
        "\n",
        "Написать функцию с именем `mean`, принимающую произвольное число аргументов и вычисляющую их среднее арифметическое (нечисловые значения пропускать).\n",
        "\n",
        "#### Решение"
      ]
    },
    {
      "cell_type": "code",
      "execution_count": null,
      "metadata": {
        "id": "daE16g5Qv3jq",
        "colab": {
          "base_uri": "https://localhost:8080/"
        },
        "outputId": "c79ee044-ea41-4fd7-e4be-3337c338286b"
      },
      "outputs": [
        {
          "output_type": "stream",
          "name": "stdout",
          "text": [
            "3.0\n"
          ]
        }
      ],
      "source": [
        "# вставить код сюда\n",
        "def mean(*args) -> float:\n",
        "    s = 0\n",
        "    cnt = 0\n",
        "    for x in args:\n",
        "      if type(x) in (int, float):\n",
        "        s += x\n",
        "        cnt += 1\n",
        "    return s/cnt\n",
        "\n",
        "# if __name__ == '__main__':\n",
        "#   print(mean(2,3,'a','b',4))"
      ]
    },
    {
      "cell_type": "markdown",
      "metadata": {
        "id": "xJqtCjoUv3jq"
      },
      "source": [
        "### Задача № 2\n",
        "\n",
        "Написать анонимную функцию вычисления объема прямоугольного параллелепипеда. Применить полученную функцию к списку кортежей (используйте `map`). Каждый кортеж содержит: высоту, длину и глубину параллелепипеда. Сохранить результат в новый список.\n",
        "\n",
        "**Пример**:\n",
        "\n",
        "Имеем `parallelepipeds = [(2, 8, 5), (8, 10, 10), (3, 7, 6)]`.\n",
        "\n",
        "Должны получить `[80, 800, 126]`.\n",
        "\n",
        "#### Решение"
      ]
    },
    {
      "cell_type": "code",
      "execution_count": null,
      "metadata": {
        "id": "fMmr8o93v3jq",
        "colab": {
          "base_uri": "https://localhost:8080/"
        },
        "outputId": "e2748bf4-df2b-45e7-8a3b-359929a48c47"
      },
      "outputs": [
        {
          "output_type": "stream",
          "name": "stdout",
          "text": [
            "[80, 800, 126]\n"
          ]
        }
      ],
      "source": [
        "# вставить код сюда\n",
        "vol_par = lambda lst: lst[0] * lst[1] * lst[2]\n",
        "\n",
        "if __name__ == '__main__':\n",
        "  parallelepipeds = [(2, 8, 5), (8, 10, 10), (3, 7, 6)]\n",
        "  res = list(map(vol_par, parallelepipeds))\n",
        "  print(res)"
      ]
    },
    {
      "cell_type": "markdown",
      "metadata": {
        "id": "8vKw-7HAv3jr"
      },
      "source": [
        "### Задача № 3\n",
        "\n",
        "Реализовать рекурсивную функцию, рассчитывающую n-й член последовательности Фибоначчи.\n",
        "\n",
        "#### Решение"
      ]
    },
    {
      "cell_type": "code",
      "execution_count": null,
      "metadata": {
        "id": "jIxUFLg1v3jr",
        "colab": {
          "base_uri": "https://localhost:8080/"
        },
        "outputId": "a11ceb39-7685-42e7-9efa-a0b6a0fa0e00"
      },
      "outputs": [
        {
          "output_type": "stream",
          "name": "stdout",
          "text": [
            "Введите число n:5\n",
            "Последний элемент последовательности: 5\n"
          ]
        }
      ],
      "source": [
        "# вставить код сюда\n",
        "def fibo(n) -> int:\n",
        "  if n in (1, 2):\n",
        "    return 1\n",
        "  elif n == 0:\n",
        "    return 0\n",
        "  return fibonacci(n - 1) + fibonacci(n - 2)\n",
        "\n",
        "if __name__ == '__main__':\n",
        "   try:\n",
        "      n_in = int(input(\"Введите число n:\"))\n",
        "      print(f'Последний элемент последовательности: {fibo(n_in)}')\n",
        "   except Exception as err:\n",
        "      print(f'Ошибка ввода: {err}')"
      ]
    },
    {
      "cell_type": "markdown",
      "metadata": {
        "id": "t6bGQ9amv3jr"
      },
      "source": [
        "### Задача № 4\n",
        "\n",
        "Напишите функцию с именем `get_func`, которая принимает на вход три числовых параметра с именами `a, b, c`.\n",
        "Возвращаемым значением должны быть новая функция, которая реализует выражение $f(x) = a \\cdot x^2 + b \\cdot x + c$. Т.е. новая функция принимает на вход параметр `x`, и возвращает значение равное $f(x)$.\n",
        "\n",
        "#### Решение"
      ]
    },
    {
      "cell_type": "code",
      "execution_count": null,
      "metadata": {
        "id": "Xv5Gf5Y8v3jr",
        "colab": {
          "base_uri": "https://localhost:8080/"
        },
        "outputId": "04c7d3bb-6487-4fd9-adc9-4309856b5fb5"
      },
      "outputs": [
        {
          "output_type": "stream",
          "name": "stdout",
          "text": [
            "44\n"
          ]
        }
      ],
      "source": [
        "# вставить код сюда\n",
        "def get_func(a, b, c):\n",
        "  def f(x):\n",
        "    return a*x**2+b*x+c\n",
        "  return f\n",
        "\n",
        "# if __name__ == '__main__':\n",
        "#   print(get_func(3,4,5)(3))"
      ]
    }
  ],
  "metadata": {
    "kernelspec": {
      "display_name": "Python 3",
      "language": "python",
      "name": "python3"
    },
    "language_info": {
      "codemirror_mode": {
        "name": "ipython",
        "version": 3
      },
      "file_extension": ".py",
      "mimetype": "text/x-python",
      "name": "python",
      "nbconvert_exporter": "python",
      "pygments_lexer": "ipython3",
      "version": "3.7.3"
    },
    "colab": {
      "provenance": [],
      "include_colab_link": true
    }
  },
  "nbformat": 4,
  "nbformat_minor": 0
}