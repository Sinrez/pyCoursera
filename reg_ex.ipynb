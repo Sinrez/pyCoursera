{
  "nbformat": 4,
  "nbformat_minor": 0,
  "metadata": {
    "colab": {
      "name": "reg_ex.ipynb",
      "provenance": [],
      "authorship_tag": "ABX9TyNayYP52N1vaEGs0pk1vjbs",
      "include_colab_link": true
    },
    "kernelspec": {
      "name": "python3",
      "display_name": "Python 3"
    },
    "language_info": {
      "name": "python"
    }
  },
  "cells": [
    {
      "cell_type": "markdown",
      "metadata": {
        "id": "view-in-github",
        "colab_type": "text"
      },
      "source": [
        "<a href=\"https://colab.research.google.com/github/Sinrez/pyCoursera/blob/master/reg_ex.ipynb\" target=\"_parent\"><img src=\"https://colab.research.google.com/assets/colab-badge.svg\" alt=\"Open In Colab\"/></a>"
      ]
    },
    {
      "cell_type": "code",
      "execution_count": 1,
      "metadata": {
        "id": "9ZYC1ng6-1wV"
      },
      "outputs": [],
      "source": [
        ">>> import re\n",
        ">>> youpattern = re.compile('You')"
      ]
    },
    {
      "cell_type": "code",
      "source": [
        ">>> import re\n",
        ">>> source = 'Young Frankenstein'\n",
        ">>> m = re.match('You', source) # функция начинает работать с начала источника\n",
        ">>> if m: # функция возвращает объект; делайте это, чтобы увидеть, что совпало\n",
        "   print(m.group())"
      ],
      "metadata": {
        "colab": {
          "base_uri": "https://localhost:8080/"
        },
        "id": "kVczJ-XuAA0v",
        "outputId": "468c2001-cf9f-4360-e760-4cba8f904bf1"
      },
      "execution_count": 3,
      "outputs": [
        {
          "output_type": "stream",
          "name": "stdout",
          "text": [
            "You\n"
          ]
        }
      ]
    },
    {
      "cell_type": "code",
      "source": [
        "source = 'Young Frankenstein'\n",
        ">>> m = re.match('Frank', source)\n",
        ">>> if m:\n",
        "...     print(m.group())"
      ],
      "metadata": {
        "id": "4zNbIdvMAFie"
      },
      "execution_count": 6,
      "outputs": []
    },
    {
      "cell_type": "code",
      "source": [
        ">>> import re\n",
        ">>> source = 'Young Frankenstein'\n",
        ">>> if m := re.match('Frank', source):\n",
        "...     print(m.group())"
      ],
      "metadata": {
        "colab": {
          "base_uri": "https://localhost:8080/",
          "height": 133
        },
        "id": "yNhrOQQtBgL-",
        "outputId": "a15b188a-dc56-45ff-80b6-e83d1f533fa5"
      },
      "execution_count": 7,
      "outputs": [
        {
          "output_type": "error",
          "ename": "SyntaxError",
          "evalue": "ignored",
          "traceback": [
            "\u001b[0;36m  File \u001b[0;32m\"<ipython-input-7-f01a830f9636>\"\u001b[0;36m, line \u001b[0;32m3\u001b[0m\n\u001b[0;31m    if m := re.match('Frank', source):\u001b[0m\n\u001b[0m          ^\u001b[0m\n\u001b[0;31mSyntaxError\u001b[0m\u001b[0;31m:\u001b[0m invalid syntax\n"
          ]
        }
      ]
    },
    {
      "cell_type": "code",
      "source": [
        ">>> import re\n",
        ">>> source = 'Young Frankenstein'\n",
        ">>> m = re.search('Frank', source)\n",
        ">>> if m:\n",
        "     print(m.group())"
      ],
      "metadata": {
        "colab": {
          "base_uri": "https://localhost:8080/"
        },
        "id": "Kt9EfSByBrRS",
        "outputId": "cce1c971-aafb-4818-8824-69070c6a2af9"
      },
      "execution_count": 12,
      "outputs": [
        {
          "output_type": "stream",
          "name": "stdout",
          "text": [
            "Frank\n"
          ]
        }
      ]
    },
    {
      "cell_type": "code",
      "source": [
        ">>> m = re.match('.*Frank', source)\n",
        ">>> if m:  # функция match возвращает объект\n",
        "...     print(m.group())"
      ],
      "metadata": {
        "colab": {
          "base_uri": "https://localhost:8080/"
        },
        "id": "uCECaOkdB5Yo",
        "outputId": "e29b4e40-63ea-4073-a34e-527556806d61"
      },
      "execution_count": 13,
      "outputs": [
        {
          "output_type": "stream",
          "name": "stdout",
          "text": [
            "Young Frank\n"
          ]
        }
      ]
    },
    {
      "cell_type": "code",
      "source": [
        ">>> import re\n",
        ">>> source = 'Young Frankenstein'\n",
        ">>> m = re.findall('n.', source)\n",
        "print(m)"
      ],
      "metadata": {
        "colab": {
          "base_uri": "https://localhost:8080/"
        },
        "id": "a_IA78HqCMzQ",
        "outputId": "e3fd96a7-c940-4a94-97dd-e2f2a8c5bde4"
      },
      "execution_count": 15,
      "outputs": [
        {
          "output_type": "stream",
          "name": "stdout",
          "text": [
            "['ng', 'nk', 'ns']\n"
          ]
        }
      ]
    },
    {
      "cell_type": "code",
      "source": [
        ""
      ],
      "metadata": {
        "id": "VqIWsZF5OvkG"
      },
      "execution_count": null,
      "outputs": []
    }
  ]
}