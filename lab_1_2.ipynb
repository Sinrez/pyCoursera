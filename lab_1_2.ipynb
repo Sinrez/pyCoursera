{
  "cells": [
    {
      "cell_type": "markdown",
      "metadata": {
        "id": "view-in-github",
        "colab_type": "text"
      },
      "source": [
        "<a href=\"https://colab.research.google.com/github/Sinrez/pyCoursera/blob/master/lab_1_2.ipynb\" target=\"_parent\"><img src=\"https://colab.research.google.com/assets/colab-badge.svg\" alt=\"Open In Colab\"/></a>"
      ]
    },
    {
      "cell_type": "markdown",
      "metadata": {
        "id": "cEWJuLkHtfAk"
      },
      "source": [
        "# Лабораторная работа №2\n",
        "**Ответом на задание будет *.ipynb файл.**\n",
        "\n",
        "Требования:\n",
        "1. Лабораторная работа выполняется в данном шаблоне.\n",
        "2. Удаление и добавление ячеек **не допускается**.\n",
        "3. Код необходимо вводить только там, где присутствует комментарий `# вставить код сюда`.\n",
        "4. Перед тем, как выложить работу в moodle, переименуйте файл по следующему шаблону **ФамилияИО.ipynb**. Например: если Вас зовут Иванов Иван Иванович, то имя файла будет выглядеть так **ИвановИИ.ipynb**.\n",
        "\n",
        "Требования обусловлены автоматической проверкой кода в качестве входного контроля.\n",
        "\n",
        "**`num_list`, `str_list`, `result_list`, `even_list`, `odd_list` уже объявлены в коде, повторно объявлять их не надо. Выполните следующую ячейку, и все списки будут доступны в остальных ячейках.**"
      ]
    },
    {
      "cell_type": "code",
      "execution_count": null,
      "metadata": {
        "id": "z8tbnj0etfAo"
      },
      "outputs": [],
      "source": [
        "num_list = []\n",
        "str_list = []\n",
        "result_list = []\n",
        "even_list = []\n",
        "odd_list = []"
      ]
    },
    {
      "cell_type": "markdown",
      "metadata": {
        "id": "wkHiNo5ztfAq"
      },
      "source": [
        "#### Пример ввода чисел\n",
        "Здесь приведен пример организации ввода. Дополнительный контроль ввода организовывать не надо. По умолчанию считаем, что пользователи вводят корректные данные."
      ]
    },
    {
      "cell_type": "code",
      "execution_count": null,
      "metadata": {
        "id": "hvsiuavutfAq"
      },
      "outputs": [],
      "source": [
        "while input('Хотите добавить еще одно значение (любой символ, кроме \"н\", для продолжения)? ') != 'н':\n",
        "    val = int(input(\"Введите значение \"))\n",
        "    print(val, type(val))"
      ]
    },
    {
      "cell_type": "markdown",
      "metadata": {
        "id": "aGYOzPXrtfAr"
      },
      "source": [
        "### Задача № 1\n",
        "\n",
        "Реализуйте алгоритм ввода списка `num_list`, который должен хранить целые числа. Используйте функцию `input()` для организации ввода. Перед добавлением нового элемента необходимо уточнять у пользователя надо ли продолжить/прекратить ввод. При этом положительные элементы необходимо добавлять непосредственно в начало списка, а отрицательные элементы - в хвост списка.\n",
        "\n",
        "#### Решение"
      ]
    },
    {
      "cell_type": "code",
      "execution_count": null,
      "metadata": {
        "colab": {
          "base_uri": "https://localhost:8080/"
        },
        "id": "fQfYNLKLtfAr",
        "outputId": "40668403-b1ed-4e9d-aafb-a0866794d447"
      },
      "outputs": [
        {
          "output_type": "stream",
          "name": "stdout",
          "text": [
            "Хотите добавить еще одно значение (любой символ, кроме \"н\", для продолжения)?  \n",
            "Введите значение 1\n",
            "Хотите добавить еще одно значение (любой символ, кроме \"н\", для продолжения)?  \n",
            "Введите значение 4\n",
            "Хотите добавить еще одно значение (любой символ, кроме \"н\", для продолжения)?  \n",
            "Введите значение -1\n",
            "Хотите добавить еще одно значение (любой символ, кроме \"н\", для продолжения)?  \n",
            "Введите значение -5\n",
            "Хотите добавить еще одно значение (любой символ, кроме \"н\", для продолжения)?  \n",
            "Введите значение 0\n",
            "Хотите добавить еще одно значение (любой символ, кроме \"н\", для продолжения)? n\n",
            "[1, 2, 1, 2, 1, 4, 0, -1, -5]\n"
          ]
        }
      ],
      "source": [
        "# вставить код сюда\n",
        "def make_list() -> None:\n",
        "  lst_neg = []\n",
        "  while input('Хотите добавить еще одно значение (любой символ, кроме \"н\", для продолжения)? ').lower().replace(\"n\",\"н\") != 'н':\n",
        "    val = int(input(\"Введите значение \"))\n",
        "    if val >=0:\n",
        "      num_list.append(val)\n",
        "    else:\n",
        "      lst_neg.append(val)\n",
        "  num_list.extend(lst_neg)\n",
        "\n",
        "if __name__ == '__main__':\n",
        "  make_list()\n",
        "  print(num_list)\n",
        "\n",
        "\n"
      ]
    },
    {
      "cell_type": "markdown",
      "metadata": {
        "id": "s5ITNxKJtfAr"
      },
      "source": [
        "### Задача № 2\n",
        "\n",
        "Произведите ввод двух целых чисел, разработайте алгоритм удаления из списка `num_list` всех элементов между двумя с заданными значениями. Поиск первого необходимо осуществлять с начала списка, поиск второго - с конца, ищем до первого найденного. После модификации списка выведите его.\n",
        "\n",
        "**Пример**:\n",
        "\n",
        "Имеем `num_list = [2, 8, 5, 8, -14, -10, -3, -7]`.\n",
        "\n",
        "Если введены числа `8` и `-10`, то должны вывести `num_list = [2, 8, -10, -3, -7]`.\n",
        "\n",
        "#### Решение"
      ]
    },
    {
      "cell_type": "code",
      "execution_count": null,
      "metadata": {
        "colab": {
          "base_uri": "https://localhost:8080/"
        },
        "id": "kL_k6jCQtfAs",
        "outputId": "3062def2-92ca-4308-f01c-2814cf0f06ee"
      },
      "outputs": [
        {
          "output_type": "stream",
          "name": "stdout",
          "text": [
            "Введите первое значение: 8\n",
            "Введите второе значение: -10\n",
            "[2, 8, -10, -3, -7]\n"
          ]
        }
      ],
      "source": [
        "# вставить код сюда\n",
        "# num_list = [2, 8, 5, 8, -14, -10, -3, -7]\n",
        "\n",
        "def del_val_lst(lst) -> None:\n",
        "     val1 = int(input(\"Введите первое значение: \"))\n",
        "     val2 = int(input(\"Введите второе значение: \"))\n",
        "     i1 = lst.index(val1)\n",
        "     i2 = 0\n",
        "     for i in range(len(lst)-1,-1,-1):\n",
        "       if lst[i] == val2:\n",
        "         i2 = i\n",
        "     del lst[i1+1:i2]\n",
        "\n",
        "if __name__ == '__main__':\n",
        "  del_val_lst(num_list)\n",
        "  print(num_list)"
      ]
    },
    {
      "cell_type": "markdown",
      "metadata": {
        "id": "Puamjs2mtfAt"
      },
      "source": [
        "### Задача № 3\n",
        "\n",
        "Реализуйте алгоритм ввода списка `str_list`, который должен хранить строки (используйте `input()`). Длина `str_list` заранее не известна, поэтому ввод организуйте по аналогии с задачей №1.\n",
        "\n",
        "#### Решение"
      ]
    },
    {
      "cell_type": "code",
      "execution_count": null,
      "metadata": {
        "colab": {
          "base_uri": "https://localhost:8080/"
        },
        "id": "3VAGfcYltfAt",
        "outputId": "f40caa11-909b-4f97-bac0-cba6df3045ea"
      },
      "outputs": [
        {
          "output_type": "stream",
          "name": "stdout",
          "text": [
            "Хотите добавить еще одно значение (любой символ, кроме \"н\", для продолжения)?  \n",
            "Введите строку, для сохранения нажмите Enter: sdfsfssds\n",
            "Хотите добавить еще одно значение (любой символ, кроме \"н\", для продолжения)?  \n",
            "Введите строку, для сохранения нажмите Enter: sdfsfsd\n",
            "Хотите добавить еще одно значение (любой символ, кроме \"н\", для продолжения)? n\n",
            "['sdfsfssds', 'sdfsfsd']\n"
          ]
        }
      ],
      "source": [
        "# вставить код сюда\n",
        "def in_str_list(lst) -> None:\n",
        "  while input('Хотите ввести строку? (любой символ, кроме \"н\", для продолжения)? ').lower().replace(\"n\",\"н\") != 'н':\n",
        "    lst.append(input('Введите строку, для сохранения нажмите Enter: ').strip())\n",
        "\n",
        "if __name__ == '__main__':\n",
        "  in_str_list(str_list)\n",
        "  print(str_list)\n"
      ]
    },
    {
      "cell_type": "markdown",
      "metadata": {
        "id": "abHa8_58tfAt"
      },
      "source": [
        "### Задача № 4\n",
        "\n",
        "Напишите алгоритм подсчета количества слов палиндромов (одинаково читаются слева направо и справа налево) в списке `str_list`. Выведите полученное значение.\n",
        "\n",
        "**Пример**:\n",
        "\n",
        "Имеем `str_list = [\"мою\", \"маму\", \"зовут\", \"анна\", \"она\", \"сломала\", \"шалаш\"]`.\n",
        "\n",
        "Палиндромами являются слова `\"анна\"` и `\"шалаш\"`, а их количество равно 2.\n",
        "\n",
        "#### Решение"
      ]
    },
    {
      "cell_type": "code",
      "execution_count": null,
      "metadata": {
        "colab": {
          "base_uri": "https://localhost:8080/"
        },
        "id": "jbK_ETZ1tfAu",
        "outputId": "a7be2ff1-0648-4f56-9d4d-cc015cfc3c94"
      },
      "outputs": [
        {
          "output_type": "stream",
          "name": "stdout",
          "text": [
            "2\n"
          ]
        }
      ],
      "source": [
        "# вставить код сюда\n",
        "#str_list = [\"мою\", \"маму\", \"зовут\", \"анна\", \"она\", \"сломала\", \"шалаш\"]\n",
        "\n",
        "def count_poly(lst) ->int:\n",
        "  cnt = 0\n",
        "  for l in lst:\n",
        "    if l == l[::-1]:\n",
        "      cnt += 1\n",
        "  return cnt \n",
        "\n",
        "if __name__ == '__main__':\n",
        "  print(count_poly(str_list))\n",
        "\n"
      ]
    },
    {
      "cell_type": "markdown",
      "metadata": {
        "id": "lihAutqRtfAu"
      },
      "source": [
        "### Задача № 5\n",
        "\n",
        "Создайте (посредством генератора списков) список с именем `result_list`. Элементы нового списка должны быть равны <br> $x^3-4, где x\\in$`num_list` из задачи №2. Выведите полученный список.\n",
        "\n",
        "**Пример**:\n",
        "\n",
        "Имеем `num_list = [2, 8, -10, -3, -7]`.\n",
        "\n",
        "Должны получить `result_list = [4, 508, -1004, -31, -347]`.\n",
        "\n",
        "#### Решение"
      ]
    },
    {
      "cell_type": "code",
      "execution_count": null,
      "metadata": {
        "colab": {
          "base_uri": "https://localhost:8080/"
        },
        "id": "jDLd3saotfAu",
        "outputId": "329a3089-5b33-4742-8c13-6a6eaefc7fff"
      },
      "outputs": [
        {
          "output_type": "execute_result",
          "data": {
            "text/plain": [
              "[4, 508, -1004, -31, -347]"
            ]
          },
          "metadata": {},
          "execution_count": 6
        }
      ],
      "source": [
        "# вставить код сюда\n",
        "#num_list = [2, 8, -10, -3, -7]\n",
        "\n",
        "result_list = [n**3-4 for n in num_list]\n",
        "result_list"
      ]
    },
    {
      "cell_type": "markdown",
      "metadata": {
        "id": "gnmA1ap3tfAv"
      },
      "source": [
        "### Задача № 6\n",
        "\n",
        "С помощью срезов создайте из списка `result_list` два новых: `even_list` и `odd_list`. Первый должен содержать четные по индексу элементы, второй - нечетные по индексу. Выведите полученные списки.\n",
        "\n",
        "**Пример**:\n",
        "\n",
        "Имеем `result_list = [4, 508, -1004, -31, -347]`.\n",
        "\n",
        "Должны получить `even_list = [4, -1004, -347]` `odd_list = [508, -31]`.\n",
        "\n",
        "#### Решение"
      ]
    },
    {
      "cell_type": "code",
      "execution_count": null,
      "metadata": {
        "colab": {
          "base_uri": "https://localhost:8080/"
        },
        "id": "vpW6ZPkGtfAv",
        "outputId": "591980e0-2e0a-4c32-f841-b1c00e46bdcc"
      },
      "outputs": [
        {
          "output_type": "stream",
          "name": "stdout",
          "text": [
            "[4, -1004, -347]\n",
            "\n",
            "[508, -31]\n"
          ]
        }
      ],
      "source": [
        "# вставить код сюда\n",
        "# result_list = [4, 508, -1004, -31, -347]\n",
        "\n",
        "even_list = result_list[::2]\n",
        "odd_list = result_list[1::2]\n",
        "\n",
        "# print(even_list)\n",
        "# print()\n",
        "# print(odd_list)\n"
      ]
    },
    {
      "cell_type": "markdown",
      "metadata": {
        "id": "BnkougXhtfAv"
      },
      "source": [
        "### Задача № 7\n",
        "\n",
        "Сгенерировать множества (тип `set`) всех возможных сочетаний ($k\\in [0; N]$) из `N` элементов (символы латинского алфавита). `N` – задается пользователем ($N\\in [1; 26]$). Полученные множества сохранить в словаре, где ключом будет являться кортеж, состоящий из порядкового номера сгенерированного множества  $[1; 2^{n}]$ и строки, которая содержит все элементы текущего множества, отсортированные в лексикографическом порядке.\n",
        "\n",
        "**Пример**:\n",
        "\n",
        "Имеем `N = 3`.\n",
        "\n",
        "Должны получить \n",
        "\n",
        "`{(1, ''): set(),\n",
        "(2, 'a'): {‘a’},\n",
        "(3, 'b'): {‘b’},\n",
        "(4, 'c'): {‘c’},\n",
        "(5, 'ab'): {‘b’, ‘a’},\n",
        "(6, 'ac'): {‘a’, ‘c’},\n",
        "(7, 'bc'): {‘c’, ‘b’},\n",
        "(8, 'abc'): {‘b’, ‘a’,‘c’}}`\n",
        "\n",
        "#### Решение"
      ]
    },
    {
      "cell_type": "code",
      "execution_count": null,
      "metadata": {
        "id": "asybLHPYtfAv",
        "colab": {
          "base_uri": "https://localhost:8080/"
        },
        "outputId": "56319394-131e-4a0c-bdfd-1a08e1cb17f1"
      },
      "outputs": [
        {
          "output_type": "stream",
          "name": "stdout",
          "text": [
            "Введите n от 1 до 26: 5\n",
            "{(1, ''): set(), (2, 'a'): {'a'}, (3, 'ab'): {'a', 'b'}, (4, 'abc'): {'a', 'c', 'b'}, (5, 'abcd'): {'d', 'a', 'c', 'b'}, (6, 'abcde'): {'a', 'c', 'd', 'b', 'e'}, (7, 'abce'): {'a', 'c', 'b', 'e'}, (8, 'abced'): {'a', 'c', 'd', 'b', 'e'}, (9, 'abd'): {'d', 'a', 'b'}, (10, 'abdc'): {'d', 'a', 'c', 'b'}, (11, 'abdce'): {'a', 'c', 'd', 'b', 'e'}, (12, 'abde'): {'d', 'a', 'b', 'e'}, (13, 'abdec'): {'a', 'c', 'd', 'b', 'e'}, (14, 'abe'): {'a', 'b', 'e'}, (15, 'abec'): {'a', 'c', 'b', 'e'}, (16, 'abecd'): {'a', 'c', 'd', 'b', 'e'}, (17, 'abed'): {'d', 'a', 'b', 'e'}, (18, 'abedc'): {'a', 'c', 'd', 'b', 'e'}, (19, 'ac'): {'a', 'c'}, (20, 'acb'): {'a', 'c', 'b'}, (21, 'acbd'): {'d', 'a', 'c', 'b'}, (22, 'acbde'): {'a', 'c', 'd', 'b', 'e'}, (23, 'acbe'): {'a', 'c', 'b', 'e'}, (24, 'acbed'): {'a', 'c', 'd', 'b', 'e'}, (25, 'acd'): {'d', 'a', 'c'}, (26, 'acdb'): {'d', 'a', 'c', 'b'}, (27, 'acdbe'): {'a', 'c', 'd', 'b', 'e'}, (28, 'acde'): {'d', 'a', 'c', 'e'}, (29, 'acdeb'): {'a', 'c', 'd', 'b', 'e'}, (30, 'ace'): {'a', 'c', 'e'}, (31, 'aceb'): {'a', 'c', 'b', 'e'}, (32, 'acebd'): {'a', 'c', 'd', 'b', 'e'}}\n"
          ]
        }
      ],
      "source": [
        "# вставить код сюда\n",
        "from string import ascii_lowercase\n",
        "from itertools import chain, combinations, permutations\n",
        "\n",
        "def powerset(list_name) -> tuple:\n",
        "    s = list(list_name)\n",
        "    return chain.from_iterable(combinations(s, r) for r in range(len(s)+1))\n",
        "\n",
        "def set_gen() -> set:\n",
        "  try:\n",
        "    n = int(input('Введите n от 1 до 26: '))\n",
        "  except Exception as e:\n",
        "    print(f\"Ошибка ввода: {e}\")\n",
        "\n",
        "  lst_dgt = [l for l in range(n+1)] #список чисел до n\n",
        "  alph = list(ascii_lowercase)[:n] #срез списка-алфавита до n\n",
        "  cache = [list(p) for p in powerset(alph)]  #промежуточный список для обработки сочетаний букв\n",
        "  # print(cache)\n",
        "  cache_shuflle = [] #для перемешивания комбинаций\n",
        "  for ch in cache:\n",
        "    if len(ch) >= 2:\n",
        "      seq = permutations(ch)\n",
        "      for p in list(seq):\n",
        "        cache_shuflle.append(tuple(p))\n",
        "    else:\n",
        "      cache_shuflle.append(tuple(ch))\n",
        "\n",
        "  set_shuflle = list(set(cache_shuflle))\n",
        "  # print(cache_shuflle)\n",
        "  set_shuflle2 = sorted(set_shuflle, key=lambda x: x)\n",
        "  # set_shuflle2 = sorted(set_shuflle, key=lambda x: x[::-1])\n",
        "  # print(set_shuflle2)\n",
        "\n",
        "  dict_cache = {}\n",
        "  for i in range(2**n):\n",
        "    dict_cache[(i+1,''.join(set_shuflle2[i]))] = set(set_shuflle2[i])\n",
        "  print(dict_cache)\n",
        "\n",
        "if __name__ == '__main__':\n",
        "  set_gen()"
      ]
    }
  ],
  "metadata": {
    "kernelspec": {
      "display_name": "Python 3",
      "language": "python",
      "name": "python3"
    },
    "language_info": {
      "codemirror_mode": {
        "name": "ipython",
        "version": 3
      },
      "file_extension": ".py",
      "mimetype": "text/x-python",
      "name": "python",
      "nbconvert_exporter": "python",
      "pygments_lexer": "ipython3",
      "version": "3.7.3"
    },
    "colab": {
      "provenance": [],
      "include_colab_link": true
    }
  },
  "nbformat": 4,
  "nbformat_minor": 0
}