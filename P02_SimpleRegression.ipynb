{
  "cells": [
    {
      "cell_type": "markdown",
      "metadata": {
        "id": "view-in-github",
        "colab_type": "text"
      },
      "source": [
        "<a href=\"https://colab.research.google.com/github/Sinrez/pyCoursera/blob/master/P02_SimpleRegression.ipynb\" target=\"_parent\"><img src=\"https://colab.research.google.com/assets/colab-badge.svg\" alt=\"Open In Colab\"/></a>"
      ]
    },
    {
      "cell_type": "code",
      "execution_count": 1,
      "id": "2a4339b1",
      "metadata": {
        "id": "2a4339b1"
      },
      "outputs": [],
      "source": [
        "import numpy as np\n",
        "from sklearn.linear_model import LinearRegression\n",
        "import scipy as sp\n",
        "import matplotlib.pyplot as plt\n",
        "from scipy.optimize import fsolve\n",
        "from sklearn.metrics import confusion_matrix\n",
        "from sklearn.metrics import accuracy_score\n",
        "from sklearn.utils import shuffle"
      ]
    },
    {
      "cell_type": "code",
      "execution_count": 2,
      "id": "64cb5e01",
      "metadata": {
        "id": "64cb5e01"
      },
      "outputs": [],
      "source": [
        "x1=np.array([5, 15, 25, 35, 45, 55])\n",
        "y1=np.array([5, 20, 14, 32, 22, 38])"
      ]
    },
    {
      "cell_type": "code",
      "execution_count": 3,
      "id": "0be7f277",
      "metadata": {
        "id": "0be7f277"
      },
      "outputs": [],
      "source": [
        "x=x1.reshape((-1, 1)) # этот массив должен быть двумерным: иметь одну колонку и необходимое количество рядов\n",
        "y=y1"
      ]
    },
    {
      "cell_type": "code",
      "execution_count": 4,
      "id": "3cca38a4",
      "metadata": {
        "colab": {
          "base_uri": "https://localhost:8080/"
        },
        "id": "3cca38a4",
        "outputId": "b6c813f0-5db6-4dca-8300-60e56d220379"
      },
      "outputs": [
        {
          "output_type": "stream",
          "name": "stdout",
          "text": [
            "[[ 5]\n",
            " [15]\n",
            " [25]\n",
            " [35]\n",
            " [45]\n",
            " [55]]\n",
            "[ 5 20 14 32 22 38]\n"
          ]
        }
      ],
      "source": [
        "print(x)\n",
        "print(y)"
      ]
    },
    {
      "cell_type": "code",
      "execution_count": 5,
      "id": "afd47752",
      "metadata": {
        "colab": {
          "base_uri": "https://localhost:8080/",
          "height": 313
        },
        "id": "afd47752",
        "outputId": "ff796ac3-28ec-4a86-b8dc-c3f36c37ce28"
      },
      "outputs": [
        {
          "output_type": "execute_result",
          "data": {
            "text/plain": [
              "<matplotlib.collections.PathCollection at 0x7f8c0f264640>"
            ]
          },
          "metadata": {},
          "execution_count": 5
        },
        {
          "output_type": "display_data",
          "data": {
            "text/plain": [
              "<Figure size 432x288 with 1 Axes>"
            ],
            "image/png": "[encoded data removed]"
          },
          "metadata": {
            "needs_background": "light"
          }
        }
      ],
      "source": [
        "axes = plt.axes()\n",
        "axes.set_xlim([0, 60])         \n",
        "axes.set_ylim([0, 40])         \n",
        "axes.set_xlabel(\"X\")             \n",
        "axes.set_ylabel(\"Y\")             \n",
        "legend = []\n",
        "plt.title('Исходные данные')\n",
        "plt.scatter(x1, y1, color='green', marker=\"o\")\n"
      ]
    },
    {
      "cell_type": "code",
      "execution_count": 6,
      "id": "e84502f3",
      "metadata": {
        "colab": {
          "base_uri": "https://localhost:8080/"
        },
        "id": "e84502f3",
        "outputId": "261e343c-f187-4936-901a-70593b11fbdf"
      },
      "outputs": [
        {
          "output_type": "stream",
          "name": "stdout",
          "text": [
            "coefficient of determination: 0.7158756137479542\n",
            "intercept: 5.633333333333329\n",
            "slope: [0.54]\n"
          ]
        }
      ],
      "source": [
        "model = LinearRegression()\n",
        "model.fit(x, y) # вычисляются оптимальные значение весов, используя существующие вход и выход в качестве аргументов\n",
        "print('coefficient of determination:', model.score(x, y))\n",
        "print('intercept:', model.intercept_) # b₀\n",
        "print('slope:', model.coef_) # b₁"
      ]
    },
    {
      "cell_type": "code",
      "execution_count": 7,
      "id": "54999b4c",
      "metadata": {
        "scrolled": true,
        "colab": {
          "base_uri": "https://localhost:8080/"
        },
        "id": "54999b4c",
        "outputId": "14981485-3881-4982-b143-b301e239b718"
      },
      "outputs": [
        {
          "output_type": "stream",
          "name": "stdout",
          "text": [
            "actual response:\n",
            "[ 5 20 14 32 22 38]\n",
            "predicted response:\n",
            "[ 8.33333333 13.73333333 19.13333333 24.53333333 29.93333333 35.33333333]\n",
            "predicted response2:\n",
            "[[ 8.33333333]\n",
            " [13.73333333]\n",
            " [19.13333333]\n",
            " [24.53333333]\n",
            " [29.93333333]\n",
            " [35.33333333]]\n"
          ]
        }
      ],
      "source": [
        "y_pred = model.predict(x)\n",
        "print('actual response:', y, sep='\\n') \n",
        "print('predicted response:', y_pred, sep='\\n')\n",
        "\n",
        "z_pred = model.intercept_ + model.coef_ * x\n",
        "\n",
        "print('predicted response2:', z_pred, sep='\\n')"
      ]
    },
    {
      "cell_type": "code",
      "execution_count": 8,
      "id": "348b875b",
      "metadata": {
        "id": "348b875b",
        "colab": {
          "base_uri": "https://localhost:8080/",
          "height": 313
        },
        "outputId": "134b65a0-1903-4936-b4c9-c4a220e698f2"
      },
      "outputs": [
        {
          "output_type": "execute_result",
          "data": {
            "text/plain": [
              "<matplotlib.legend.Legend at 0x7f8c0ed53e80>"
            ]
          },
          "metadata": {},
          "execution_count": 8
        },
        {
          "output_type": "display_data",
          "data": {
            "text/plain": [
              "<Figure size 432x288 with 1 Axes>"
            ],
            "image/png": "[encoded data removed]"
          },
          "metadata": {
            "needs_background": "light"
          }
        }
      ],
      "source": [
        "axes = plt.axes()\n",
        "axes.set_xlim([0, 60])         \n",
        "axes.set_ylim([0, 40])         \n",
        "axes.set_xlabel(\"X\")             \n",
        "axes.set_ylabel(\"Y\")             \n",
        "legend = []\n",
        "plt.title('Линейная регрессия')\n",
        "plt.scatter(x1, y1, color='green', marker=\"o\")\n",
        "legend.append(\"исходные данные\")\n",
        "\n",
        "plt.scatter(x1, y_pred, color='red', marker=\"s\")\n",
        "legend.append(\"предсказанные данные\")\n",
        "\n",
        "plt.plot(x1, y_pred, color='black', linewidth=1)\n",
        "legend.append(\"регрессия\")\n",
        "\n",
        "plt.vlines(x1, y1, y_pred, color='black', linewidth=2, linestyles='dashed')\n",
        "legend.append(\"остатки\")\n",
        "\n",
        "plt.legend(legend, loc=\"upper left\")"
      ]
    },
    {
      "cell_type": "code",
      "execution_count": 9,
      "id": "9b24622f",
      "metadata": {
        "id": "9b24622f",
        "colab": {
          "base_uri": "https://localhost:8080/",
          "height": 422
        },
        "outputId": "01fa256d-088d-4499-cf1a-801a4f4b24a1"
      },
      "outputs": [
        {
          "output_type": "stream",
          "name": "stdout",
          "text": [
            " \n",
            "0.54 x + 5.633\n",
            "           2\n",
            "-0.001964 x + 0.6579 x + 4.438\n",
            "           3          2\n",
            "0.0007315 x - 0.0678 x + 2.263 x - 4.23\n",
            "           4            3           2\n",
            "1.875e-05 x - 0.001519 x + 0.02073 x + 1.002 x + 0.4562\n"
          ]
        },
        {
          "output_type": "display_data",
          "data": {
            "text/plain": [
              "<Figure size 432x288 with 1 Axes>"
            ],
            "image/png": "[encoded data removed]"
          },
          "metadata": {
            "needs_background": "light"
          }
        }
      ],
      "source": [
        "# получаем параметры модели для полинома степени d\n",
        "axes = plt.axes()\n",
        "axes.set_xlim([0, 65])         \n",
        "axes.set_ylim([0, 55])         \n",
        "axes.set_xlabel(\"X\")             \n",
        "axes.set_ylabel(\"Y\")\n",
        "fx = np.linspace(x1[0], x1[-1] + 5, 1000)\n",
        "legend = []\n",
        "plt.scatter(x1, y1, color='green', marker=\"o\")\n",
        "legend.append(\"исходные данные\")\n",
        "\n",
        "for d in range(1, 5):\n",
        "    fp = np.polyfit(x1, y1, d)\n",
        "    # функция-полином, если её напечатать, то увидите математическое выражение\n",
        "    f = sp.poly1d(fp)\n",
        "    print(f)\n",
        "    # рисуем график модельной функции\n",
        "    \n",
        "    plt.plot(fx, f(fx), linewidth=2)\n",
        "    legend.append(\"d=%i\" % f.order)\n",
        "    \n",
        "plt.legend(legend, loc=\"upper left\")\n",
        "plt.grid()\n",
        "plt.show()"
      ]
    }
  ],
  "metadata": {
    "kernelspec": {
      "display_name": "Python 3 (ipykernel)",
      "language": "python",
      "name": "python3"
    },
    "language_info": {
      "codemirror_mode": {
        "name": "ipython",
        "version": 3
      },
      "file_extension": ".py",
      "mimetype": "text/x-python",
      "name": "python",
      "nbconvert_exporter": "python",
      "pygments_lexer": "ipython3",
      "version": "3.9.13"
    },
    "colab": {
      "provenance": [],
      "include_colab_link": true
    }
  },
  "nbformat": 4,
  "nbformat_minor": 5
}