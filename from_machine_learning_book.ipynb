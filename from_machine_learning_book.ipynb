{
  "nbformat": 4,
  "nbformat_minor": 0,
  "metadata": {
    "colab": {
      "provenance": [],
      "authorship_tag": "ABX9TyNurxjRrVuq3YTCBW4UZs9Y",
      "include_colab_link": true
    },
    "kernelspec": {
      "name": "python3",
      "display_name": "Python 3"
    },
    "language_info": {
      "name": "python"
    }
  },
  "cells": [
    {
      "cell_type": "markdown",
      "metadata": {
        "id": "view-in-github",
        "colab_type": "text"
      },
      "source": [
        "<a href=\"https://colab.research.google.com/github/Sinrez/pyCoursera/blob/master/from_machine_learning_book.ipynb\" target=\"_parent\"><img src=\"https://colab.research.google.com/assets/colab-badge.svg\" alt=\"Open In Colab\"/></a>"
      ]
    },
    {
      "cell_type": "code",
      "execution_count": null,
      "metadata": {
        "colab": {
          "base_uri": "https://localhost:8080/"
        },
        "id": "9dR8GhXptnZI",
        "outputId": "d641b647-399b-4a5d-882e-46980a43cd89"
      },
      "outputs": [
        {
          "output_type": "stream",
          "name": "stdout",
          "text": [
            "Normal Python: 0.753990 sec\n",
            "Naive NumPy: 1.266666 sec\n",
            "Good NumPy: 0.025243 sec\n"
          ]
        }
      ],
      "source": [
        "import timeit\n",
        "normal_py_sec = timeit.timeit('sum(x*x for x in range(1000))',number=10000)\n",
        "naive_np_sec = timeit.timeit('sum(na*na)',setup=\"import numpy as np; na=np.arange(1000)\", number=10000)\n",
        "good_np_sec = timeit.timeit('na.dot(na)',setup=\"import numpy as np; na=np.arange(1000)\", number=10000)\n",
        "print(\"Normal Python: %f sec\" % normal_py_sec)\n",
        "print(\"Naive NumPy: %f sec\" % naive_np_sec)\n",
        "print(\"Good NumPy: %f sec\" % good_np_sec)"
      ]
    },
    {
      "cell_type": "code",
      "source": [
        "import scipy, numpy\n",
        "scipy.version.full_version\n",
        "scipy.dot is numpy.dot"
      ],
      "metadata": {
        "colab": {
          "base_uri": "https://localhost:8080/"
        },
        "id": "DCKrufZvuVRh",
        "outputId": "cc9dbdc3-4dbb-4ee4-dc15-67a81783d893"
      },
      "execution_count": null,
      "outputs": [
        {
          "output_type": "execute_result",
          "data": {
            "text/plain": [
              "False"
            ]
          },
          "metadata": {},
          "execution_count": 4
        }
      ]
    },
    {
      "cell_type": "code",
      "source": [
        "from io import StringIO\n",
        "import numpy as np\n",
        "# data = sp.genfromtxt(\"/content/web_traffic.tsv\", delimiter = \"\\t\")\n",
        "data = np.genfromtxt(\"/content/web_traffic.tsv\", delimiter=\"\\t\")\n",
        "print(data[:10])"
      ],
      "metadata": {
        "colab": {
          "base_uri": "https://localhost:8080/"
        },
        "id": "Yrg3ff8FumZX",
        "outputId": "42ad5e2b-60f7-4502-ddb5-8f992691a6a7"
      },
      "execution_count": null,
      "outputs": [
        {
          "output_type": "stream",
          "name": "stdout",
          "text": [
            "[[1.000e+00 2.272e+03]\n",
            " [2.000e+00       nan]\n",
            " [3.000e+00 1.386e+03]\n",
            " [4.000e+00 1.365e+03]\n",
            " [5.000e+00 1.488e+03]\n",
            " [6.000e+00 1.337e+03]\n",
            " [7.000e+00 1.883e+03]\n",
            " [8.000e+00 2.283e+03]\n",
            " [9.000e+00 1.335e+03]\n",
            " [1.000e+01 1.025e+03]]\n"
          ]
        }
      ]
    },
    {
      "cell_type": "code",
      "source": [],
      "metadata": {
        "id": "75fYk4zPTcsm"
      },
      "execution_count": null,
      "outputs": []
    }
  ]
}