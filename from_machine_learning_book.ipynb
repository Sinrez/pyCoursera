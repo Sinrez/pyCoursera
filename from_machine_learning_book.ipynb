{
  "nbformat": 4,
  "nbformat_minor": 0,
  "metadata": {
    "colab": {
      "provenance": [],
      "authorship_tag": "ABX9TyNznliF+kk0lykpI7Xu+MkB",
      "include_colab_link": true
    },
    "kernelspec": {
      "name": "python3",
      "display_name": "Python 3"
    },
    "language_info": {
      "name": "python"
    }
  },
  "cells": [
    {
      "cell_type": "markdown",
      "metadata": {
        "id": "view-in-github",
        "colab_type": "text"
      },
      "source": [
        "<a href=\"https://colab.research.google.com/github/Sinrez/pyCoursera/blob/master/from_machine_learning_book.ipynb\" target=\"_parent\"><img src=\"https://colab.research.google.com/assets/colab-badge.svg\" alt=\"Open In Colab\"/></a>"
      ]
    },
    {
      "cell_type": "code",
      "execution_count": 17,
      "metadata": {
        "colab": {
          "base_uri": "https://localhost:8080/"
        },
        "id": "9dR8GhXptnZI",
        "outputId": "1685d897-e6f7-4273-a85a-a653f7e7d881"
      },
      "outputs": [
        {
          "output_type": "stream",
          "name": "stdout",
          "text": [
            "Normal Python: 1.409112 sec\n",
            "Naive NumPy: 1.116826 sec\n",
            "Good NumPy: 0.017017 sec\n"
          ]
        }
      ],
      "source": [
        "import timeit\n",
        "normal_py_sec = timeit.timeit('sum(x*x for x in range(1000))',number=10000)\n",
        "naive_np_sec = timeit.timeit('sum(na*na)',setup=\"import numpy as np; na=np.arange(1000)\", number=10000)\n",
        "good_np_sec = timeit.timeit('na.dot(na)',setup=\"import numpy as np; na=np.arange(1000)\", number=10000)\n",
        "print(\"Normal Python: %f sec\" % normal_py_sec)\n",
        "print(\"Naive NumPy: %f sec\" % naive_np_sec)\n",
        "print(\"Good NumPy: %f sec\" % good_np_sec)"
      ]
    },
    {
      "cell_type": "code",
      "source": [
        "import scipy, numpy\n",
        "scipy.version.full_version\n",
        "scipy.dot is numpy.dot"
      ],
      "metadata": {
        "colab": {
          "base_uri": "https://localhost:8080/"
        },
        "id": "DCKrufZvuVRh",
        "outputId": "2e243db3-de4e-4703-cda4-3cb14c2b8100"
      },
      "execution_count": 1,
      "outputs": [
        {
          "output_type": "execute_result",
          "data": {
            "text/plain": [
              "False"
            ]
          },
          "metadata": {},
          "execution_count": 1
        }
      ]
    },
    {
      "cell_type": "code",
      "source": [
        "from io import StringIO\n",
        "import numpy as np\n",
        "import scipy as sp\n",
        "# data = sp.genfromtxt(\"/content/web_traffic.tsv\", delimiter = \"\\t\")\n",
        "data = np.genfromtxt(\"/content/web_traffic.tsv\", delimiter=\"\\t\")\n",
        "print(data[:10])"
      ],
      "metadata": {
        "colab": {
          "base_uri": "https://localhost:8080/"
        },
        "id": "Yrg3ff8FumZX",
        "outputId": "44bdae97-9983-45d3-acda-63b29e0ade6e"
      },
      "execution_count": 18,
      "outputs": [
        {
          "output_type": "stream",
          "name": "stdout",
          "text": [
            "[[1.000e+00 2.272e+03]\n",
            " [2.000e+00       nan]\n",
            " [3.000e+00 1.386e+03]\n",
            " [4.000e+00 1.365e+03]\n",
            " [5.000e+00 1.488e+03]\n",
            " [6.000e+00 1.337e+03]\n",
            " [7.000e+00 1.883e+03]\n",
            " [8.000e+00 2.283e+03]\n",
            " [9.000e+00 1.335e+03]\n",
            " [1.000e+01 1.025e+03]]\n"
          ]
        }
      ]
    },
    {
      "cell_type": "code",
      "source": [
        "x = data[:,0]\n",
        "y = data[:,1]\n"
      ],
      "metadata": {
        "id": "75fYk4zPTcsm"
      },
      "execution_count": 19,
      "outputs": []
    },
    {
      "cell_type": "code",
      "source": [
        "sp.sum(sp.isnan(y))"
      ],
      "metadata": {
        "colab": {
          "base_uri": "https://localhost:8080/"
        },
        "id": "aGcH4RrtqhDf",
        "outputId": "c69ddea5-97be-48d7-f2d8-b53b3a6e588a"
      },
      "execution_count": 20,
      "outputs": [
        {
          "output_type": "stream",
          "name": "stderr",
          "text": [
            "<ipython-input-20-d6e39c765d76>:1: DeprecationWarning: scipy.isnan is deprecated and will be removed in SciPy 2.0.0, use numpy.isnan instead\n",
            "  sp.sum(sp.isnan(y))\n",
            "<ipython-input-20-d6e39c765d76>:1: DeprecationWarning: scipy.sum is deprecated and will be removed in SciPy 2.0.0, use numpy.sum instead\n",
            "  sp.sum(sp.isnan(y))\n"
          ]
        },
        {
          "output_type": "execute_result",
          "data": {
            "text/plain": [
              "8"
            ]
          },
          "metadata": {},
          "execution_count": 20
        }
      ]
    },
    {
      "cell_type": "code",
      "source": [
        ">>> x = x[~sp.isnan(y)]\n",
        ">>> y = y[~sp.isnan(y)]"
      ],
      "metadata": {
        "colab": {
          "base_uri": "https://localhost:8080/"
        },
        "id": "HZulFA7Dq3OI",
        "outputId": "49593cdf-5c21-4de7-8266-75288ff5d182"
      },
      "execution_count": 43,
      "outputs": [
        {
          "output_type": "stream",
          "name": "stderr",
          "text": [
            "<ipython-input-43-63f409da33d3>:1: DeprecationWarning: scipy.isnan is deprecated and will be removed in SciPy 2.0.0, use numpy.isnan instead\n",
            "  x = x[~sp.isnan(y)]\n",
            "<ipython-input-43-63f409da33d3>:2: DeprecationWarning: scipy.isnan is deprecated and will be removed in SciPy 2.0.0, use numpy.isnan instead\n",
            "  y = y[~sp.isnan(y)]\n"
          ]
        }
      ]
    },
    {
      "cell_type": "code",
      "source": [
        ">>> import matplotlib.pyplot as plt\n",
        ">>> # представляем точки (x,y) кружочками диаметра 10\n",
        ">>> plt.scatter(x, y, s=10)\n",
        ">>> plt.title(\"Web traffic over the last month\")\n",
        ">>> plt.xlabel(\"Time\")\n",
        ">>> plt.ylabel(\"Hits/hour\")\n",
        ">>> plt.xticks([w*7*24 for w in range(10)],\n",
        "                 ['week %i' % w for w in range(10)])\n",
        ">>> plt.autoscale(tight=True)\n",
        ">>> # рисуем полупрозрачную сетку пунктирными линиями\n",
        ">>> plt.grid(True, linestyle='-', color='0.75')\n",
        ">>> plt.show()"
      ],
      "metadata": {
        "colab": {
          "base_uri": "https://localhost:8080/",
          "height": 295
        },
        "id": "4yQwnvJSq-f8",
        "outputId": "b436439f-5c98-4a5c-998b-778eecf998c1"
      },
      "execution_count": 22,
      "outputs": [
        {
          "output_type": "display_data",
          "data": {
            "text/plain": [
              "<Figure size 432x288 with 1 Axes>"
            ],
            "image/png": "[encoded data removed]"
          },
          "metadata": {
            "needs_background": "light"
          }
        }
      ]
    },
    {
      "cell_type": "code",
      "source": [
        "def error(f, x, y):\n",
        "     return sp.sum((f(x)-y)**2)"
      ],
      "metadata": {
        "id": "8Xg6P-cjx8mA"
      },
      "execution_count": 16,
      "outputs": []
    },
    {
      "cell_type": "code",
      "source": [
        "fp1, residuals, rank, sv, rcond = sp.polyfit(x, y, 1, full=True)"
      ],
      "metadata": {
        "colab": {
          "base_uri": "https://localhost:8080/"
        },
        "id": "_iACa4CNXglx",
        "outputId": "de4523ad-c345-48ff-b00f-8c50be6ecf19"
      },
      "execution_count": 23,
      "outputs": [
        {
          "output_type": "stream",
          "name": "stderr",
          "text": [
            "<ipython-input-23-176abcef6c22>:1: DeprecationWarning: scipy.polyfit is deprecated and will be removed in SciPy 2.0.0, use numpy.polyfit instead\n",
            "  fp1, residuals, rank, sv, rcond = sp.polyfit(x, y, 1, full=True)\n"
          ]
        }
      ]
    },
    {
      "cell_type": "code",
      "source": [
        "print(\"Параметры модели: %s\" % fp1)\n",
        "print(residuals)"
      ],
      "metadata": {
        "colab": {
          "base_uri": "https://localhost:8080/"
        },
        "id": "AevSACKEXvox",
        "outputId": "943bd1eb-60de-4c78-e927-ba7ef92c461d"
      },
      "execution_count": 25,
      "outputs": [
        {
          "output_type": "stream",
          "name": "stdout",
          "text": [
            "Параметры модели: [  2.59619213 989.02487106]\n",
            "[3.17389767e+08]\n"
          ]
        }
      ]
    },
    {
      "cell_type": "markdown",
      "source": [
        " f(x) = 2.59619213 * x + 989.02487106"
      ],
      "metadata": {
        "id": "A_BLjhgnX9vX"
      }
    },
    {
      "cell_type": "code",
      "source": [
        ">>> f1 = sp.poly1d(fp1)\n",
        ">>> print(error(f1, x, y))"
      ],
      "metadata": {
        "colab": {
          "base_uri": "https://localhost:8080/"
        },
        "id": "DnTiMMkuXzgj",
        "outputId": "5f8e1e70-c17d-49a8-e502-ac2c565aeb7e"
      },
      "execution_count": 39,
      "outputs": [
        {
          "output_type": "stream",
          "name": "stdout",
          "text": [
            "317389767.33977807\n"
          ]
        },
        {
          "output_type": "stream",
          "name": "stderr",
          "text": [
            "<ipython-input-16-4c7a863c8cc8>:2: DeprecationWarning: scipy.sum is deprecated and will be removed in SciPy 2.0.0, use numpy.sum instead\n",
            "  return sp.sum((f(x)-y)**2)\n"
          ]
        }
      ]
    },
    {
      "cell_type": "code",
      "source": [
        "fx = sp.linspace(0,x[-1], 1000) # сгенерировать значения X для графика \n",
        "plt.plot(fx, f1(fx), linewidth=4)\n",
        "plt.legend([\"d=%i\" % f1.order], loc=\"upper left\")"
      ],
      "metadata": {
        "colab": {
          "base_uri": "https://localhost:8080/",
          "height": 342
        },
        "id": "895tLg21YFYe",
        "outputId": "ee8cc54e-13a9-4698-cd6e-b604d60b882d"
      },
      "execution_count": 40,
      "outputs": [
        {
          "output_type": "stream",
          "name": "stderr",
          "text": [
            "<ipython-input-40-b9820c9f9c4a>:1: DeprecationWarning: scipy.linspace is deprecated and will be removed in SciPy 2.0.0, use numpy.linspace instead\n",
            "  fx = sp.linspace(0,x[-1], 1000) # сгенерировать значения X для графика\n"
          ]
        },
        {
          "output_type": "execute_result",
          "data": {
            "text/plain": [
              "<matplotlib.legend.Legend at 0x7fba5cbb57c0>"
            ]
          },
          "metadata": {},
          "execution_count": 40
        },
        {
          "output_type": "display_data",
          "data": {
            "text/plain": [
              "<Figure size 432x288 with 1 Axes>"
            ],
            "image/png": "[encoded data removed]"
          },
          "metadata": {
            "needs_background": "light"
          }
        }
      ]
    },
    {
      "cell_type": "code",
      "source": [
        ">>> f2p = sp.polyfit(x, y, 2)\n",
        ">>> print(f2p)"
      ],
      "metadata": {
        "colab": {
          "base_uri": "https://localhost:8080/"
        },
        "id": "XfQbu8ipcYlI",
        "outputId": "15af4cd5-eab6-4b80-8a09-c8ecc5826c64"
      },
      "execution_count": 35,
      "outputs": [
        {
          "output_type": "stream",
          "name": "stdout",
          "text": [
            "[ 1.05322215e-02 -5.26545650e+00  1.97476082e+03]\n"
          ]
        },
        {
          "output_type": "stream",
          "name": "stderr",
          "text": [
            "<ipython-input-35-517e130e6db7>:1: DeprecationWarning: scipy.polyfit is deprecated and will be removed in SciPy 2.0.0, use numpy.polyfit instead\n",
            "  f2p = sp.polyfit(x, y, 2)\n"
          ]
        }
      ]
    },
    {
      "cell_type": "code",
      "source": [
        ">>> f2 = sp.poly1d(f2p)\n",
        ">>> print(error(f2, x, y))"
      ],
      "metadata": {
        "colab": {
          "base_uri": "https://localhost:8080/"
        },
        "id": "KIc6MRsAcgXX",
        "outputId": "5453ffd2-c8d3-491e-a3a8-a7d0728ca3b1"
      },
      "execution_count": 36,
      "outputs": [
        {
          "output_type": "stream",
          "name": "stdout",
          "text": [
            "179983507.8781792\n"
          ]
        },
        {
          "output_type": "stream",
          "name": "stderr",
          "text": [
            "<ipython-input-16-4c7a863c8cc8>:2: DeprecationWarning: scipy.sum is deprecated and will be removed in SciPy 2.0.0, use numpy.sum instead\n",
            "  return sp.sum((f(x)-y)**2)\n"
          ]
        }
      ]
    },
    {
      "cell_type": "code",
      "source": [
        "fx = sp.linspace(0,x[-1], 1000) # сгенерировать значения X для графика \n",
        "plt.plot(fx, f2(fx), linewidth=4)\n",
        "plt.legend([\"d=%i\" % f1.order], loc=\"upper left\")"
      ],
      "metadata": {
        "colab": {
          "base_uri": "https://localhost:8080/",
          "height": 343
        },
        "id": "K0T4u_7JclLY",
        "outputId": "296e1c76-2fe5-499e-8f94-fc094b9fc8d6"
      },
      "execution_count": 38,
      "outputs": [
        {
          "output_type": "stream",
          "name": "stderr",
          "text": [
            "<ipython-input-38-14082f52bd61>:1: DeprecationWarning: scipy.linspace is deprecated and will be removed in SciPy 2.0.0, use numpy.linspace instead\n",
            "  fx = sp.linspace(0,x[-1], 1000) # сгенерировать значения X для графика\n"
          ]
        },
        {
          "output_type": "execute_result",
          "data": {
            "text/plain": [
              "<matplotlib.legend.Legend at 0x7fba5cbb5b50>"
            ]
          },
          "metadata": {},
          "execution_count": 38
        },
        {
          "output_type": "display_data",
          "data": {
            "text/plain": [
              "<Figure size 432x288 with 1 Axes>"
            ],
            "image/png": "[encoded data removed]"
          },
          "metadata": {
            "needs_background": "light"
          }
        }
      ]
    },
    {
      "cell_type": "code",
      "source": [
        "from bisect import bisect_left\n",
        "\n",
        "inflection = 3.5*7*24\n",
        "index_xa = bisect_left(x,inflection,0,len(x)) #binary search to locate the index where inflection should be inserted.\n",
        "xa  =  x[:index_xa]\n",
        "ya  =  y[:index_xa]\n",
        "xb  =  x[index_xa:]\n",
        "yb  =  y[index_xa:]"
      ],
      "metadata": {
        "id": "391VAWxTgOwY"
      },
      "execution_count": 48,
      "outputs": []
    },
    {
      "cell_type": "code",
      "source": [
        "fa = sp.poly1d(sp.polyfit(xa, ya, 1))\n",
        "fb = sp.poly1d(sp.polyfit(xb, yb, 1))\n",
        "fa_error = error(fa, xa, ya)\n",
        "fb_error = error(fb, xb, yb)\n",
        "print(\"Error inflection=%f\" % (fa_error + fb_error))"
      ],
      "metadata": {
        "colab": {
          "base_uri": "https://localhost:8080/"
        },
        "id": "wFys13OLg8iC",
        "outputId": "d9f89b89-b474-4265-df83-4c1eae133269"
      },
      "execution_count": 49,
      "outputs": [
        {
          "output_type": "stream",
          "name": "stdout",
          "text": [
            "Error inflection=135280910.179210\n"
          ]
        },
        {
          "output_type": "stream",
          "name": "stderr",
          "text": [
            "<ipython-input-49-6074f9abf4b1>:1: DeprecationWarning: scipy.polyfit is deprecated and will be removed in SciPy 2.0.0, use numpy.polyfit instead\n",
            "  fa = sp.poly1d(sp.polyfit(xa, ya, 1))\n",
            "<ipython-input-49-6074f9abf4b1>:2: DeprecationWarning: scipy.polyfit is deprecated and will be removed in SciPy 2.0.0, use numpy.polyfit instead\n",
            "  fb = sp.poly1d(sp.polyfit(xb, yb, 1))\n",
            "<ipython-input-16-4c7a863c8cc8>:2: DeprecationWarning: scipy.sum is deprecated and will be removed in SciPy 2.0.0, use numpy.sum instead\n",
            "  return sp.sum((f(x)-y)**2)\n"
          ]
        }
      ]
    },
    {
      "cell_type": "code",
      "source": [],
      "metadata": {
        "id": "Kjs6qWQ2hAhq"
      },
      "execution_count": null,
      "outputs": []
    }
  ]
}