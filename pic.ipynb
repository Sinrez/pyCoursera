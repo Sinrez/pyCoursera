{
  "nbformat": 4,
  "nbformat_minor": 0,
  "metadata": {
    "colab": {
      "provenance": [],
      "authorship_tag": "ABX9TyPzhOtcNKzZlGX1S9ELjs0Y",
      "include_colab_link": true
    },
    "kernelspec": {
      "name": "python3",
      "display_name": "Python 3"
    },
    "language_info": {
      "name": "python"
    }
  },
  "cells": [
    {
      "cell_type": "markdown",
      "metadata": {
        "id": "view-in-github",
        "colab_type": "text"
      },
      "source": [
        "<a href=\"https://colab.research.google.com/github/Sinrez/pyCoursera/blob/master/pic.ipynb\" target=\"_parent\"><img src=\"https://colab.research.google.com/assets/colab-badge.svg\" alt=\"Open In Colab\"/></a>"
      ]
    },
    {
      "cell_type": "markdown",
      "source": [
        "Основная версия"
      ],
      "metadata": {
        "id": "bcdtmYb4hj_O"
      }
    },
    {
      "cell_type": "code",
      "execution_count": null,
      "metadata": {
        "colab": {
          "base_uri": "https://localhost:8080/"
        },
        "id": "mqA3DWRqoNIB",
        "outputId": "87808aaa-0634-47fa-d82e-032d11b094bc"
      },
      "outputs": [
        {
          "name": "stdout",
          "output_type": "stream",
          "text": [
            "Введите высоту картинки, целое число: 200\n",
            "Введите ширину картинки, целое число: 200\n"
          ]
        }
      ],
      "source": [
        "#!/usr/bin/python\n",
        "from PIL import Image\n",
        "import os, sys\n",
        "path = \"/content\" # Путь до папки с картинками /content/1674639508.jpg\n",
        "dirs = os.listdir(path)\n",
        "def resize(width, height):\n",
        "  try:\n",
        "    for item in dirs:\n",
        "        if os.path.isfile(path+'/'+item):\n",
        "            im = Image.open(path+'/'+item)\n",
        "            f, e = os.path.splitext(path+'/'+item)\n",
        "            imResize = im.resize((width,height), Image.ANTIALIAS)\n",
        "            imResize.save(f + ' resized.jpg', 'JPEG', quality=90)\n",
        "  except UnidentifiedImageError as ue:\n",
        "    print(f'Произошел обсер с {ue}')\n",
        "  except Exception as ex:\n",
        "    print(f'Ошибка {ex}')\n",
        "\n",
        "\n",
        "if __name__ =='__main__':\n",
        "   width = int(input('Введите высоту картинки, целое число: '))\n",
        "   height = int(input('Введите ширину картинки, целое число: '))\n",
        "   resize(width, height)"
      ]
    },
    {
      "cell_type": "markdown",
      "source": [
        "версия 2, черновик"
      ],
      "metadata": {
        "id": "X8bi79PohekF"
      }
    },
    {
      "cell_type": "code",
      "source": [
        "#!/usr/bin/python\n",
        "from PIL import Image\n",
        "import os, sys\n",
        "path = \"/content\" # Путь до папки с картинками /content/1674639508.jpg\n",
        "dirs = os.listdir(path)\n",
        "def resize(width, height):\n",
        "  try:\n",
        "    for item in dirs:\n",
        "      if 'resized' in item:\n",
        "        continue\n",
        "      elif os.path.isfile(path+'/'+item):\n",
        "            im = Image.open(path+'/'+item)\n",
        "            f, e = os.path.splitext(item)\n",
        "            imResize = im.resize((width,height), Image.ANTIALIAS)\n",
        "            imResize.save('/content/result/'+f + ' resized.jpg', 'JPEG', quality=90)\n",
        "  except FileNotFoundError as fn:\n",
        "    print(f'Не найден файл {fn}')\n",
        "  except Exception as ex:\n",
        "    print(f'Ошибка {ex}')\n",
        "\n",
        "\n",
        "if __name__ =='__main__':\n",
        "   width = int(input('Введите высоту картинки, целое число: '))\n",
        "   height = int(input('Введите ширину картинки, целое число: '))\n",
        "   resize(width, height)"
      ],
      "metadata": {
        "id": "wMsJGq_zheH9",
        "colab": {
          "base_uri": "https://localhost:8080/"
        },
        "outputId": "d496137e-6f5a-464f-9b79-8193e5cfe88c"
      },
      "execution_count": 20,
      "outputs": [
        {
          "name": "stdout",
          "output_type": "stream",
          "text": [
            "Введите высоту картинки, целое число: 200\n",
            "Введите ширину картинки, целое число: 200\n"
          ]
        }
      ]
    },
    {
      "cell_type": "code",
      "source": [
        "from google.colab import drive\n",
        "drive.mount('/content/drive')"
      ],
      "metadata": {
        "id": "foIVn1jUjFPV"
      },
      "execution_count": null,
      "outputs": []
    },
    {
      "cell_type": "markdown",
      "source": [
        "# New Section"
      ],
      "metadata": {
        "id": "_3WoX6hZjMmy"
      }
    }
  ]
}